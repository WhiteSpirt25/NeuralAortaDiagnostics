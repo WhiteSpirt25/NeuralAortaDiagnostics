{
 "cells": [
  {
   "cell_type": "markdown",
   "id": "a1afd43d-d8c6-4d7c-90f1-3e194d1b2d2b",
   "metadata": {},
   "source": [
    "# Importing libraries"
   ]
  },
  {
   "cell_type": "code",
   "execution_count": 2,
   "id": "553b9f44-570c-4797-a213-796615f0efdf",
   "metadata": {},
   "outputs": [],
   "source": [
    "import matplotlib.pyplot as plt\n",
    "\n",
    "from skimage import data, color, img_as_ubyte\n",
    "from skimage.feature import canny\n",
    "from skimage.transform import hough_ellipse\n",
    "from skimage.draw import ellipse_perimeter\n",
    "import cv2\n",
    "import pickle\n",
    "import sparse\n",
    "import numpy as np"
   ]
  },
  {
   "cell_type": "code",
   "execution_count": null,
   "id": "042a97ee-b907-4682-ba69-96b56a64b752",
   "metadata": {},
   "outputs": [],
   "source": [
    "def load_sparce_npz(path:str):\n",
    "    '''\n",
    "    Loads npy array as sparce pickled scipy matrix.\n",
    "    '''\n",
    "    with open(path,'rb') as file:\n",
    "        s = pickle.load(file)\n",
    "    \n",
    "    # convert to numpy array\n",
    "    s = s.todense()\n",
    "    if len(s.shape) == 2:\n",
    "      return s\n",
    "    return np.transpose(s,[1,2,0])"
   ]
  },
  {
   "cell_type": "markdown",
   "id": "b33f3682-b529-4a44-851d-31487581881a",
   "metadata": {},
   "source": [
    "# Loading test mask"
   ]
  },
  {
   "cell_type": "code",
   "execution_count": null,
   "id": "405167ef-6b13-46e1-8ce4-1cc32a1945ed",
   "metadata": {},
   "outputs": [],
   "source": [
    "mask = load_sparce_npz(r\"path to mask file\")"
   ]
  },
  {
   "cell_type": "code",
   "execution_count": null,
   "id": "dba0fd44-070f-4f29-a8e4-72409b4e5d95",
   "metadata": {},
   "outputs": [
    {
     "data": {
      "text/plain": [
       "<matplotlib.image.AxesImage at 0x2a058f669d0>"
      ]
     },
     "execution_count": 6,
     "metadata": {},
     "output_type": "execute_result"
    },
    {
     "data": {
      "image/png": "[encoded data removed]",
      "text/plain": [
       "<Figure size 432x288 with 1 Axes>"
      ]
     },
     "metadata": {
      "needs_background": "light"
     },
     "output_type": "display_data"
    }
   ],
   "source": [
    "plt.imshow(mask)"
   ]
  },
  {
   "cell_type": "markdown",
   "id": "bed1cc03-7b72-4b41-b130-ad7377f04f5c",
   "metadata": {},
   "source": [
    "# My method"
   ]
  },
  {
   "cell_type": "code",
   "execution_count": 20,
   "id": "701254c7-58ce-487a-8b4f-e2f91f71ee3b",
   "metadata": {
    "tags": []
   },
   "outputs": [],
   "source": [
    "def get_ellipse_stats(mask,draw_picture=False):\n",
    "    edges = canny(mask, sigma=2.0,\n",
    "              low_threshold=0.55, high_threshold=0.8)\n",
    "    result = hough_ellipse(edges,accuracy=15,min_size=8)\n",
    "    result.sort(order='accumulator')\n",
    "    best = list(result[-1])\n",
    "    yc, xc, a, b = [x for x in best[1:5]]\n",
    "    \n",
    "    if draw_picture:\n",
    "        orientation = best[5]\n",
    "        # Draw the ellipse on the original image\n",
    "        cy, cx = ellipse_perimeter(int(yc), int(xc), int(a), int(b), orientation)\n",
    "        # Draw the edge (white) and the resulting ellipse (red)\n",
    "        edges = color.gray2rgb(img_as_ubyte(edges))\n",
    "        edges = draw_ellipse_axis(edges,yc,xc,a,b,orientation)\n",
    "        edges[cy, cx] = (250, 0, 0)\n",
    "        plt.figure(figsize=(7,7))\n",
    "        plt.imshow(edges)\n",
    "        plt.axis('off')\n",
    "        plt.show()\n",
    "    return (a*2,b*2)\n",
    "\n",
    "def get_line_stats(yc,xc,half_length,orientation):\n",
    "    x1 = xc - np.cos(orientation) * half_length\n",
    "    x2 = xc + np.cos(orientation) * half_length\n",
    "    \n",
    "    y1 = yc - np.sin(orientation) * half_length\n",
    "    y2 = yc + np.sin(orientation) * half_length\n",
    "    \n",
    "    return ((int(x1),int(y1)),(int(x2),int(y2)))\n",
    "\n",
    "def draw_ellipse_axis(image,yc, xc, a, b,orientation,text=None):\n",
    "    \n",
    "    bigger_color = (0, 255, 0)\n",
    "    smaller_color = (0, 120, 255)\n",
    "    # getting axis start-end\n",
    "    if a>b:\n",
    "        a_color = bigger_color\n",
    "        b_color = smaller_color\n",
    "    else:\n",
    "        b_color = bigger_color\n",
    "        a_color = smaller_color\n",
    "        \n",
    "    xy1,xy2 = get_line_stats(yc,xc,a,orientation + 3.14/2)\n",
    "    # line\n",
    "    image = cv2.line(image, xy1,xy2, a_color, 1)\n",
    "    \n",
    "    xy1,xy2 = get_line_stats(yc,xc,b,orientation)\n",
    "    # line\n",
    "    image = cv2.line(image, xy1,xy2, b_color, 1)\n",
    "    # text\n",
    "    if text:\n",
    "        font = cv2.FONT_HERSHEY_SIMPLEX\n",
    "        cv2.putText(image, text, (xc,yc), font, 1, 255, 2)\n",
    "\n",
    "        # Rotate the image using cv2.warpAffine()\n",
    "        M = cv2.getRotationMatrix2D(text_location, angle, 1)\n",
    "        out = cv2.warpAffine(img, M, (img.shape[1], img.shape[0]))\n",
    "    \n",
    "    return image\n",
    "    \n",
    "def delete_blob(image,coordinates):\n",
    "    flood_img = np.copy(image)\n",
    "    #mask = np.zeros((H+2, W+2), np.uint8)\n",
    "    _ = cv2.floodFill(flood_img,None,coordinates,255)\n",
    "    return flood_img\n",
    "\n",
    "def find_aorta_pixel_size(image,draw_ellipse_picture= False):\n",
    "    params = cv2.SimpleBlobDetector_Params()\n",
    "\n",
    "    # Change thresholds\n",
    "    params.minThreshold = 0\n",
    "    params.maxThreshold = 200\n",
    "\n",
    "    # Set Area filtering parameters\n",
    "    params.filterByArea = True\n",
    "    params.minArea = 10\n",
    "    #params.maxArea = 1000000\n",
    "\n",
    "    # Set Circularity filtering parameters\n",
    "    params.filterByCircularity = False\n",
    "    params.minCircularity = 0.5\n",
    "\n",
    "    # Set Convexity filtering parameters\n",
    "    params.filterByConvexity = False\n",
    "    params.minConvexity = 0.6\n",
    "\n",
    "    # Set inertia filtering parameters\n",
    "    params.filterByInertia = False\n",
    "    params.minInertiaRatio = 0.01\n",
    "\n",
    "    # Create a detector with the parameters\n",
    "    detector = cv2.SimpleBlobDetector_create(params)\n",
    "\n",
    "    # Detect blobs\n",
    "    test_image = image.copy().astype('uint8')\n",
    "    test_image[test_image==1] = 255\n",
    "    test_image = cv2.bitwise_not(test_image)\n",
    "    #test_image = cv2.bitwise_not(test_image)\n",
    "    keypoints = detector.detect(test_image)\n",
    "    if len(keypoints) > 2:\n",
    "        print(f'Error: {len(keypoints)} detected')\n",
    "        raise\n",
    "    elif len(keypoints) == 2:\n",
    "        sizes = []\n",
    "        for k in keypoints:\n",
    "            coord = [int(p) for p in k.pt]\n",
    "            clean_img = delete_blob(test_image,coord)\n",
    "            #plt.imshow(clean_img)\n",
    "            sizes.append(get_ellipse_stats(clean_img,draw_ellipse_picture))\n",
    "    else:\n",
    "        sizes = []\n",
    "        sizes.append(get_ellipse_stats(test_image,draw_ellipse_picture))\n",
    "    return sizes\n",
    "\n",
    "def find_aorta_size(image,pixel_spacing = 0.7808):\n",
    "    return [pixels * pixel_spacing for pixels in find_aorta_pixel_size(image)]"
   ]
  },
  {
   "cell_type": "markdown",
   "id": "e0bda38d-2493-47a4-b6ac-eff2b454008f",
   "metadata": {
    "tags": []
   },
   "source": [
    "# Testing method"
   ]
  },
  {
   "cell_type": "code",
   "execution_count": 21,
   "id": "0f9faf6e-24c0-4c2e-b1c9-25a92e97e276",
   "metadata": {},
   "outputs": [
    {
     "data": {
      "image/png": "[encoded data removed]",
      "text/plain": [
       "<Figure size 504x504 with 1 Axes>"
      ]
     },
     "metadata": {
      "needs_background": "light"
     },
     "output_type": "display_data"
    },
    {
     "data": {
      "image/png": "[encoded data removed]",
      "text/plain": [
       "<Figure size 504x504 with 1 Axes>"
      ]
     },
     "metadata": {
      "needs_background": "light"
     },
     "output_type": "display_data"
    },
    {
     "data": {
      "text/plain": [
       "[(51.478150704935004, 42.42640687119285),\n",
       " (67.08203932499369, 67.77905281132217)]"
      ]
     },
     "execution_count": 21,
     "metadata": {},
     "output_type": "execute_result"
    }
   ],
   "source": [
    "find_aorta_pixel_size(mask,True)"
   ]
  }
 ],
 "metadata": {
  "kernelspec": {
   "display_name": "Python 3 (ipykernel)",
   "language": "python",
   "name": "python3"
  },
  "language_info": {
   "codemirror_mode": {
    "name": "ipython",
    "version": 3
   },
   "file_extension": ".py",
   "mimetype": "text/x-python",
   "name": "python",
   "nbconvert_exporter": "python",
   "pygments_lexer": "ipython3",
   "version": "3.8.6"
  }
 },
 "nbformat": 4,
 "nbformat_minor": 5
}
