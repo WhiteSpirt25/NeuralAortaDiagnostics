{
 "cells": [
  {
   "cell_type": "markdown",
   "metadata": {
    "id": "Te9qmS15CaWZ"
   },
   "source": [
    "# colab shenanigans"
   ]
  },
  {
   "cell_type": "code",
   "execution_count": null,
   "metadata": {
    "colab": {
     "base_uri": "https://localhost:8080/"
    },
    "id": "j00ad4-8_g8j",
    "outputId": "722a0231-aeef-4225-f1af-805ed82ff21a"
   },
   "outputs": [
    {
     "name": "stdout",
     "output_type": "stream",
     "text": [
      "Mounted at /content/gdrive\n"
     ]
    }
   ],
   "source": [
    "from google.colab import drive\n",
    "drive.mount('/content/gdrive')"
   ]
  },
  {
   "cell_type": "code",
   "execution_count": null,
   "metadata": {
    "id": "i_9ELLmlZ3LX"
   },
   "outputs": [],
   "source": [
    "DATASET_NAME = 'meta_aorta'"
   ]
  },
  {
   "cell_type": "code",
   "execution_count": null,
   "metadata": {
    "id": "q9mKv6NRvRR6"
   },
   "outputs": [],
   "source": [
    "zip_file_path = f'/content/gdrive/MyDrive/Aorta/{DATASET_NAME}.zip'"
   ]
  },
  {
   "cell_type": "code",
   "execution_count": null,
   "metadata": {
    "id": "hN6lze4UCZ6J"
   },
   "outputs": [],
   "source": [
    "!unzip -q {zip_file_path} -d /content"
   ]
  },
  {
   "cell_type": "code",
   "execution_count": null,
   "metadata": {
    "colab": {
     "base_uri": "https://localhost:8080/"
    },
    "id": "YbQZ4X99DX90",
    "outputId": "f411514d-9c42-4153-db7b-7dbeca40de9e"
   },
   "outputs": [
    {
     "name": "stdout",
     "output_type": "stream",
     "text": [
      "\u001b[K     |████████████████████████████████| 88 kB 5.2 MB/s \n",
      "\u001b[K     |████████████████████████████████| 376 kB 59.5 MB/s \n",
      "\u001b[K     |████████████████████████████████| 58 kB 7.7 MB/s \n",
      "\u001b[?25h  Building wheel for efficientnet-pytorch (setup.py) ... \u001b[?25l\u001b[?25hdone\n",
      "  Building wheel for pretrainedmodels (setup.py) ... \u001b[?25l\u001b[?25hdone\n",
      "\u001b[K     |████████████████████████████████| 60.4 MB 1.3 MB/s \n",
      "\u001b[31mERROR: pip's dependency resolver does not currently take into account all the packages that are installed. This behaviour is the source of the following dependency conflicts.\n",
      "albumentations 0.1.12 requires imgaug<0.2.7,>=0.2.5, but you have imgaug 0.2.9 which is incompatible.\u001b[0m\n",
      "\u001b[K     |████████████████████████████████| 102 kB 8.1 MB/s \n",
      "\u001b[K     |████████████████████████████████| 47.8 MB 46 kB/s \n",
      "\u001b[?25h"
     ]
    }
   ],
   "source": [
    "!pip install -q segmentation-models-pytorch\n",
    "!pip install -q opencv-python==4.5.5.62\n",
    "!pip install --upgrade -q albumentations==1.1.0"
   ]
  },
  {
   "cell_type": "code",
   "execution_count": null,
   "metadata": {
    "colab": {
     "base_uri": "https://localhost:8080/"
    },
    "id": "1qrqSM72vvY-",
    "outputId": "f7ca6e3a-41b5-4763-ea4e-617e2e9e3112"
   },
   "outputs": [
    {
     "name": "stdout",
     "output_type": "stream",
     "text": [
      "\u001b[K     |████████████████████████████████| 77 kB 4.6 MB/s eta 0:00:011\n",
      "\u001b[?25h"
     ]
    }
   ],
   "source": [
    "!pip -q install sparse"
   ]
  },
  {
   "cell_type": "markdown",
   "metadata": {
    "id": "leKryB0sCK6d",
    "tags": []
   },
   "source": [
    "# Pipeline"
   ]
  },
  {
   "cell_type": "code",
   "execution_count": 2,
   "metadata": {
    "id": "egHRWSpxCK6f"
   },
   "outputs": [],
   "source": [
    "import segmentation_models_pytorch as smp"
   ]
  },
  {
   "cell_type": "code",
   "execution_count": 3,
   "metadata": {
    "id": "-HKg9Hp9CK6g"
   },
   "outputs": [],
   "source": [
    "import pandas as pd\n",
    "def list_dict_mean(dictionary:dict):\n",
    "    return pd.DataFrame(dictionary).median()"
   ]
  },
  {
   "cell_type": "code",
   "execution_count": 4,
   "metadata": {
    "id": "FB6SpgIPCK6h"
   },
   "outputs": [],
   "source": [
    "def plotter(train_logs, valid_logs, metrics):\n",
    "    for param in metrics:\n",
    "        tr_lst = [d[param] for d in train_logs]\n",
    "        val_lst = [d[param] for d in valid_logs]\n",
    "        \n",
    "        plt.title(f'Plot for {param}')\n",
    "        plt.plot(tr_lst,label = 'Train')\n",
    "        plt.plot(val_lst,label = 'Validation')\n",
    "        plt.legend()\n",
    "        plt.show()"
   ]
  },
  {
   "cell_type": "code",
   "execution_count": 5,
   "metadata": {
    "id": "m5p3aMSewmxX"
   },
   "outputs": [],
   "source": [
    "def seed_everything(seed: int):\n",
    "    import random, os\n",
    "    import numpy as np\n",
    "    import torch\n",
    "    \n",
    "    random.seed(seed)\n",
    "    os.environ['PYTHONHASHSEED'] = str(seed)\n",
    "    np.random.seed(seed)\n",
    "    torch.manual_seed(seed)\n",
    "    torch.cuda.manual_seed(seed)\n",
    "    torch.backends.cudnn.deterministic = True\n",
    "    torch.backends.cudnn.benchmark = True\n",
    "    \n",
    "seed_everything(42)"
   ]
  },
  {
   "cell_type": "markdown",
   "metadata": {
    "id": "XdKnxrx_CK6h",
    "tags": []
   },
   "source": [
    "## DataSet"
   ]
  },
  {
   "cell_type": "markdown",
   "metadata": {
    "id": "dAPp4WqjCK6j"
   },
   "source": [
    "### Numpy saved dataset"
   ]
  },
  {
   "cell_type": "markdown",
   "metadata": {
    "id": "3fQu888bCK6j"
   },
   "source": [
    "import os\n",
    "\n",
    "from torch.utils import data\n",
    "from PIL import Image\n",
    "import torch\n",
    "import torchvision.transforms as T\n",
    "import torchvision.transforms.functional as TF\n",
    "\n",
    "class npyDataset(data.Dataset):\n",
    "    \n",
    "    # initialise function of class\n",
    "    def __init__(self, root, augmentations = None,image_only_aug = None, preprocessing = None):\n",
    "        # the data directory \n",
    "        self.root = root\n",
    "        # the list of filename\n",
    "        self.filenames = os.listdir(os.path.join(root,'images'))\n",
    "        #self.target_transform = target_transform\n",
    "        self.augmentation = augmentations\n",
    "        self.image_only_aug = image_only_aug\n",
    "c        self.preprocessing = preprocessing\n",
    "\n",
    "    # obtain the sample with the given index\n",
    "    def __getitem__(self, index):\n",
    "        # obtain filenames from list\n",
    "        image_filename = self.filenames[index]\n",
    "        # Load data and label\n",
    "        image = cv2.imread(os.path.join(self.root,'images', image_filename))\n",
    "        image = cv2.cvtColor(image, cv2.COLOR_BGR2RGB)\n",
    "        \n",
    "        pre, ext = os.path.splitext(image_filename)\n",
    "        mask_filename =  pre + '.npy'\n",
    "        \n",
    "        with open(os.path.join(self.root,'masks', mask_filename), 'rb') as f:\n",
    "            mask = np.load(f)\n",
    "        \n",
    "        #made binary\n",
    "        mask = (mask != 0).astype('float')\n",
    "                   \n",
    "        # apply augmentations\n",
    "        if self.augmentation:\n",
    "            sample = self.augmentation(image=image, mask=mask)\n",
    "            image, mask = sample['image'], sample['mask']\n",
    "        \n",
    "        \n",
    "        if self.image_only_aug:\n",
    "            sample = self.image_only_aug(image=image)\n",
    "            image = sample['image']\n",
    "            \n",
    "        # apply preprocessing\n",
    "        if self.preprocessing:\n",
    "            sample = self.preprocessing(image=image, mask=mask)\n",
    "            image, mask = sample['image'], sample['mask']\n",
    "            \n",
    "        image=image.float()\n",
    "        '''\n",
    "        # universal preprocessing\n",
    "        image = TF.to_tensor(tr['image'])\n",
    "        image = TF.normalize(image,(0.485, 0.456, 0.406),      # normalize image for pre-trained model\n",
    "                         (0.229, 0.224, 0.225))\n",
    "        mask = tr['mask']\n",
    "        '''\n",
    "        # output of Dataset must be tensor so tensor in transforms\n",
    "        return image, mask\n",
    "    \n",
    "    # the total number of samples (optional)\n",
    "    def __len__(self):\n",
    "        return len(self.filenames)"
   ]
  },
  {
   "cell_type": "markdown",
   "metadata": {
    "id": "_e1nnxzqQZjl"
   },
   "source": [
    "import os\n",
    "\n",
    "from torch.utils import data\n",
    "from PIL import Image\n",
    "import torch\n",
    "import torchvision.transforms as T\n",
    "import torchvision.transforms.functional as TF\n",
    "\n",
    "class npyDatasetInMem(data.Dataset):\n",
    "    \n",
    "    # initialise function of class\n",
    "    def __init__(self, root, augmentations = None,image_only_aug = None, preprocessing = None):\n",
    "        # the data directory \n",
    "        self.root = root\n",
    "        # the list of filename\n",
    "        self.filenames = os.listdir(os.path.join(root,'images'))\n",
    "        #self.target_transform = target_transform\n",
    "        self.augmentation = augmentations\n",
    "        self.image_only_aug = image_only_aug\n",
    "        self.preprocessing = preprocessing\n",
    "        \n",
    "        self.images = []\n",
    "        self.masks = []\n",
    "        for image_filename in self.filenames:\n",
    "            img = cv2.imread(os.path.join(self.root,'images', image_filename))\n",
    "            self.images.append(img)\n",
    "            \n",
    "            pre, ext = os.path.splitext(image_filename)\n",
    "            mask_filename =  pre + '.npy'\n",
    "            \n",
    "            with open(os.path.join(self.root,'masks', mask_filename), 'rb') as f:\n",
    "                mask = np.load(f)\n",
    "                \n",
    "            mask = (mask != 0).astype('float')\n",
    "            self.masks.append(mask)\n",
    "        \n",
    "        self.images = np.array(self.images,dtype=object)\n",
    "        self.masks = np.array(self.masks,dtype=object)\n",
    "\n",
    "    # obtain the sample with the given index\n",
    "    def __getitem__(self, index):\n",
    "        # obtain filenames from list\n",
    "        image = self.images[index]\n",
    "        mask = self.masks[index]\n",
    "                   \n",
    "        # apply augmentations\n",
    "        if self.augmentation:\n",
    "            sample = self.augmentation(image=image, mask=mask)\n",
    "            image, mask = sample['image'], sample['mask']\n",
    "        \n",
    "        \n",
    "        if self.image_only_aug:\n",
    "            sample = self.image_only_aug(image=image)\n",
    "            image = sample['image']\n",
    "            \n",
    "        # apply preprocessing\n",
    "        if self.preprocessing:\n",
    "            sample = self.preprocessing(image=image, mask=mask)\n",
    "            image, mask = sample['image'], sample['mask']\n",
    "            \n",
    "        image=image.float()\n",
    "        '''\n",
    "        # universal preprocessing\n",
    "        image = TF.to_tensor(tr['image'])\n",
    "        image = TF.normalize(image,(0.485, 0.456, 0.406),      # normalize image for pre-trained model\n",
    "                         (0.229, 0.224, 0.225))\n",
    "        mask = tr['mask']\n",
    "        '''\n",
    "        # output of Dataset must be tensor so tensor in transforms\n",
    "        return image, mask\n",
    "    \n",
    "    # the total number of samples (optional)\n",
    "    def __len__(self):\n",
    "        return len(self.filenames)"
   ]
  },
  {
   "cell_type": "markdown",
   "metadata": {
    "id": "YwRmZFLTCK6n"
   },
   "source": [
    "### Pickled-sparse dataset"
   ]
  },
  {
   "cell_type": "markdown",
   "metadata": {
    "id": "sQeAv166CK6p"
   },
   "source": [
    "import os\n",
    "\n",
    "from torch.utils import data\n",
    "from PIL import Image\n",
    "import torch\n",
    "import torchvision.transforms as T\n",
    "import torchvision.transforms.functional as TF\n",
    "from scipy import sparse\n",
    "import pickle\n",
    "def load_sparce_nparray(path:str):\n",
    "    '''\n",
    "    Loads npy array as sparce pickled scipy matrix.\n",
    "    '''\n",
    "    with open(path,'rb') as file:\n",
    "        s = pickle.load(file)\n",
    "    \n",
    "    return s.toarray()\n",
    "\n",
    "\n",
    "class sparseDataset(data.Dataset):\n",
    "    \n",
    "    # initialise function of class\n",
    "    def __init__(self, root, augmentations = None,image_only_aug = None, preprocessing = None):\n",
    "        # the data directory \n",
    "        self.root = root\n",
    "        # the list of filename\n",
    "        self.filenames = os.listdir(os.path.join(root,'images'))\n",
    "        #self.target_transform = target_transform\n",
    "        self.augmentation = augmentations\n",
    "        self.image_only_aug = image_only_aug\n",
    "        self.preprocessing = preprocessing\n",
    "\n",
    "    # obtain the sample with the given index\n",
    "    def __getitem__(self, index):\n",
    "        # obtain filenames from list\n",
    "        image_filename = self.filenames[index]\n",
    "        # Load data and label\n",
    "        image = cv2.imread(os.path.join(self.root,'images', image_filename))\n",
    "        image = cv2.cvtColor(image, cv2.COLOR_BGR2RGB)\n",
    "        \n",
    "\n",
    "        pre, ext = os.path.splitext(image_filename)\n",
    "        mask_filename =  pre + '.pickle'\n",
    "        \n",
    "        mask = load_sparce_nparray(os.path.join(self.root,'masks', mask_filename))\n",
    "                   \n",
    "        # apply augmentations\n",
    "        if self.augmentation:\n",
    "            sample = self.augmentation(image=image, mask=mask)\n",
    "            image, mask = sample['image'], sample['mask']\n",
    "        \n",
    "        if self.image_only_aug:\n",
    "            sample = self.image_only_aug(image=image)\n",
    "            image = sample['image']\n",
    "   \n",
    "        # apply preprocessing\n",
    "        if self.preprocessing:\n",
    "            sample = self.preprocessing(image=image, mask=mask)\n",
    "            image, mask = sample['image'], sample['mask']\n",
    "            \n",
    "               \n",
    "        #image=image.float()\n",
    "        '''\n",
    "        # universal preprocessing\n",
    "        image = TF.to_tensor(tr['image'])\n",
    "        image = TF.normalize(image,(0.485, 0.456, 0.406),      # normalize image for pre-trained model\n",
    "                         (0.229, 0.224, 0.225))\n",
    "        mask = tr['mask']\n",
    "        '''\n",
    "        # output of Dataset must be tensor so tensor in transforms\n",
    "        return image, mask\n",
    "    \n",
    "    # the total number of samples (optional)\n",
    "    def __len__(self):\n",
    "        return len(self.filenames)\n",
    "\n",
    "\n",
    "class sparseDatasetInMem(data.Dataset):\n",
    "    \n",
    "    # initialise function of class\n",
    "    def __init__(self, root, augmentations = None,image_only_aug = None, preprocessing = None):\n",
    "        # the data directory \n",
    "        self.root = root\n",
    "        # the list of filename\n",
    "        self.filenames = os.listdir(os.path.join(root,'images'))\n",
    "        #self.target_transform = target_transform\n",
    "        self.augmentation = augmentations\n",
    "        self.image_only_aug = image_only_aug\n",
    "        self.preprocessing = preprocessing\n",
    "        \n",
    "        self.images = []\n",
    "        self.masks = []\n",
    "        for image_filename in self.filenames:\n",
    "            img = cv2.imread(os.path.join(self.root,'images', image_filename))\n",
    "            self.images.append(img)\n",
    "            \n",
    "            pre, ext = os.path.splitext(image_filename)\n",
    "            mask_filename =  pre + '.pickle'\n",
    "            \n",
    "            mask = load_sparce_nparray(os.path.join(self.root,'masks', mask_filename))\n",
    "            self.masks.append(mask)\n",
    "        \n",
    "        self.images = np.array(self.images,dtype=object)\n",
    "        self.masks = np.array(self.masks,dtype=object)\n",
    "\n",
    "    # obtain the sample with the given index\n",
    "    def __getitem__(self, index):\n",
    "        # obtain filenames from list\n",
    "        image = self.images[index]\n",
    "        mask = self.masks[index]\n",
    "                   \n",
    "        # apply augmentations\n",
    "        if self.augmentation:\n",
    "            sample = self.augmentation(image=image, mask=mask)\n",
    "            image, mask = sample['image'], sample['mask']\n",
    "        \n",
    "        \n",
    "        if self.image_only_aug:\n",
    "            sample = self.image_only_aug(image=image)\n",
    "            image = sample['image']\n",
    "            \n",
    "        # apply preprocessing\n",
    "        if self.preprocessing:\n",
    "            sample = self.preprocessing(image=image, mask=mask)\n",
    "            image, mask = sample['image'], sample['mask']\n",
    "            \n",
    "        image=image.float()\n",
    "        '''\n",
    "        # universal preprocessing\n",
    "        image = TF.to_tensor(tr['image'])\n",
    "        image = TF.normalize(image,(0.485, 0.456, 0.406),      # normalize image for pre-trained model\n",
    "                         (0.229, 0.224, 0.225))\n",
    "        mask = tr['mask']\n",
    "        '''\n",
    "        # output of Dataset must be tensor so tensor in transforms\n",
    "        return image, mask\n",
    "    \n",
    "    # the total number of samples (optional)\n",
    "    def __len__(self):\n",
    "        return len(self.filenames)"
   ]
  },
  {
   "cell_type": "markdown",
   "metadata": {
    "id": "WOSJC7wsvAar"
   },
   "source": [
    "### NPZ"
   ]
  },
  {
   "cell_type": "code",
   "execution_count": 1,
   "metadata": {
    "id": "PNLthLpkvCwo"
   },
   "outputs": [],
   "source": [
    "import os\n",
    "\n",
    "from torch.utils import data\n",
    "from PIL import Image\n",
    "import torch\n",
    "import torchvision.transforms as T\n",
    "import torchvision.transforms.functional as TF\n",
    "import sparse\n",
    "import pickle\n",
    "\n",
    "def load_sparce_npz(path:str):\n",
    "    '''\n",
    "    Loads npy array as sparce pickled scipy matrix.\n",
    "    '''\n",
    "    with open(path,'rb') as file:\n",
    "        s = pickle.load(file)\n",
    "    \n",
    "    # convert to numpy array\n",
    "    s = s.todense()\n",
    "    if len(s.shape) == 2:\n",
    "      return s\n",
    "    return np.transpose(s,[1,2,0])\n",
    "    \n",
    "\n",
    "\n",
    "class sparseDatasetNpz(data.Dataset):\n",
    "    \n",
    "    # initialise function of class\n",
    "    def __init__(self, root, augmentations = None,image_only_aug = None,mask_only_aug = None, preprocessing = None):\n",
    "        # the data directory \n",
    "        self.root = root\n",
    "        # the list of filename\n",
    "        self.filenames = os.listdir(os.path.join(root,'images'))\n",
    "        #self.target_transform = target_transform\n",
    "        self.augmentation = augmentations\n",
    "        self.image_only_aug = image_only_aug\n",
    "        self.mask_only_aug = mask_only_aug\n",
    "        self.preprocessing = preprocessing\n",
    "\n",
    "    # obtain the sample with the given index\n",
    "    def __getitem__(self, index):\n",
    "        # obtain filenames from list\n",
    "        image_filename = self.filenames[index]\n",
    "        # Load data and label\n",
    "        image = cv2.imread(os.path.join(self.root,'images', image_filename))\n",
    "        image = cv2.cvtColor(image, cv2.COLOR_BGR2RGB)\n",
    "        \n",
    "        pre, ext = os.path.splitext(image_filename)\n",
    "        mask_filename =  pre + '.pickle'\n",
    "\n",
    "        #print(os.path.join(self.root,'masks', mask_filename))\n",
    "        mask = load_sparce_npz(os.path.join(self.root,'masks', mask_filename))\n",
    "                   \n",
    "        # apply augmentations\n",
    "        if self.augmentation:\n",
    "            sample = self.augmentation(image=image, mask=mask)\n",
    "            image, mask = sample['image'], sample['mask']\n",
    "        \n",
    "        \n",
    "        if self.image_only_aug:\n",
    "            sample = self.image_only_aug(image=image)\n",
    "            image = sample['image']\n",
    "            \n",
    "        if self.mask_only_aug:\n",
    "            sample = self.mask_only_aug(mask=mask)\n",
    "            mask = sample['mask']\n",
    "            \n",
    "        # apply preprocessing\n",
    "        if self.preprocessing:\n",
    "            sample = self.preprocessing(image=image, mask=mask)\n",
    "            image, mask = sample['image'], sample['mask']\n",
    "            \n",
    "        #image=image.float()\n",
    "        '''\n",
    "        # universal preprocessing\n",
    "        image = TF.to_tensor(tr['image'])\n",
    "        image = TF.normalize(image,(0.485, 0.456, 0.406),      # normalize image for pre-trained model\n",
    "                         (0.229, 0.224, 0.225))\n",
    "        mask = tr['mask']\n",
    "        '''\n",
    "        # output of Dataset must be tensor so tensor in transforms\n",
    "        return image, mask\n",
    "    \n",
    "    # the total number of samples (optional)\n",
    "    def __len__(self):\n",
    "        return len(self.filenames)\n",
    "\n",
    "\n",
    "class sparseDatasetNpzInMem(data.Dataset):\n",
    "    \n",
    "    # initialise function of class\n",
    "    def __init__(self, root, augmentations = None,image_only_aug = None, preprocessing = None):\n",
    "        # the data directory \n",
    "        self.root = root\n",
    "        # the list of filename\n",
    "        self.filenames = os.listdir(os.path.join(root,'images'))\n",
    "        #self.target_transform = target_transform\n",
    "        self.augmentation = augmentations\n",
    "        self.image_only_aug = image_only_aug\n",
    "        self.preprocessing = preprocessing\n",
    "        \n",
    "        self.images = []\n",
    "        self.masks = []\n",
    "        for image_filename in self.filenames:\n",
    "            img = cv2.imread(os.path.join(self.root,'images', image_filename))\n",
    "            self.images.append(img)\n",
    "            \n",
    "            pre, ext = os.path.splitext(image_filename)\n",
    "            mask_filename =  pre + '.pickle'\n",
    "            \n",
    "            mask = load_sparce_npz(os.path.join(self.root,'masks', mask_filename))\n",
    "            self.masks.append(mask)\n",
    "        \n",
    "        self.images = np.array(self.images,dtype=object)\n",
    "        self.masks = np.array(self.masks,dtype=object)\n",
    "\n",
    "    # obtain the sample with the given index\n",
    "    def __getitem__(self, index):\n",
    "        # obtain filenames from list\n",
    "        image = self.images[index]\n",
    "        mask = self.masks[index]\n",
    "                   \n",
    "        # apply augmentations\n",
    "        if self.augmentation:\n",
    "            sample = self.augmentation(image=image, mask=mask)\n",
    "            image, mask = sample['image'], sample['mask']\n",
    "        \n",
    "        \n",
    "        if self.image_only_aug:\n",
    "            sample = self.image_only_aug(image=image)\n",
    "            image = sample['image']\n",
    "            \n",
    "        # apply preprocessing\n",
    "        if self.preprocessing:\n",
    "            sample = self.preprocessing(image=image, mask=mask)\n",
    "            image, mask = sample['image'], sample['mask']\n",
    "            \n",
    "        image=image.float()\n",
    "        '''\n",
    "        # universal preprocessing\n",
    "        image = TF.to_tensor(tr['image'])\n",
    "        image = TF.normalize(image,(0.485, 0.456, 0.406),      # normalize image for pre-trained model\n",
    "                         (0.229, 0.224, 0.225))\n",
    "        mask = tr['mask']\n",
    "        '''\n",
    "        # output of Dataset must be tensor so tensor in transforms\n",
    "        return image, mask\n",
    "    \n",
    "    # the total number of samples (optional)\n",
    "    def __len__(self):\n",
    "        return len(self.filenames)"
   ]
  },
  {
   "cell_type": "markdown",
   "metadata": {
    "id": "Cbk0dFzpCK6q"
   },
   "source": [
    "Augmentation remainder\n",
    "https://www.quantib.com/blog/image-augmentation-how-to-overcome-small-radiology-datasets"
   ]
  },
  {
   "cell_type": "code",
   "execution_count": 6,
   "metadata": {
    "id": "084dZuPLCK6q"
   },
   "outputs": [],
   "source": [
    "import albumentations as A\n",
    "import cv2\n",
    "import numpy as np\n",
    "import matplotlib.pyplot as plt\n",
    "\n",
    "import random\n",
    "\n",
    "IMAGE_SIZE = 224\n",
    "\n",
    "universal_transform = A.Compose([\n",
    "    A.Resize(IMAGE_SIZE,IMAGE_SIZE),\n",
    "    #A.RandomCrop(width=256, height=256),\n",
    "    A.Rotate(p=0.6),\n",
    "    A.HorizontalFlip(p=0.5),\n",
    "    A.VerticalFlip(p=0.5),\n",
    "    #A.RandomBrightnessContrast(p=0.35),\n",
    "    A.RandomResizedCrop(IMAGE_SIZE,IMAGE_SIZE,p=0.3)\n",
    "])"
   ]
  },
  {
   "cell_type": "code",
   "execution_count": 7,
   "metadata": {
    "id": "mwQUTJK6F5Pz"
   },
   "outputs": [],
   "source": [
    "image_transform = A.Compose([\n",
    "    A.RandomBrightnessContrast(p=0.35)\n",
    "    #A.RandomResizedCrop(IMAGE_SIZE,IMAGE_SIZE,p=0.3)\n",
    "])"
   ]
  },
  {
   "cell_type": "code",
   "execution_count": 8,
   "metadata": {},
   "outputs": [],
   "source": [
    "val_transform = A.Compose([\n",
    "    A.Resize(IMAGE_SIZE,IMAGE_SIZE),\n",
    "])"
   ]
  },
  {
   "cell_type": "code",
   "execution_count": 9,
   "metadata": {},
   "outputs": [],
   "source": [
    "def tanh_mask_transform(mask):\n",
    "    mask[mask == 0] = -1\n",
    "    return {'mask':mask}\n",
    "mask_transform = tanh_mask_transform"
   ]
  },
  {
   "cell_type": "markdown",
   "metadata": {},
   "source": [
    "https://towardsdatascience.com/creating-and-training-a-u-net-model-with-pytorch-for-2d-3d-semantic-segmentation-model-building-6ab09d6a0862"
   ]
  },
  {
   "cell_type": "markdown",
   "metadata": {
    "id": "3yGbqS66CK6s"
   },
   "source": [
    "https://www.kaggle.com/balraj98/unet-with-pretrained-resnet50-encoder-pytorch"
   ]
  },
  {
   "cell_type": "code",
   "execution_count": 10,
   "metadata": {
    "id": "Z310cVlhCK6s",
    "tags": []
   },
   "outputs": [],
   "source": [
    "#https://github.com/qubvel/segmentation_models.pytorch/blob/master/examples/cars%20segmentation%20(camvid).ipynb\n",
    "\n",
    "def to_tensor(x, **kwargs):\n",
    "    return TF.to_tensor(x)\n",
    "    #return x.transpose(2, 0, 1).astype('float32')\n",
    "\n",
    "\n",
    "def get_preprocessing(preprocessing_fn = None):\n",
    "    \"\"\"Construct preprocessing transform\n",
    "    \n",
    "    Args:\n",
    "        preprocessing_fn (callbale): data normalization function \n",
    "            (can be specific for each pretrained neural network)\n",
    "    Return:\n",
    "        transform: albumentations.Compose\n",
    "    \n",
    "    \"\"\"\n",
    "    if preprocessing_fn:\n",
    "      _transform = [\n",
    "          A.Lambda(image=preprocessing_fn),\n",
    "          A.Lambda(image=to_tensor, mask=to_tensor),\n",
    "      ]\n",
    "    else:\n",
    "      _transform = [\n",
    "          A.Lambda(image=to_tensor, mask=to_tensor),\n",
    "      ]\n",
    "    return A.Compose(_transform)"
   ]
  },
  {
   "cell_type": "markdown",
   "metadata": {
    "id": "0O55uOYZCK6t",
    "tags": []
   },
   "source": [
    "## Model"
   ]
  },
  {
   "cell_type": "code",
   "execution_count": 12,
   "metadata": {},
   "outputs": [],
   "source": [
    "from TransUNet.networks.vit_seg_modeling import VisionTransformer as ViT_seg\n",
    "from TransUNet.networks.vit_seg_modeling import CONFIGS as CONFIGS_ViT_seg"
   ]
  },
  {
   "cell_type": "code",
   "execution_count": 21,
   "metadata": {},
   "outputs": [],
   "source": [
    "vit_name = 'R50-ViT-B_16'\n",
    "vit_patches_size = 16\n",
    "pretrained_path = r\"C:\\diploma\\imagenet21k_R50+ViT-B_16.npz\"\n",
    "\n",
    "config_vit = CONFIGS_ViT_seg[vit_name]\n",
    "config_vit.n_classes = 1\n",
    "config_vit.n_skip = 3\n",
    "if vit_name.find('R50') != -1:\n",
    "    config_vit.patches.grid = (int(IMAGE_SIZE / vit_patches_size), int(IMAGE_SIZE / vit_patches_size))"
   ]
  },
  {
   "cell_type": "code",
   "execution_count": 22,
   "metadata": {},
   "outputs": [],
   "source": [
    "model = ViT_seg(config_vit, img_size=IMAGE_SIZE, num_classes=1)\n",
    "weights = np.load(pretrained_path)\n",
    "model.load_from(weights=weights)"
   ]
  },
  {
   "cell_type": "markdown",
   "metadata": {
    "id": "ue0lTrgmPuMI"
   },
   "source": [
    "### ResNet50 + Unet"
   ]
  },
  {
   "cell_type": "code",
   "execution_count": 10,
   "metadata": {
    "id": "cmgc6fL8CK6t"
   },
   "outputs": [],
   "source": [
    "ENCODER = 'resnet50'\n",
    "ENCODER_WEIGHTS = 'imagenet'\n",
    "ACTIVATION = 'sigmoid' # could be None for logits or 'softmax2d' for multiclass segmentation\n",
    "\n",
    "# create segmentation model with pretrained encoder\n",
    "model = smp.DeepLabV3Plus(\n",
    "    encoder_name=ENCODER, \n",
    "    encoder_weights=ENCODER_WEIGHTS, \n",
    "    classes=3, \n",
    "    activation=ACTIVATION,\n",
    ")\n"
   ]
  },
  {
   "cell_type": "code",
   "execution_count": 11,
   "metadata": {
    "id": "MI7buI0KCK6u"
   },
   "outputs": [],
   "source": [
    "preprocessing_fn = smp.encoders.get_preprocessing_fn(ENCODER, ENCODER_WEIGHTS)"
   ]
  },
  {
   "cell_type": "markdown",
   "metadata": {
    "id": "MjAHkklcCgRm"
   },
   "source": [
    "https://analyticsindiamag.com/hands-on-transunet-transformers-for-medical-image-segmentation/"
   ]
  },
  {
   "cell_type": "markdown",
   "metadata": {
    "tags": []
   },
   "source": [
    "# New library"
   ]
  },
  {
   "cell_type": "code",
   "execution_count": 23,
   "metadata": {},
   "outputs": [],
   "source": [
    "import torch\n",
    "from self_attention_cv.transunet import TransUnet\n",
    "import timm\n",
    "vit = timm.create_model('vit_base_patch16_224', pretrained=True)\n",
    "\n",
    "model = TransUnet(in_channels=3, img_dim=224, vit_blocks=8,\n",
    "vit_dim_linear_mhsa_block=512, classes=1,vit_transformer=vit,vit_channels=3584)\n"
   ]
  },
  {
   "cell_type": "markdown",
   "metadata": {
    "id": "vekD2vnzCK6u",
    "tags": []
   },
   "source": [
    "## Initializing dataset"
   ]
  },
  {
   "cell_type": "markdown",
   "metadata": {
    "id": "J3IPRHpX_-eh"
   },
   "source": [
    "### NPZ stuff"
   ]
  },
  {
   "cell_type": "code",
   "execution_count": 13,
   "metadata": {
    "colab": {
     "base_uri": "https://localhost:8080/"
    },
    "id": "aeu9kI5oACA3",
    "outputId": "2a31442c-f9c2-4cd3-b8ec-4648f145eee2",
    "tags": []
   },
   "outputs": [
    {
     "name": "stdout",
     "output_type": "stream",
     "text": [
      "6524\n"
     ]
    }
   ],
   "source": [
    "dataset_dir = r'C:/diploma/datasets/meta_aorta/'\n",
    "dataset = sparseDatasetNpz(dataset_dir,\n",
    "                           augmentations=universal_transform,\n",
    "                           image_only_aug=image_transform,\n",
    "                           mask_only_aug=None,\n",
    "                           preprocessing=None)\n",
    "print(len(dataset))"
   ]
  },
  {
   "cell_type": "code",
   "execution_count": 14,
   "metadata": {},
   "outputs": [],
   "source": [
    "a = dataset[0]"
   ]
  },
  {
   "cell_type": "code",
   "execution_count": 29,
   "metadata": {},
   "outputs": [],
   "source": [
    "b = A.Normalize()(image=a[0])['image']"
   ]
  },
  {
   "cell_type": "code",
   "execution_count": 33,
   "metadata": {},
   "outputs": [],
   "source": [
    "c = a[0]/255"
   ]
  },
  {
   "cell_type": "code",
   "execution_count": 32,
   "metadata": {},
   "outputs": [
    {
     "data": {
      "text/plain": [
       "(array([47025.,  1803.,  1968.,  1650., 52008., 42987.,  2187.,   633.,\n",
       "          201.,    66.]),\n",
       " array([0.        , 0.09254902, 0.18509804, 0.27764706, 0.37019608,\n",
       "        0.4627451 , 0.55529412, 0.64784314, 0.74039216, 0.83294118,\n",
       "        0.9254902 ]),\n",
       " <BarContainer object of 10 artists>)"
      ]
     },
     "execution_count": 32,
     "metadata": {},
     "output_type": "execute_result"
    },
    {
     "data": {
      "image/png": "[encoded data removed]",
      "text/plain": [
       "<Figure size 432x288 with 1 Axes>"
      ]
     },
     "metadata": {
      "needs_background": "light"
     },
     "output_type": "display_data"
    }
   ],
   "source": [
    "plt.hist((a[0]/255).ravel())"
   ]
  },
  {
   "cell_type": "code",
   "execution_count": 12,
   "metadata": {
    "colab": {
     "base_uri": "https://localhost:8080/"
    },
    "id": "waQ6d43z4IfO",
    "outputId": "30f64b84-a572-4c26-f5f3-eea8aae1e76d"
   },
   "outputs": [
    {
     "name": "stdout",
     "output_type": "stream",
     "text": [
      "1483\n"
     ]
    }
   ],
   "source": [
    "val_dataset = sparseDatasetNpz(os.path.join(dataset_dir,'validation'), \n",
    "                               augmentations=val_transform,\n",
    "                               image_only_aug=None,\n",
    "                               mask_only_aug=None,\n",
    "                               preprocessing=get_preprocessing(None))\n",
    "print(len(val_dataset))"
   ]
  },
  {
   "cell_type": "markdown",
   "metadata": {
    "jp-MarkdownHeadingCollapsed": true,
    "tags": []
   },
   "source": [
    "# Additional models"
   ]
  },
  {
   "cell_type": "markdown",
   "metadata": {
    "id": "FQ6QQlLtPOL8",
    "jp-MarkdownHeadingCollapsed": true,
    "tags": []
   },
   "source": [
    "### SWIN"
   ]
  },
  {
   "cell_type": "code",
   "execution_count": 14,
   "metadata": {
    "id": "43whRImUyCZE"
   },
   "outputs": [],
   "source": [
    "ENCODER = 'resnet50'\n",
    "ENCODER_WEIGHTS = 'imagenet'\n",
    "ACTIVATION = 'sigmoid' # could be None for logits or 'softmax2d' for multiclass segmentation\n",
    "\n",
    "# create segmentation model with pretrained encoder\n",
    "model = smp.Unet(\n",
    "    encoder_name=ENCODER, \n",
    "    encoder_weights=ENCODER_WEIGHTS, \n",
    "    classes=1, \n",
    "    activation=ACTIVATION,\n",
    ")"
   ]
  },
  {
   "cell_type": "code",
   "execution_count": 15,
   "metadata": {
    "collapsed": true,
    "id": "wLXqQoY_9rys",
    "jupyter": {
     "outputs_hidden": true
    },
    "tags": []
   },
   "outputs": [
    {
     "data": {
      "text/plain": [
       "Unet(\n",
       "  (encoder): ResNetEncoder(\n",
       "    (conv1): Conv2d(3, 64, kernel_size=(7, 7), stride=(2, 2), padding=(3, 3), bias=False)\n",
       "    (bn1): BatchNorm2d(64, eps=1e-05, momentum=0.1, affine=True, track_running_stats=True)\n",
       "    (relu): ReLU(inplace=True)\n",
       "    (maxpool): MaxPool2d(kernel_size=3, stride=2, padding=1, dilation=1, ceil_mode=False)\n",
       "    (layer1): Sequential(\n",
       "      (0): Bottleneck(\n",
       "        (conv1): Conv2d(64, 64, kernel_size=(1, 1), stride=(1, 1), bias=False)\n",
       "        (bn1): BatchNorm2d(64, eps=1e-05, momentum=0.1, affine=True, track_running_stats=True)\n",
       "        (conv2): Conv2d(64, 64, kernel_size=(3, 3), stride=(1, 1), padding=(1, 1), bias=False)\n",
       "        (bn2): BatchNorm2d(64, eps=1e-05, momentum=0.1, affine=True, track_running_stats=True)\n",
       "        (conv3): Conv2d(64, 256, kernel_size=(1, 1), stride=(1, 1), bias=False)\n",
       "        (bn3): BatchNorm2d(256, eps=1e-05, momentum=0.1, affine=True, track_running_stats=True)\n",
       "        (relu): ReLU(inplace=True)\n",
       "        (downsample): Sequential(\n",
       "          (0): Conv2d(64, 256, kernel_size=(1, 1), stride=(1, 1), bias=False)\n",
       "          (1): BatchNorm2d(256, eps=1e-05, momentum=0.1, affine=True, track_running_stats=True)\n",
       "        )\n",
       "      )\n",
       "      (1): Bottleneck(\n",
       "        (conv1): Conv2d(256, 64, kernel_size=(1, 1), stride=(1, 1), bias=False)\n",
       "        (bn1): BatchNorm2d(64, eps=1e-05, momentum=0.1, affine=True, track_running_stats=True)\n",
       "        (conv2): Conv2d(64, 64, kernel_size=(3, 3), stride=(1, 1), padding=(1, 1), bias=False)\n",
       "        (bn2): BatchNorm2d(64, eps=1e-05, momentum=0.1, affine=True, track_running_stats=True)\n",
       "        (conv3): Conv2d(64, 256, kernel_size=(1, 1), stride=(1, 1), bias=False)\n",
       "        (bn3): BatchNorm2d(256, eps=1e-05, momentum=0.1, affine=True, track_running_stats=True)\n",
       "        (relu): ReLU(inplace=True)\n",
       "      )\n",
       "      (2): Bottleneck(\n",
       "        (conv1): Conv2d(256, 64, kernel_size=(1, 1), stride=(1, 1), bias=False)\n",
       "        (bn1): BatchNorm2d(64, eps=1e-05, momentum=0.1, affine=True, track_running_stats=True)\n",
       "        (conv2): Conv2d(64, 64, kernel_size=(3, 3), stride=(1, 1), padding=(1, 1), bias=False)\n",
       "        (bn2): BatchNorm2d(64, eps=1e-05, momentum=0.1, affine=True, track_running_stats=True)\n",
       "        (conv3): Conv2d(64, 256, kernel_size=(1, 1), stride=(1, 1), bias=False)\n",
       "        (bn3): BatchNorm2d(256, eps=1e-05, momentum=0.1, affine=True, track_running_stats=True)\n",
       "        (relu): ReLU(inplace=True)\n",
       "      )\n",
       "    )\n",
       "    (layer2): Sequential(\n",
       "      (0): Bottleneck(\n",
       "        (conv1): Conv2d(256, 128, kernel_size=(1, 1), stride=(1, 1), bias=False)\n",
       "        (bn1): BatchNorm2d(128, eps=1e-05, momentum=0.1, affine=True, track_running_stats=True)\n",
       "        (conv2): Conv2d(128, 128, kernel_size=(3, 3), stride=(2, 2), padding=(1, 1), bias=False)\n",
       "        (bn2): BatchNorm2d(128, eps=1e-05, momentum=0.1, affine=True, track_running_stats=True)\n",
       "        (conv3): Conv2d(128, 512, kernel_size=(1, 1), stride=(1, 1), bias=False)\n",
       "        (bn3): BatchNorm2d(512, eps=1e-05, momentum=0.1, affine=True, track_running_stats=True)\n",
       "        (relu): ReLU(inplace=True)\n",
       "        (downsample): Sequential(\n",
       "          (0): Conv2d(256, 512, kernel_size=(1, 1), stride=(2, 2), bias=False)\n",
       "          (1): BatchNorm2d(512, eps=1e-05, momentum=0.1, affine=True, track_running_stats=True)\n",
       "        )\n",
       "      )\n",
       "      (1): Bottleneck(\n",
       "        (conv1): Conv2d(512, 128, kernel_size=(1, 1), stride=(1, 1), bias=False)\n",
       "        (bn1): BatchNorm2d(128, eps=1e-05, momentum=0.1, affine=True, track_running_stats=True)\n",
       "        (conv2): Conv2d(128, 128, kernel_size=(3, 3), stride=(1, 1), padding=(1, 1), bias=False)\n",
       "        (bn2): BatchNorm2d(128, eps=1e-05, momentum=0.1, affine=True, track_running_stats=True)\n",
       "        (conv3): Conv2d(128, 512, kernel_size=(1, 1), stride=(1, 1), bias=False)\n",
       "        (bn3): BatchNorm2d(512, eps=1e-05, momentum=0.1, affine=True, track_running_stats=True)\n",
       "        (relu): ReLU(inplace=True)\n",
       "      )\n",
       "      (2): Bottleneck(\n",
       "        (conv1): Conv2d(512, 128, kernel_size=(1, 1), stride=(1, 1), bias=False)\n",
       "        (bn1): BatchNorm2d(128, eps=1e-05, momentum=0.1, affine=True, track_running_stats=True)\n",
       "        (conv2): Conv2d(128, 128, kernel_size=(3, 3), stride=(1, 1), padding=(1, 1), bias=False)\n",
       "        (bn2): BatchNorm2d(128, eps=1e-05, momentum=0.1, affine=True, track_running_stats=True)\n",
       "        (conv3): Conv2d(128, 512, kernel_size=(1, 1), stride=(1, 1), bias=False)\n",
       "        (bn3): BatchNorm2d(512, eps=1e-05, momentum=0.1, affine=True, track_running_stats=True)\n",
       "        (relu): ReLU(inplace=True)\n",
       "      )\n",
       "      (3): Bottleneck(\n",
       "        (conv1): Conv2d(512, 128, kernel_size=(1, 1), stride=(1, 1), bias=False)\n",
       "        (bn1): BatchNorm2d(128, eps=1e-05, momentum=0.1, affine=True, track_running_stats=True)\n",
       "        (conv2): Conv2d(128, 128, kernel_size=(3, 3), stride=(1, 1), padding=(1, 1), bias=False)\n",
       "        (bn2): BatchNorm2d(128, eps=1e-05, momentum=0.1, affine=True, track_running_stats=True)\n",
       "        (conv3): Conv2d(128, 512, kernel_size=(1, 1), stride=(1, 1), bias=False)\n",
       "        (bn3): BatchNorm2d(512, eps=1e-05, momentum=0.1, affine=True, track_running_stats=True)\n",
       "        (relu): ReLU(inplace=True)\n",
       "      )\n",
       "    )\n",
       "    (layer3): Sequential(\n",
       "      (0): Bottleneck(\n",
       "        (conv1): Conv2d(512, 256, kernel_size=(1, 1), stride=(1, 1), bias=False)\n",
       "        (bn1): BatchNorm2d(256, eps=1e-05, momentum=0.1, affine=True, track_running_stats=True)\n",
       "        (conv2): Conv2d(256, 256, kernel_size=(3, 3), stride=(2, 2), padding=(1, 1), bias=False)\n",
       "        (bn2): BatchNorm2d(256, eps=1e-05, momentum=0.1, affine=True, track_running_stats=True)\n",
       "        (conv3): Conv2d(256, 1024, kernel_size=(1, 1), stride=(1, 1), bias=False)\n",
       "        (bn3): BatchNorm2d(1024, eps=1e-05, momentum=0.1, affine=True, track_running_stats=True)\n",
       "        (relu): ReLU(inplace=True)\n",
       "        (downsample): Sequential(\n",
       "          (0): Conv2d(512, 1024, kernel_size=(1, 1), stride=(2, 2), bias=False)\n",
       "          (1): BatchNorm2d(1024, eps=1e-05, momentum=0.1, affine=True, track_running_stats=True)\n",
       "        )\n",
       "      )\n",
       "      (1): Bottleneck(\n",
       "        (conv1): Conv2d(1024, 256, kernel_size=(1, 1), stride=(1, 1), bias=False)\n",
       "        (bn1): BatchNorm2d(256, eps=1e-05, momentum=0.1, affine=True, track_running_stats=True)\n",
       "        (conv2): Conv2d(256, 256, kernel_size=(3, 3), stride=(1, 1), padding=(1, 1), bias=False)\n",
       "        (bn2): BatchNorm2d(256, eps=1e-05, momentum=0.1, affine=True, track_running_stats=True)\n",
       "        (conv3): Conv2d(256, 1024, kernel_size=(1, 1), stride=(1, 1), bias=False)\n",
       "        (bn3): BatchNorm2d(1024, eps=1e-05, momentum=0.1, affine=True, track_running_stats=True)\n",
       "        (relu): ReLU(inplace=True)\n",
       "      )\n",
       "      (2): Bottleneck(\n",
       "        (conv1): Conv2d(1024, 256, kernel_size=(1, 1), stride=(1, 1), bias=False)\n",
       "        (bn1): BatchNorm2d(256, eps=1e-05, momentum=0.1, affine=True, track_running_stats=True)\n",
       "        (conv2): Conv2d(256, 256, kernel_size=(3, 3), stride=(1, 1), padding=(1, 1), bias=False)\n",
       "        (bn2): BatchNorm2d(256, eps=1e-05, momentum=0.1, affine=True, track_running_stats=True)\n",
       "        (conv3): Conv2d(256, 1024, kernel_size=(1, 1), stride=(1, 1), bias=False)\n",
       "        (bn3): BatchNorm2d(1024, eps=1e-05, momentum=0.1, affine=True, track_running_stats=True)\n",
       "        (relu): ReLU(inplace=True)\n",
       "      )\n",
       "      (3): Bottleneck(\n",
       "        (conv1): Conv2d(1024, 256, kernel_size=(1, 1), stride=(1, 1), bias=False)\n",
       "        (bn1): BatchNorm2d(256, eps=1e-05, momentum=0.1, affine=True, track_running_stats=True)\n",
       "        (conv2): Conv2d(256, 256, kernel_size=(3, 3), stride=(1, 1), padding=(1, 1), bias=False)\n",
       "        (bn2): BatchNorm2d(256, eps=1e-05, momentum=0.1, affine=True, track_running_stats=True)\n",
       "        (conv3): Conv2d(256, 1024, kernel_size=(1, 1), stride=(1, 1), bias=False)\n",
       "        (bn3): BatchNorm2d(1024, eps=1e-05, momentum=0.1, affine=True, track_running_stats=True)\n",
       "        (relu): ReLU(inplace=True)\n",
       "      )\n",
       "      (4): Bottleneck(\n",
       "        (conv1): Conv2d(1024, 256, kernel_size=(1, 1), stride=(1, 1), bias=False)\n",
       "        (bn1): BatchNorm2d(256, eps=1e-05, momentum=0.1, affine=True, track_running_stats=True)\n",
       "        (conv2): Conv2d(256, 256, kernel_size=(3, 3), stride=(1, 1), padding=(1, 1), bias=False)\n",
       "        (bn2): BatchNorm2d(256, eps=1e-05, momentum=0.1, affine=True, track_running_stats=True)\n",
       "        (conv3): Conv2d(256, 1024, kernel_size=(1, 1), stride=(1, 1), bias=False)\n",
       "        (bn3): BatchNorm2d(1024, eps=1e-05, momentum=0.1, affine=True, track_running_stats=True)\n",
       "        (relu): ReLU(inplace=True)\n",
       "      )\n",
       "      (5): Bottleneck(\n",
       "        (conv1): Conv2d(1024, 256, kernel_size=(1, 1), stride=(1, 1), bias=False)\n",
       "        (bn1): BatchNorm2d(256, eps=1e-05, momentum=0.1, affine=True, track_running_stats=True)\n",
       "        (conv2): Conv2d(256, 256, kernel_size=(3, 3), stride=(1, 1), padding=(1, 1), bias=False)\n",
       "        (bn2): BatchNorm2d(256, eps=1e-05, momentum=0.1, affine=True, track_running_stats=True)\n",
       "        (conv3): Conv2d(256, 1024, kernel_size=(1, 1), stride=(1, 1), bias=False)\n",
       "        (bn3): BatchNorm2d(1024, eps=1e-05, momentum=0.1, affine=True, track_running_stats=True)\n",
       "        (relu): ReLU(inplace=True)\n",
       "      )\n",
       "    )\n",
       "    (layer4): Sequential(\n",
       "      (0): Bottleneck(\n",
       "        (conv1): Conv2d(1024, 512, kernel_size=(1, 1), stride=(1, 1), bias=False)\n",
       "        (bn1): BatchNorm2d(512, eps=1e-05, momentum=0.1, affine=True, track_running_stats=True)\n",
       "        (conv2): Conv2d(512, 512, kernel_size=(3, 3), stride=(2, 2), padding=(1, 1), bias=False)\n",
       "        (bn2): BatchNorm2d(512, eps=1e-05, momentum=0.1, affine=True, track_running_stats=True)\n",
       "        (conv3): Conv2d(512, 2048, kernel_size=(1, 1), stride=(1, 1), bias=False)\n",
       "        (bn3): BatchNorm2d(2048, eps=1e-05, momentum=0.1, affine=True, track_running_stats=True)\n",
       "        (relu): ReLU(inplace=True)\n",
       "        (downsample): Sequential(\n",
       "          (0): Conv2d(1024, 2048, kernel_size=(1, 1), stride=(2, 2), bias=False)\n",
       "          (1): BatchNorm2d(2048, eps=1e-05, momentum=0.1, affine=True, track_running_stats=True)\n",
       "        )\n",
       "      )\n",
       "      (1): Bottleneck(\n",
       "        (conv1): Conv2d(2048, 512, kernel_size=(1, 1), stride=(1, 1), bias=False)\n",
       "        (bn1): BatchNorm2d(512, eps=1e-05, momentum=0.1, affine=True, track_running_stats=True)\n",
       "        (conv2): Conv2d(512, 512, kernel_size=(3, 3), stride=(1, 1), padding=(1, 1), bias=False)\n",
       "        (bn2): BatchNorm2d(512, eps=1e-05, momentum=0.1, affine=True, track_running_stats=True)\n",
       "        (conv3): Conv2d(512, 2048, kernel_size=(1, 1), stride=(1, 1), bias=False)\n",
       "        (bn3): BatchNorm2d(2048, eps=1e-05, momentum=0.1, affine=True, track_running_stats=True)\n",
       "        (relu): ReLU(inplace=True)\n",
       "      )\n",
       "      (2): Bottleneck(\n",
       "        (conv1): Conv2d(2048, 512, kernel_size=(1, 1), stride=(1, 1), bias=False)\n",
       "        (bn1): BatchNorm2d(512, eps=1e-05, momentum=0.1, affine=True, track_running_stats=True)\n",
       "        (conv2): Conv2d(512, 512, kernel_size=(3, 3), stride=(1, 1), padding=(1, 1), bias=False)\n",
       "        (bn2): BatchNorm2d(512, eps=1e-05, momentum=0.1, affine=True, track_running_stats=True)\n",
       "        (conv3): Conv2d(512, 2048, kernel_size=(1, 1), stride=(1, 1), bias=False)\n",
       "        (bn3): BatchNorm2d(2048, eps=1e-05, momentum=0.1, affine=True, track_running_stats=True)\n",
       "        (relu): ReLU(inplace=True)\n",
       "      )\n",
       "    )\n",
       "  )\n",
       "  (decoder): UnetDecoder(\n",
       "    (center): Identity()\n",
       "    (blocks): ModuleList(\n",
       "      (0): DecoderBlock(\n",
       "        (conv1): Conv2dReLU(\n",
       "          (0): Conv2d(3072, 256, kernel_size=(3, 3), stride=(1, 1), padding=(1, 1), bias=False)\n",
       "          (1): BatchNorm2d(256, eps=1e-05, momentum=0.1, affine=True, track_running_stats=True)\n",
       "          (2): ReLU(inplace=True)\n",
       "        )\n",
       "        (attention1): Attention(\n",
       "          (attention): Identity()\n",
       "        )\n",
       "        (conv2): Conv2dReLU(\n",
       "          (0): Conv2d(256, 256, kernel_size=(3, 3), stride=(1, 1), padding=(1, 1), bias=False)\n",
       "          (1): BatchNorm2d(256, eps=1e-05, momentum=0.1, affine=True, track_running_stats=True)\n",
       "          (2): ReLU(inplace=True)\n",
       "        )\n",
       "        (attention2): Attention(\n",
       "          (attention): Identity()\n",
       "        )\n",
       "      )\n",
       "      (1): DecoderBlock(\n",
       "        (conv1): Conv2dReLU(\n",
       "          (0): Conv2d(768, 128, kernel_size=(3, 3), stride=(1, 1), padding=(1, 1), bias=False)\n",
       "          (1): BatchNorm2d(128, eps=1e-05, momentum=0.1, affine=True, track_running_stats=True)\n",
       "          (2): ReLU(inplace=True)\n",
       "        )\n",
       "        (attention1): Attention(\n",
       "          (attention): Identity()\n",
       "        )\n",
       "        (conv2): Conv2dReLU(\n",
       "          (0): Conv2d(128, 128, kernel_size=(3, 3), stride=(1, 1), padding=(1, 1), bias=False)\n",
       "          (1): BatchNorm2d(128, eps=1e-05, momentum=0.1, affine=True, track_running_stats=True)\n",
       "          (2): ReLU(inplace=True)\n",
       "        )\n",
       "        (attention2): Attention(\n",
       "          (attention): Identity()\n",
       "        )\n",
       "      )\n",
       "      (2): DecoderBlock(\n",
       "        (conv1): Conv2dReLU(\n",
       "          (0): Conv2d(384, 64, kernel_size=(3, 3), stride=(1, 1), padding=(1, 1), bias=False)\n",
       "          (1): BatchNorm2d(64, eps=1e-05, momentum=0.1, affine=True, track_running_stats=True)\n",
       "          (2): ReLU(inplace=True)\n",
       "        )\n",
       "        (attention1): Attention(\n",
       "          (attention): Identity()\n",
       "        )\n",
       "        (conv2): Conv2dReLU(\n",
       "          (0): Conv2d(64, 64, kernel_size=(3, 3), stride=(1, 1), padding=(1, 1), bias=False)\n",
       "          (1): BatchNorm2d(64, eps=1e-05, momentum=0.1, affine=True, track_running_stats=True)\n",
       "          (2): ReLU(inplace=True)\n",
       "        )\n",
       "        (attention2): Attention(\n",
       "          (attention): Identity()\n",
       "        )\n",
       "      )\n",
       "      (3): DecoderBlock(\n",
       "        (conv1): Conv2dReLU(\n",
       "          (0): Conv2d(128, 32, kernel_size=(3, 3), stride=(1, 1), padding=(1, 1), bias=False)\n",
       "          (1): BatchNorm2d(32, eps=1e-05, momentum=0.1, affine=True, track_running_stats=True)\n",
       "          (2): ReLU(inplace=True)\n",
       "        )\n",
       "        (attention1): Attention(\n",
       "          (attention): Identity()\n",
       "        )\n",
       "        (conv2): Conv2dReLU(\n",
       "          (0): Conv2d(32, 32, kernel_size=(3, 3), stride=(1, 1), padding=(1, 1), bias=False)\n",
       "          (1): BatchNorm2d(32, eps=1e-05, momentum=0.1, affine=True, track_running_stats=True)\n",
       "          (2): ReLU(inplace=True)\n",
       "        )\n",
       "        (attention2): Attention(\n",
       "          (attention): Identity()\n",
       "        )\n",
       "      )\n",
       "      (4): DecoderBlock(\n",
       "        (conv1): Conv2dReLU(\n",
       "          (0): Conv2d(32, 16, kernel_size=(3, 3), stride=(1, 1), padding=(1, 1), bias=False)\n",
       "          (1): BatchNorm2d(16, eps=1e-05, momentum=0.1, affine=True, track_running_stats=True)\n",
       "          (2): ReLU(inplace=True)\n",
       "        )\n",
       "        (attention1): Attention(\n",
       "          (attention): Identity()\n",
       "        )\n",
       "        (conv2): Conv2dReLU(\n",
       "          (0): Conv2d(16, 16, kernel_size=(3, 3), stride=(1, 1), padding=(1, 1), bias=False)\n",
       "          (1): BatchNorm2d(16, eps=1e-05, momentum=0.1, affine=True, track_running_stats=True)\n",
       "          (2): ReLU(inplace=True)\n",
       "        )\n",
       "        (attention2): Attention(\n",
       "          (attention): Identity()\n",
       "        )\n",
       "      )\n",
       "    )\n",
       "  )\n",
       "  (segmentation_head): SegmentationHead(\n",
       "    (0): Conv2d(16, 1, kernel_size=(3, 3), stride=(1, 1), padding=(1, 1))\n",
       "    (1): Identity()\n",
       "    (2): Activation(\n",
       "      (activation): Sigmoid()\n",
       "    )\n",
       "  )\n",
       ")"
      ]
     },
     "execution_count": 15,
     "metadata": {},
     "output_type": "execute_result"
    }
   ],
   "source": [
    "model"
   ]
  },
  {
   "cell_type": "code",
   "execution_count": 16,
   "metadata": {
    "id": "2F-Zb7wDoALb"
   },
   "outputs": [
    {
     "name": "stderr",
     "output_type": "stream",
     "text": [
      "UsageError: %%bash is a cell magic, but the cell body is empty.\n"
     ]
    }
   ],
   "source": [
    "%%bash"
   ]
  },
  {
   "cell_type": "code",
   "execution_count": null,
   "metadata": {
    "id": "ekP4UpH0PSKy"
   },
   "outputs": [],
   "source": [
    "import timm\n",
    "swin = timm.create_model('swin_large_patch4_window7_224', pretrained=True, num_classes=1)"
   ]
  },
  {
   "cell_type": "code",
   "execution_count": null,
   "metadata": {
    "id": "MazmK3jf9hOT"
   },
   "outputs": [],
   "source": [
    "swin"
   ]
  },
  {
   "cell_type": "code",
   "execution_count": null,
   "metadata": {
    "id": "_rzijZEE-Yi8"
   },
   "outputs": [],
   "source": [
    "swin.head = model.segmentation_head"
   ]
  },
  {
   "cell_type": "code",
   "execution_count": null,
   "metadata": {
    "id": "bWZwLg-c7M1c"
   },
   "outputs": [],
   "source": [
    "import torch.nn as nn\n",
    "new_model = nn.Sequential(*list(swin.children())[:-1],list(model.children())[-1])"
   ]
  },
  {
   "cell_type": "code",
   "execution_count": null,
   "metadata": {
    "id": "Cch-gUMWRUgJ"
   },
   "outputs": [],
   "source": [
    "new_model"
   ]
  },
  {
   "cell_type": "code",
   "execution_count": null,
   "metadata": {
    "id": "k2nr1N3wAayO"
   },
   "outputs": [],
   "source": [
    "model = new_model"
   ]
  },
  {
   "cell_type": "code",
   "execution_count": null,
   "metadata": {
    "id": "-lLght8bQe6e"
   },
   "outputs": [],
   "source": [
    "for param in model.parameters():\n",
    "    param.requires_grad = False"
   ]
  },
  {
   "cell_type": "code",
   "execution_count": null,
   "metadata": {
    "id": "PRHP5BZIQhFZ"
   },
   "outputs": [],
   "source": [
    "for param in list(model.parameters())[-2:]:\n",
    "    param.requires_grad = True"
   ]
  },
  {
   "cell_type": "code",
   "execution_count": null,
   "metadata": {
    "id": "fYx8pG4uSZTx"
   },
   "outputs": [],
   "source": [
    "params = model.state_dict()\n",
    "params.keys()"
   ]
  },
  {
   "cell_type": "code",
   "execution_count": null,
   "metadata": {
    "id": "S3-BrskrRiho"
   },
   "outputs": [],
   "source": [
    "for name, param in model.named_parameters():\n",
    "  if param.requires_grad:print(name)"
   ]
  },
  {
   "cell_type": "markdown",
   "metadata": {
    "id": "CAG7P5SI9GuR",
    "jp-MarkdownHeadingCollapsed": true,
    "tags": []
   },
   "source": [
    "### TransUNet"
   ]
  },
  {
   "cell_type": "code",
   "execution_count": null,
   "metadata": {
    "id": "A_fZmFSI9KTV"
   },
   "outputs": [],
   "source": [
    "!git clone https://github.com/Beckschen/TransUNet.git"
   ]
  },
  {
   "cell_type": "code",
   "execution_count": null,
   "metadata": {
    "id": "GiphKdEe-IDK"
   },
   "outputs": [],
   "source": [
    "!cd TransUNet && pip install -r requirements.txt "
   ]
  },
  {
   "cell_type": "code",
   "execution_count": null,
   "metadata": {
    "id": "ETBlnn2nB1Rm"
   },
   "outputs": [],
   "source": [
    "MODEL_NAME = 'R50-ViT-B_16'"
   ]
  },
  {
   "cell_type": "code",
   "execution_count": null,
   "metadata": {
    "id": "Mmc5bAtnBO8A"
   },
   "outputs": [],
   "source": [
    "!wget https://storage.googleapis.com/vit_models/imagenet21k/R50%2BViT-B_16.npz "
   ]
  },
  {
   "cell_type": "code",
   "execution_count": null,
   "metadata": {
    "id": "OidteXcS6vtG"
   },
   "outputs": [],
   "source": [
    "from TransUNet.networks.vit_seg_modeling import CONFIGS as CONFIGS_ViT_seg\n",
    "from TransUNet.networks.vit_seg_modeling import VisionTransformer as ViT_seg\n",
    "import numpy as np\n",
    "\n",
    "\n",
    "args = {'num_classes':1,\n",
    "        'n_skip':3,\n",
    "        'vit_name':MODEL_NAME,\n",
    "        'img_size':224,\n",
    "        'vit_patches_size':16,\n",
    "        }\n",
    "\n",
    "\n",
    "config_vit = CONFIGS_ViT_seg[args['vit_name']]\n",
    "config_vit.n_classes = args['num_classes']\n",
    "config_vit.n_skip = args['n_skip']\n",
    "if args['vit_name'].find('R50') != -1:\n",
    "    config_vit.patches.grid = (int(args['img_size'] / args['vit_patches_size']), int(args['img_size'] / args['vit_patches_size']))\n",
    "model = ViT_seg(config_vit, img_size=args['img_size'], num_classes=config_vit.n_classes).cuda()\n",
    "model.load_from(weights=np.load('/content/R50+ViT-B_16.npz'))"
   ]
  },
  {
   "cell_type": "markdown",
   "metadata": {
    "id": "-6Hs-SqACK6x"
   },
   "source": [
    "## Loaders and parameters"
   ]
  },
  {
   "cell_type": "markdown",
   "metadata": {
    "id": "fOU-Dj_rCK6x",
    "tags": []
   },
   "source": [
    "from torch.utils.data import SubsetRandomSampler\n",
    "\n",
    "BATCH_SIZE = 16\n",
    "NUM_WORKERS = 4\n",
    "\n",
    "validation_split = .2\n",
    "shuffle_dataset = True\n",
    "random_seed= 42\n",
    "\n",
    "# Creating data indices for training and validation splits:\n",
    "dataset_size = len(dataset)\n",
    "indices = list(range(dataset_size))\n",
    "split = int(np.floor(validation_split * dataset_size))\n",
    "if shuffle_dataset :\n",
    "    np.random.seed(random_seed)\n",
    "    np.random.shuffle(indices)\n",
    "train_indices, val_indices = indices[split:], indices[:split]\n",
    "\n",
    "# Creating PT data samplers and loaders:\n",
    "train_sampler = SubsetRandomSampler(train_indices)\n",
    "valid_sampler = SubsetRandomSampler(val_indices)\n",
    "\n",
    "train_loader = torch.utils.data.DataLoader(dataset, batch_size=BATCH_SIZE, \n",
    "                                           sampler=train_sampler)\n",
    "valid_loader = torch.utils.data.DataLoader(dataset, batch_size=BATCH_SIZE,\n",
    "                                                sampler=valid_sampler)"
   ]
  },
  {
   "cell_type": "code",
   "execution_count": 13,
   "metadata": {
    "id": "N1R_58HK3PwF"
   },
   "outputs": [],
   "source": [
    "BATCH_SIZE = 8\n",
    "NUM_WORKERS = 4\n",
    "\n",
    "train_loader = torch.utils.data.DataLoader(dataset, batch_size=BATCH_SIZE,shuffle=True)\n",
    "valid_loader = torch.utils.data.DataLoader(val_dataset, batch_size=BATCH_SIZE,shuffle=True)"
   ]
  },
  {
   "cell_type": "code",
   "execution_count": 37,
   "metadata": {
    "id": "tK0qtunmCK6x"
   },
   "outputs": [],
   "source": [
    "# Set num of epochs\n",
    "EPOCHS = 20\n",
    "\n",
    "# Set device: `cuda` or `cpu`\n",
    "DEVICE = torch.device(\"cuda\" if torch.cuda.is_available() else \"cpu\")\n",
    "\n",
    "# define loss function\n",
    "loss = smp.utils.losses.DiceLoss()\n",
    "\n",
    "# define metrics\n",
    "metrics = [\n",
    "    smp.utils.metrics.IoU(threshold=0.5),\n",
    "    smp.utils.metrics.Recall(),\n",
    "    smp.utils.metrics.Fscore()    \n",
    "]\n",
    "\n",
    "# define optimizer\n",
    "\n"
   ]
  },
  {
   "cell_type": "code",
   "execution_count": 27,
   "metadata": {},
   "outputs": [],
   "source": [
    "import torch.nn.functional as F\n",
    "class DiceBCELoss(torch.nn.Module):\n",
    "    def __init__(self, weight=None, size_average=True):\n",
    "        super(DiceBCELoss, self).__init__()\n",
    "        self.__name__ = 'DiceBCELoss'\n",
    "    def forward(self, inputs, targets, smooth=1):\n",
    "        \n",
    "        #comment out if your model contains a sigmoid or equivalent activation layer\n",
    "        inputs = F.sigmoid(inputs)       \n",
    "        \n",
    "        #flatten label and prediction tensors\n",
    "        inputs = inputs.view(-1)\n",
    "        targets = targets.view(-1)\n",
    "        \n",
    "        intersection = (inputs * targets).sum()                            \n",
    "        dice_loss = 1 - (2.*intersection + smooth)/(inputs.sum() + targets.sum() + smooth)  \n",
    "        BCE = F.binary_cross_entropy(inputs, targets.float(), reduction='mean')\n",
    "        Dice_BCE = BCE + dice_loss\n",
    "        \n",
    "        return Dice_BCE\n",
    "loss = DiceBCELoss()"
   ]
  },
  {
   "cell_type": "code",
   "execution_count": 40,
   "metadata": {},
   "outputs": [
    {
     "data": {
      "application/vnd.jupyter.widget-view+json": {
       "model_id": "95a66ce81ab54a36a5aff94dcf902713",
       "version_major": 2,
       "version_minor": 0
      },
      "text/plain": [
       "  0%|          | 0/100 [00:00<?, ?it/s]"
      ]
     },
     "metadata": {},
     "output_type": "display_data"
    },
    {
     "name": "stdout",
     "output_type": "stream",
     "text": [
      "Learning rate search finished. See the graph with {finder_name}.plot()\n",
      "LR suggestion: steepest gradient\n",
      "Suggested LR: 6.58E-05\n"
     ]
    },
    {
     "data": {
      "image/png": "[encoded data removed]",
      "text/plain": [
       "<Figure size 432x288 with 1 Axes>"
      ]
     },
     "metadata": {
      "needs_background": "light"
     },
     "output_type": "display_data"
    }
   ],
   "source": [
    "from torch_lr_finder import LRFinder\n",
    "\n",
    "optimizer = torch.optim.Adam(model.parameters(), lr=1e-7)\n",
    "\n",
    "lr_finder = LRFinder(model, optimizer, loss, device=\"cuda\")\n",
    "lr_finder.range_test(train_loader, end_lr=100, num_iter=100)\n",
    "lr_finder.plot()\n",
    "lr_finder.reset()"
   ]
  },
  {
   "cell_type": "code",
   "execution_count": 39,
   "metadata": {},
   "outputs": [
    {
     "data": {
      "text/plain": [
       "6.58e-05"
      ]
     },
     "execution_count": 39,
     "metadata": {},
     "output_type": "execute_result"
    }
   ],
   "source": [
    "6.58E-05"
   ]
  },
  {
   "cell_type": "markdown",
   "metadata": {
    "id": "RoI5xlp9CK6x"
   },
   "source": [
    "## LR schedulers"
   ]
  },
  {
   "cell_type": "markdown",
   "metadata": {
    "id": "V43g6Lx3CK6y"
   },
   "source": [
    "# define learning rate scheduler (not used in this NB)\n",
    "lr_scheduler = torch.optim.lr_scheduler.CosineAnnealingWarmRestarts(\n",
    "    optimizer, T_0=1, T_mult=2, eta_min=5e-5,\n",
    ")"
   ]
  },
  {
   "cell_type": "markdown",
   "metadata": {
    "id": "pqqaSM4rCK6y"
   },
   "source": [
    "# define learning rate scheduler (not used in this NB)\n",
    "lr_scheduler = torch.optim.lr_scheduler.ReduceLROnPlateau(\n",
    "    optimizer, mode = 'max'\n",
    ")"
   ]
  },
  {
   "cell_type": "markdown",
   "metadata": {
    "id": "owzE7VFPCK6z"
   },
   "source": [
    "## Epochs"
   ]
  },
  {
   "cell_type": "code",
   "execution_count": 54,
   "metadata": {
    "id": "Mq1Dn2UYCK6z"
   },
   "outputs": [],
   "source": [
    "train_epoch = smp.utils.train.TrainEpoch(\n",
    "    model, \n",
    "    loss=loss, \n",
    "    metrics=metrics, \n",
    "    optimizer=optimizer,\n",
    "    device=DEVICE,\n",
    "    verbose=True,\n",
    ")\n",
    "\n",
    "valid_epoch = smp.utils.train.ValidEpoch(\n",
    "    model, \n",
    "    loss=loss, \n",
    "    metrics=metrics, \n",
    "    device=DEVICE,\n",
    "    verbose=True,\n",
    ")"
   ]
  },
  {
   "cell_type": "markdown",
   "metadata": {
    "id": "_Lj1Qg9wCK6z",
    "tags": []
   },
   "source": [
    "## Loading saved model"
   ]
  },
  {
   "cell_type": "markdown",
   "metadata": {
    "id": "jiHDoGVDCK60"
   },
   "source": [
    "#load best saved model checkpoint from previous commit (if present)\n",
    "path_best_model = os.path.join(save_dir,f'{model_name}',f'{model_name}.pth')\n",
    "if os.path.exists(path_best_model):\n",
    "    model = torch.load(path_best_model, map_location=DEVICE)\n",
    "    print('Model loaded!')"
   ]
  },
  {
   "cell_type": "markdown",
   "metadata": {
    "id": "eM5YEUJ0CK60",
    "tags": []
   },
   "source": [
    "## Learn!!!"
   ]
  },
  {
   "cell_type": "code",
   "execution_count": 19,
   "metadata": {
    "id": "cDoztXHX5GE9"
   },
   "outputs": [
    {
     "name": "stdout",
     "output_type": "stream",
     "text": [
      "Directory already exists\n"
     ]
    }
   ],
   "source": [
    "SAVE_MODEL = True\n",
    "\n",
    "model_name = 'TransUnet'\n",
    "save_dir = r\"E:\\University\\ScienceWork\\Medicine\\AortaStuff\\ML\\models\\aorta\"\n",
    "\n",
    "if SAVE_MODEL:\n",
    "    if not os.path.exists(os.path.join(save_dir, model_name)):\n",
    "        os.mkdir(os.path.join(save_dir, model_name))\n",
    "        print('Created new directory')\n",
    "    else:\n",
    "        print('Directory already exists')"
   ]
  },
  {
   "cell_type": "code",
   "execution_count": 20,
   "metadata": {},
   "outputs": [],
   "source": [
    "import pickle\n",
    "def save_model_with_stats(model,train_logs,validation_logs,model_name,save_path):\n",
    "  model_dir = os.path.join(save_dir,model_name)\n",
    "  torch.save(model, os.path.join(model_dir,f'{model_name}.pth'))\n",
    "  \n",
    "  with open(os.path.join(model_dir,'train_logs.pickle'),'wb') as file:\n",
    "    pickle.dump(train_logs, file)\n",
    "  \n",
    "  with open(os.path.join(model_dir,'validation_logs.pickle'),'wb') as file:\n",
    "    pickle.dump(validation_logs, file)"
   ]
  },
  {
   "cell_type": "code",
   "execution_count": 21,
   "metadata": {
    "colab": {
     "base_uri": "https://localhost:8080/"
    },
    "id": "w_ho0mns-hVr",
    "outputId": "a5fc1851-8bab-4103-e7b5-cf877fc1f791"
   },
   "outputs": [
    {
     "name": "stdout",
     "output_type": "stream",
     "text": [
      "Running on NVIDIA GeForce GTX 1060 6GB\n"
     ]
    }
   ],
   "source": [
    "print(f'Running on {torch.cuda.get_device_name(0)}')"
   ]
  },
  {
   "cell_type": "markdown",
   "metadata": {},
   "source": [
    "with open(r\"E:\\University\\ScienceWork\\Medicine\\AortaStuff\\ML\\models\\aorta\\RN50-DeepLabV3_fixed\\train_logs.pickle\",'rb') as file:\n",
    "    train_logs_list = pickle.load(file)\n",
    "with open(r\"E:\\University\\ScienceWork\\Medicine\\AortaStuff\\ML\\models\\aorta\\RN50-DeepLabV3_fixed\\validation_logs.pickle\",'rb') as file:\n",
    "    valid_logs_list = pickle.load(file)    "
   ]
  },
  {
   "cell_type": "code",
   "execution_count": 21,
   "metadata": {
    "colab": {
     "base_uri": "https://localhost:8080/",
     "height": 783
    },
    "collapsed": true,
    "id": "S58rFK49CK60",
    "jupyter": {
     "outputs_hidden": true
    },
    "outputId": "92a3c639-a963-43cd-9a07-aecc31be9d02",
    "tags": []
   },
   "outputs": [
    {
     "name": "stdout",
     "output_type": "stream",
     "text": [
      "\n",
      "Epoch: 0\n",
      "train:   0%|                                                                                                                                                                                                        | 0/544 [00:00<?, ?it/s]"
     ]
    },
    {
     "name": "stderr",
     "output_type": "stream",
     "text": [
      "c:\\users\\alexa\\appdata\\local\\programs\\python\\python38\\lib\\site-packages\\torch\\nn\\functional.py:1806: UserWarning: nn.functional.sigmoid is deprecated. Use torch.sigmoid instead.\n",
      "  warnings.warn(\"nn.functional.sigmoid is deprecated. Use torch.sigmoid instead.\")\n"
     ]
    },
    {
     "name": "stdout",
     "output_type": "stream",
     "text": [
      "train:   0%|▏                                                                                                                | 1/544 [00:06<59:24,  6.56s/it, DiceBCELoss - 1.719, iou_score - 0.007328, recall - 0.07883, fscore - 0.01455]\n"
     ]
    },
    {
     "ename": "RuntimeError",
     "evalue": "CUDA out of memory. Tried to allocate 20.00 MiB (GPU 0; 6.00 GiB total capacity; 4.54 GiB already allocated; 0 bytes free; 4.73 GiB reserved in total by PyTorch) If reserved memory is >> allocated memory try setting max_split_size_mb to avoid fragmentation.  See documentation for Memory Management and PYTORCH_CUDA_ALLOC_CONF",
     "output_type": "error",
     "traceback": [
      "\u001b[1;31m---------------------------------------------------------------------------\u001b[0m",
      "\u001b[1;31mRuntimeError\u001b[0m                              Traceback (most recent call last)",
      "\u001b[1;32m<timed exec>\u001b[0m in \u001b[0;36m<module>\u001b[1;34m\u001b[0m\n",
      "\u001b[1;32mc:\\users\\alexa\\appdata\\local\\programs\\python\\python38\\lib\\site-packages\\segmentation_models_pytorch\\utils\\train.py\u001b[0m in \u001b[0;36mrun\u001b[1;34m(self, dataloader)\u001b[0m\n\u001b[0;32m     45\u001b[0m             \u001b[1;32mfor\u001b[0m \u001b[0mx\u001b[0m\u001b[1;33m,\u001b[0m \u001b[0my\u001b[0m \u001b[1;32min\u001b[0m \u001b[0miterator\u001b[0m\u001b[1;33m:\u001b[0m\u001b[1;33m\u001b[0m\u001b[1;33m\u001b[0m\u001b[0m\n\u001b[0;32m     46\u001b[0m                 \u001b[0mx\u001b[0m\u001b[1;33m,\u001b[0m \u001b[0my\u001b[0m \u001b[1;33m=\u001b[0m \u001b[0mx\u001b[0m\u001b[1;33m.\u001b[0m\u001b[0mto\u001b[0m\u001b[1;33m(\u001b[0m\u001b[0mself\u001b[0m\u001b[1;33m.\u001b[0m\u001b[0mdevice\u001b[0m\u001b[1;33m)\u001b[0m\u001b[1;33m,\u001b[0m \u001b[0my\u001b[0m\u001b[1;33m.\u001b[0m\u001b[0mto\u001b[0m\u001b[1;33m(\u001b[0m\u001b[0mself\u001b[0m\u001b[1;33m.\u001b[0m\u001b[0mdevice\u001b[0m\u001b[1;33m)\u001b[0m\u001b[1;33m\u001b[0m\u001b[1;33m\u001b[0m\u001b[0m\n\u001b[1;32m---> 47\u001b[1;33m                 \u001b[0mloss\u001b[0m\u001b[1;33m,\u001b[0m \u001b[0my_pred\u001b[0m \u001b[1;33m=\u001b[0m \u001b[0mself\u001b[0m\u001b[1;33m.\u001b[0m\u001b[0mbatch_update\u001b[0m\u001b[1;33m(\u001b[0m\u001b[0mx\u001b[0m\u001b[1;33m,\u001b[0m \u001b[0my\u001b[0m\u001b[1;33m)\u001b[0m\u001b[1;33m\u001b[0m\u001b[1;33m\u001b[0m\u001b[0m\n\u001b[0m\u001b[0;32m     48\u001b[0m \u001b[1;33m\u001b[0m\u001b[0m\n\u001b[0;32m     49\u001b[0m                 \u001b[1;31m# update loss logs\u001b[0m\u001b[1;33m\u001b[0m\u001b[1;33m\u001b[0m\u001b[1;33m\u001b[0m\u001b[0m\n",
      "\u001b[1;32mc:\\users\\alexa\\appdata\\local\\programs\\python\\python38\\lib\\site-packages\\segmentation_models_pytorch\\utils\\train.py\u001b[0m in \u001b[0;36mbatch_update\u001b[1;34m(self, x, y)\u001b[0m\n\u001b[0;32m     85\u001b[0m     \u001b[1;32mdef\u001b[0m \u001b[0mbatch_update\u001b[0m\u001b[1;33m(\u001b[0m\u001b[0mself\u001b[0m\u001b[1;33m,\u001b[0m \u001b[0mx\u001b[0m\u001b[1;33m,\u001b[0m \u001b[0my\u001b[0m\u001b[1;33m)\u001b[0m\u001b[1;33m:\u001b[0m\u001b[1;33m\u001b[0m\u001b[1;33m\u001b[0m\u001b[0m\n\u001b[0;32m     86\u001b[0m         \u001b[0mself\u001b[0m\u001b[1;33m.\u001b[0m\u001b[0moptimizer\u001b[0m\u001b[1;33m.\u001b[0m\u001b[0mzero_grad\u001b[0m\u001b[1;33m(\u001b[0m\u001b[1;33m)\u001b[0m\u001b[1;33m\u001b[0m\u001b[1;33m\u001b[0m\u001b[0m\n\u001b[1;32m---> 87\u001b[1;33m         \u001b[0mprediction\u001b[0m \u001b[1;33m=\u001b[0m \u001b[0mself\u001b[0m\u001b[1;33m.\u001b[0m\u001b[0mmodel\u001b[0m\u001b[1;33m.\u001b[0m\u001b[0mforward\u001b[0m\u001b[1;33m(\u001b[0m\u001b[0mx\u001b[0m\u001b[1;33m)\u001b[0m\u001b[1;33m\u001b[0m\u001b[1;33m\u001b[0m\u001b[0m\n\u001b[0m\u001b[0;32m     88\u001b[0m         \u001b[0mloss\u001b[0m \u001b[1;33m=\u001b[0m \u001b[0mself\u001b[0m\u001b[1;33m.\u001b[0m\u001b[0mloss\u001b[0m\u001b[1;33m(\u001b[0m\u001b[0mprediction\u001b[0m\u001b[1;33m,\u001b[0m \u001b[0my\u001b[0m\u001b[1;33m)\u001b[0m\u001b[1;33m\u001b[0m\u001b[1;33m\u001b[0m\u001b[0m\n\u001b[0;32m     89\u001b[0m         \u001b[0mloss\u001b[0m\u001b[1;33m.\u001b[0m\u001b[0mbackward\u001b[0m\u001b[1;33m(\u001b[0m\u001b[1;33m)\u001b[0m\u001b[1;33m\u001b[0m\u001b[1;33m\u001b[0m\u001b[0m\n",
      "\u001b[1;32mC:\\JupyterProjects\\AortaStuff\\TransUNet\\networks\\vit_seg_modeling.py\u001b[0m in \u001b[0;36mforward\u001b[1;34m(self, x)\u001b[0m\n\u001b[0;32m    386\u001b[0m         \u001b[1;32mif\u001b[0m \u001b[0mx\u001b[0m\u001b[1;33m.\u001b[0m\u001b[0msize\u001b[0m\u001b[1;33m(\u001b[0m\u001b[1;33m)\u001b[0m\u001b[1;33m[\u001b[0m\u001b[1;36m1\u001b[0m\u001b[1;33m]\u001b[0m \u001b[1;33m==\u001b[0m \u001b[1;36m1\u001b[0m\u001b[1;33m:\u001b[0m\u001b[1;33m\u001b[0m\u001b[1;33m\u001b[0m\u001b[0m\n\u001b[0;32m    387\u001b[0m             \u001b[0mx\u001b[0m \u001b[1;33m=\u001b[0m \u001b[0mx\u001b[0m\u001b[1;33m.\u001b[0m\u001b[0mrepeat\u001b[0m\u001b[1;33m(\u001b[0m\u001b[1;36m1\u001b[0m\u001b[1;33m,\u001b[0m\u001b[1;36m3\u001b[0m\u001b[1;33m,\u001b[0m\u001b[1;36m1\u001b[0m\u001b[1;33m,\u001b[0m\u001b[1;36m1\u001b[0m\u001b[1;33m)\u001b[0m\u001b[1;33m\u001b[0m\u001b[1;33m\u001b[0m\u001b[0m\n\u001b[1;32m--> 388\u001b[1;33m         \u001b[0mx\u001b[0m\u001b[1;33m,\u001b[0m \u001b[0mattn_weights\u001b[0m\u001b[1;33m,\u001b[0m \u001b[0mfeatures\u001b[0m \u001b[1;33m=\u001b[0m \u001b[0mself\u001b[0m\u001b[1;33m.\u001b[0m\u001b[0mtransformer\u001b[0m\u001b[1;33m(\u001b[0m\u001b[0mx\u001b[0m\u001b[1;33m)\u001b[0m  \u001b[1;31m# (B, n_patch, hidden)\u001b[0m\u001b[1;33m\u001b[0m\u001b[1;33m\u001b[0m\u001b[0m\n\u001b[0m\u001b[0;32m    389\u001b[0m         \u001b[0mx\u001b[0m \u001b[1;33m=\u001b[0m \u001b[0mself\u001b[0m\u001b[1;33m.\u001b[0m\u001b[0mdecoder\u001b[0m\u001b[1;33m(\u001b[0m\u001b[0mx\u001b[0m\u001b[1;33m,\u001b[0m \u001b[0mfeatures\u001b[0m\u001b[1;33m)\u001b[0m\u001b[1;33m\u001b[0m\u001b[1;33m\u001b[0m\u001b[0m\n\u001b[0;32m    390\u001b[0m         \u001b[0mlogits\u001b[0m \u001b[1;33m=\u001b[0m \u001b[0mself\u001b[0m\u001b[1;33m.\u001b[0m\u001b[0msegmentation_head\u001b[0m\u001b[1;33m(\u001b[0m\u001b[0mx\u001b[0m\u001b[1;33m)\u001b[0m\u001b[1;33m\u001b[0m\u001b[1;33m\u001b[0m\u001b[0m\n",
      "\u001b[1;32mc:\\users\\alexa\\appdata\\local\\programs\\python\\python38\\lib\\site-packages\\torch\\nn\\modules\\module.py\u001b[0m in \u001b[0;36m_call_impl\u001b[1;34m(self, *input, **kwargs)\u001b[0m\n\u001b[0;32m   1100\u001b[0m         if not (self._backward_hooks or self._forward_hooks or self._forward_pre_hooks or _global_backward_hooks\n\u001b[0;32m   1101\u001b[0m                 or _global_forward_hooks or _global_forward_pre_hooks):\n\u001b[1;32m-> 1102\u001b[1;33m             \u001b[1;32mreturn\u001b[0m \u001b[0mforward_call\u001b[0m\u001b[1;33m(\u001b[0m\u001b[1;33m*\u001b[0m\u001b[0minput\u001b[0m\u001b[1;33m,\u001b[0m \u001b[1;33m**\u001b[0m\u001b[0mkwargs\u001b[0m\u001b[1;33m)\u001b[0m\u001b[1;33m\u001b[0m\u001b[1;33m\u001b[0m\u001b[0m\n\u001b[0m\u001b[0;32m   1103\u001b[0m         \u001b[1;31m# Do not call functions when jit is used\u001b[0m\u001b[1;33m\u001b[0m\u001b[1;33m\u001b[0m\u001b[1;33m\u001b[0m\u001b[0m\n\u001b[0;32m   1104\u001b[0m         \u001b[0mfull_backward_hooks\u001b[0m\u001b[1;33m,\u001b[0m \u001b[0mnon_full_backward_hooks\u001b[0m \u001b[1;33m=\u001b[0m \u001b[1;33m[\u001b[0m\u001b[1;33m]\u001b[0m\u001b[1;33m,\u001b[0m \u001b[1;33m[\u001b[0m\u001b[1;33m]\u001b[0m\u001b[1;33m\u001b[0m\u001b[1;33m\u001b[0m\u001b[0m\n",
      "\u001b[1;32mC:\\JupyterProjects\\AortaStuff\\TransUNet\\networks\\vit_seg_modeling.py\u001b[0m in \u001b[0;36mforward\u001b[1;34m(self, input_ids)\u001b[0m\n\u001b[0;32m    253\u001b[0m     \u001b[1;32mdef\u001b[0m \u001b[0mforward\u001b[0m\u001b[1;33m(\u001b[0m\u001b[0mself\u001b[0m\u001b[1;33m,\u001b[0m \u001b[0minput_ids\u001b[0m\u001b[1;33m)\u001b[0m\u001b[1;33m:\u001b[0m\u001b[1;33m\u001b[0m\u001b[1;33m\u001b[0m\u001b[0m\n\u001b[0;32m    254\u001b[0m         \u001b[0membedding_output\u001b[0m\u001b[1;33m,\u001b[0m \u001b[0mfeatures\u001b[0m \u001b[1;33m=\u001b[0m \u001b[0mself\u001b[0m\u001b[1;33m.\u001b[0m\u001b[0membeddings\u001b[0m\u001b[1;33m(\u001b[0m\u001b[0minput_ids\u001b[0m\u001b[1;33m)\u001b[0m\u001b[1;33m\u001b[0m\u001b[1;33m\u001b[0m\u001b[0m\n\u001b[1;32m--> 255\u001b[1;33m         \u001b[0mencoded\u001b[0m\u001b[1;33m,\u001b[0m \u001b[0mattn_weights\u001b[0m \u001b[1;33m=\u001b[0m \u001b[0mself\u001b[0m\u001b[1;33m.\u001b[0m\u001b[0mencoder\u001b[0m\u001b[1;33m(\u001b[0m\u001b[0membedding_output\u001b[0m\u001b[1;33m)\u001b[0m  \u001b[1;31m# (B, n_patch, hidden)\u001b[0m\u001b[1;33m\u001b[0m\u001b[1;33m\u001b[0m\u001b[0m\n\u001b[0m\u001b[0;32m    256\u001b[0m         \u001b[1;32mreturn\u001b[0m \u001b[0mencoded\u001b[0m\u001b[1;33m,\u001b[0m \u001b[0mattn_weights\u001b[0m\u001b[1;33m,\u001b[0m \u001b[0mfeatures\u001b[0m\u001b[1;33m\u001b[0m\u001b[1;33m\u001b[0m\u001b[0m\n\u001b[0;32m    257\u001b[0m \u001b[1;33m\u001b[0m\u001b[0m\n",
      "\u001b[1;32mc:\\users\\alexa\\appdata\\local\\programs\\python\\python38\\lib\\site-packages\\torch\\nn\\modules\\module.py\u001b[0m in \u001b[0;36m_call_impl\u001b[1;34m(self, *input, **kwargs)\u001b[0m\n\u001b[0;32m   1100\u001b[0m         if not (self._backward_hooks or self._forward_hooks or self._forward_pre_hooks or _global_backward_hooks\n\u001b[0;32m   1101\u001b[0m                 or _global_forward_hooks or _global_forward_pre_hooks):\n\u001b[1;32m-> 1102\u001b[1;33m             \u001b[1;32mreturn\u001b[0m \u001b[0mforward_call\u001b[0m\u001b[1;33m(\u001b[0m\u001b[1;33m*\u001b[0m\u001b[0minput\u001b[0m\u001b[1;33m,\u001b[0m \u001b[1;33m**\u001b[0m\u001b[0mkwargs\u001b[0m\u001b[1;33m)\u001b[0m\u001b[1;33m\u001b[0m\u001b[1;33m\u001b[0m\u001b[0m\n\u001b[0m\u001b[0;32m   1103\u001b[0m         \u001b[1;31m# Do not call functions when jit is used\u001b[0m\u001b[1;33m\u001b[0m\u001b[1;33m\u001b[0m\u001b[1;33m\u001b[0m\u001b[0m\n\u001b[0;32m   1104\u001b[0m         \u001b[0mfull_backward_hooks\u001b[0m\u001b[1;33m,\u001b[0m \u001b[0mnon_full_backward_hooks\u001b[0m \u001b[1;33m=\u001b[0m \u001b[1;33m[\u001b[0m\u001b[1;33m]\u001b[0m\u001b[1;33m,\u001b[0m \u001b[1;33m[\u001b[0m\u001b[1;33m]\u001b[0m\u001b[1;33m\u001b[0m\u001b[1;33m\u001b[0m\u001b[0m\n",
      "\u001b[1;32mC:\\JupyterProjects\\AortaStuff\\TransUNet\\networks\\vit_seg_modeling.py\u001b[0m in \u001b[0;36mforward\u001b[1;34m(self, hidden_states)\u001b[0m\n\u001b[0;32m    238\u001b[0m         \u001b[0mattn_weights\u001b[0m \u001b[1;33m=\u001b[0m \u001b[1;33m[\u001b[0m\u001b[1;33m]\u001b[0m\u001b[1;33m\u001b[0m\u001b[1;33m\u001b[0m\u001b[0m\n\u001b[0;32m    239\u001b[0m         \u001b[1;32mfor\u001b[0m \u001b[0mlayer_block\u001b[0m \u001b[1;32min\u001b[0m \u001b[0mself\u001b[0m\u001b[1;33m.\u001b[0m\u001b[0mlayer\u001b[0m\u001b[1;33m:\u001b[0m\u001b[1;33m\u001b[0m\u001b[1;33m\u001b[0m\u001b[0m\n\u001b[1;32m--> 240\u001b[1;33m             \u001b[0mhidden_states\u001b[0m\u001b[1;33m,\u001b[0m \u001b[0mweights\u001b[0m \u001b[1;33m=\u001b[0m \u001b[0mlayer_block\u001b[0m\u001b[1;33m(\u001b[0m\u001b[0mhidden_states\u001b[0m\u001b[1;33m)\u001b[0m\u001b[1;33m\u001b[0m\u001b[1;33m\u001b[0m\u001b[0m\n\u001b[0m\u001b[0;32m    241\u001b[0m             \u001b[1;32mif\u001b[0m \u001b[0mself\u001b[0m\u001b[1;33m.\u001b[0m\u001b[0mvis\u001b[0m\u001b[1;33m:\u001b[0m\u001b[1;33m\u001b[0m\u001b[1;33m\u001b[0m\u001b[0m\n\u001b[0;32m    242\u001b[0m                 \u001b[0mattn_weights\u001b[0m\u001b[1;33m.\u001b[0m\u001b[0mappend\u001b[0m\u001b[1;33m(\u001b[0m\u001b[0mweights\u001b[0m\u001b[1;33m)\u001b[0m\u001b[1;33m\u001b[0m\u001b[1;33m\u001b[0m\u001b[0m\n",
      "\u001b[1;32mc:\\users\\alexa\\appdata\\local\\programs\\python\\python38\\lib\\site-packages\\torch\\nn\\modules\\module.py\u001b[0m in \u001b[0;36m_call_impl\u001b[1;34m(self, *input, **kwargs)\u001b[0m\n\u001b[0;32m   1100\u001b[0m         if not (self._backward_hooks or self._forward_hooks or self._forward_pre_hooks or _global_backward_hooks\n\u001b[0;32m   1101\u001b[0m                 or _global_forward_hooks or _global_forward_pre_hooks):\n\u001b[1;32m-> 1102\u001b[1;33m             \u001b[1;32mreturn\u001b[0m \u001b[0mforward_call\u001b[0m\u001b[1;33m(\u001b[0m\u001b[1;33m*\u001b[0m\u001b[0minput\u001b[0m\u001b[1;33m,\u001b[0m \u001b[1;33m**\u001b[0m\u001b[0mkwargs\u001b[0m\u001b[1;33m)\u001b[0m\u001b[1;33m\u001b[0m\u001b[1;33m\u001b[0m\u001b[0m\n\u001b[0m\u001b[0;32m   1103\u001b[0m         \u001b[1;31m# Do not call functions when jit is used\u001b[0m\u001b[1;33m\u001b[0m\u001b[1;33m\u001b[0m\u001b[1;33m\u001b[0m\u001b[0m\n\u001b[0;32m   1104\u001b[0m         \u001b[0mfull_backward_hooks\u001b[0m\u001b[1;33m,\u001b[0m \u001b[0mnon_full_backward_hooks\u001b[0m \u001b[1;33m=\u001b[0m \u001b[1;33m[\u001b[0m\u001b[1;33m]\u001b[0m\u001b[1;33m,\u001b[0m \u001b[1;33m[\u001b[0m\u001b[1;33m]\u001b[0m\u001b[1;33m\u001b[0m\u001b[1;33m\u001b[0m\u001b[0m\n",
      "\u001b[1;32mC:\\JupyterProjects\\AortaStuff\\TransUNet\\networks\\vit_seg_modeling.py\u001b[0m in \u001b[0;36mforward\u001b[1;34m(self, x)\u001b[0m\n\u001b[0;32m    178\u001b[0m         \u001b[0mh\u001b[0m \u001b[1;33m=\u001b[0m \u001b[0mx\u001b[0m\u001b[1;33m\u001b[0m\u001b[1;33m\u001b[0m\u001b[0m\n\u001b[0;32m    179\u001b[0m         \u001b[0mx\u001b[0m \u001b[1;33m=\u001b[0m \u001b[0mself\u001b[0m\u001b[1;33m.\u001b[0m\u001b[0mattention_norm\u001b[0m\u001b[1;33m(\u001b[0m\u001b[0mx\u001b[0m\u001b[1;33m)\u001b[0m\u001b[1;33m\u001b[0m\u001b[1;33m\u001b[0m\u001b[0m\n\u001b[1;32m--> 180\u001b[1;33m         \u001b[0mx\u001b[0m\u001b[1;33m,\u001b[0m \u001b[0mweights\u001b[0m \u001b[1;33m=\u001b[0m \u001b[0mself\u001b[0m\u001b[1;33m.\u001b[0m\u001b[0mattn\u001b[0m\u001b[1;33m(\u001b[0m\u001b[0mx\u001b[0m\u001b[1;33m)\u001b[0m\u001b[1;33m\u001b[0m\u001b[1;33m\u001b[0m\u001b[0m\n\u001b[0m\u001b[0;32m    181\u001b[0m         \u001b[0mx\u001b[0m \u001b[1;33m=\u001b[0m \u001b[0mx\u001b[0m \u001b[1;33m+\u001b[0m \u001b[0mh\u001b[0m\u001b[1;33m\u001b[0m\u001b[1;33m\u001b[0m\u001b[0m\n\u001b[0;32m    182\u001b[0m \u001b[1;33m\u001b[0m\u001b[0m\n",
      "\u001b[1;32mc:\\users\\alexa\\appdata\\local\\programs\\python\\python38\\lib\\site-packages\\torch\\nn\\modules\\module.py\u001b[0m in \u001b[0;36m_call_impl\u001b[1;34m(self, *input, **kwargs)\u001b[0m\n\u001b[0;32m   1100\u001b[0m         if not (self._backward_hooks or self._forward_hooks or self._forward_pre_hooks or _global_backward_hooks\n\u001b[0;32m   1101\u001b[0m                 or _global_forward_hooks or _global_forward_pre_hooks):\n\u001b[1;32m-> 1102\u001b[1;33m             \u001b[1;32mreturn\u001b[0m \u001b[0mforward_call\u001b[0m\u001b[1;33m(\u001b[0m\u001b[1;33m*\u001b[0m\u001b[0minput\u001b[0m\u001b[1;33m,\u001b[0m \u001b[1;33m**\u001b[0m\u001b[0mkwargs\u001b[0m\u001b[1;33m)\u001b[0m\u001b[1;33m\u001b[0m\u001b[1;33m\u001b[0m\u001b[0m\n\u001b[0m\u001b[0;32m   1103\u001b[0m         \u001b[1;31m# Do not call functions when jit is used\u001b[0m\u001b[1;33m\u001b[0m\u001b[1;33m\u001b[0m\u001b[1;33m\u001b[0m\u001b[0m\n\u001b[0;32m   1104\u001b[0m         \u001b[0mfull_backward_hooks\u001b[0m\u001b[1;33m,\u001b[0m \u001b[0mnon_full_backward_hooks\u001b[0m \u001b[1;33m=\u001b[0m \u001b[1;33m[\u001b[0m\u001b[1;33m]\u001b[0m\u001b[1;33m,\u001b[0m \u001b[1;33m[\u001b[0m\u001b[1;33m]\u001b[0m\u001b[1;33m\u001b[0m\u001b[1;33m\u001b[0m\u001b[0m\n",
      "\u001b[1;32mC:\\JupyterProjects\\AortaStuff\\TransUNet\\networks\\vit_seg_modeling.py\u001b[0m in \u001b[0;36mforward\u001b[1;34m(self, hidden_states)\u001b[0m\n\u001b[0;32m     86\u001b[0m         \u001b[0mattention_probs\u001b[0m \u001b[1;33m=\u001b[0m \u001b[0mself\u001b[0m\u001b[1;33m.\u001b[0m\u001b[0mattn_dropout\u001b[0m\u001b[1;33m(\u001b[0m\u001b[0mattention_probs\u001b[0m\u001b[1;33m)\u001b[0m\u001b[1;33m\u001b[0m\u001b[1;33m\u001b[0m\u001b[0m\n\u001b[0;32m     87\u001b[0m \u001b[1;33m\u001b[0m\u001b[0m\n\u001b[1;32m---> 88\u001b[1;33m         \u001b[0mcontext_layer\u001b[0m \u001b[1;33m=\u001b[0m \u001b[0mtorch\u001b[0m\u001b[1;33m.\u001b[0m\u001b[0mmatmul\u001b[0m\u001b[1;33m(\u001b[0m\u001b[0mattention_probs\u001b[0m\u001b[1;33m,\u001b[0m \u001b[0mvalue_layer\u001b[0m\u001b[1;33m)\u001b[0m\u001b[1;33m\u001b[0m\u001b[1;33m\u001b[0m\u001b[0m\n\u001b[0m\u001b[0;32m     89\u001b[0m         \u001b[0mcontext_layer\u001b[0m \u001b[1;33m=\u001b[0m \u001b[0mcontext_layer\u001b[0m\u001b[1;33m.\u001b[0m\u001b[0mpermute\u001b[0m\u001b[1;33m(\u001b[0m\u001b[1;36m0\u001b[0m\u001b[1;33m,\u001b[0m \u001b[1;36m2\u001b[0m\u001b[1;33m,\u001b[0m \u001b[1;36m1\u001b[0m\u001b[1;33m,\u001b[0m \u001b[1;36m3\u001b[0m\u001b[1;33m)\u001b[0m\u001b[1;33m.\u001b[0m\u001b[0mcontiguous\u001b[0m\u001b[1;33m(\u001b[0m\u001b[1;33m)\u001b[0m\u001b[1;33m\u001b[0m\u001b[1;33m\u001b[0m\u001b[0m\n\u001b[0;32m     90\u001b[0m         \u001b[0mnew_context_layer_shape\u001b[0m \u001b[1;33m=\u001b[0m \u001b[0mcontext_layer\u001b[0m\u001b[1;33m.\u001b[0m\u001b[0msize\u001b[0m\u001b[1;33m(\u001b[0m\u001b[1;33m)\u001b[0m\u001b[1;33m[\u001b[0m\u001b[1;33m:\u001b[0m\u001b[1;33m-\u001b[0m\u001b[1;36m2\u001b[0m\u001b[1;33m]\u001b[0m \u001b[1;33m+\u001b[0m \u001b[1;33m(\u001b[0m\u001b[0mself\u001b[0m\u001b[1;33m.\u001b[0m\u001b[0mall_head_size\u001b[0m\u001b[1;33m,\u001b[0m\u001b[1;33m)\u001b[0m\u001b[1;33m\u001b[0m\u001b[1;33m\u001b[0m\u001b[0m\n",
      "\u001b[1;31mRuntimeError\u001b[0m: CUDA out of memory. Tried to allocate 20.00 MiB (GPU 0; 6.00 GiB total capacity; 4.54 GiB already allocated; 0 bytes free; 4.73 GiB reserved in total by PyTorch) If reserved memory is >> allocated memory try setting max_split_size_mb to avoid fragmentation.  See documentation for Memory Management and PYTORCH_CUDA_ALLOC_CONF"
     ]
    }
   ],
   "source": [
    "%%time\n",
    "\n",
    "best_score = 999999999\n",
    "loss_name = loss.__name__\n",
    "train_logs_list, valid_logs_list = [], []\n",
    "\n",
    "for i in range(0, EPOCHS):\n",
    "\n",
    "    # Perform training & validation\n",
    "    print('\\nEpoch: {}'.format(i))\n",
    "    train_logs = train_epoch.run(train_loader)\n",
    "    valid_logs = valid_epoch.run(valid_loader)\n",
    "    train_logs_list.append(train_logs)\n",
    "    valid_logs_list.append(valid_logs)\n",
    "    \n",
    "    #lr_scheduler.step(valid_logs[loss_name])\n",
    "\n",
    "    # Save model if a better val IoU score is obtained\n",
    "    if best_score > valid_logs[loss_name]:\n",
    "        best_score = valid_logs[loss_name]\n",
    "        if SAVE_MODEL:\n",
    "            save_model_with_stats(model,train_logs_list,valid_logs_list,model_name,save_dir)\n",
    "            #torch.save(model, os.path.join(save_dir,model_save_name))\n",
    "            print('------------\\nModel saved!\\n------------')\n",
    "        else:\n",
    "            print('------------\\nBest iou score!\\n------------')\n",
    "\n",
    "print(best_score)"
   ]
  },
  {
   "cell_type": "code",
   "execution_count": 36,
   "metadata": {},
   "outputs": [],
   "source": [
    "def check_dataset(dataset):\n",
    "    for image,mask in dataset:\n",
    "        fig, axs = plt.subplots(1,3)\n",
    "        \n",
    "        axs[0].imshow(image.permute(1, 2, 0))\n",
    "        axs[1].imshow(mask.permute(1, 2, 0))\n",
    "        axs[2].imshow(image.permute(1, 2, 0))\n",
    "        axs[2].imshow(mask.permute(1, 2, 0),alpha=0.5)\n",
    "        yield"
   ]
  },
  {
   "cell_type": "markdown",
   "metadata": {},
   "source": [
    "# Double model test"
   ]
  },
  {
   "cell_type": "code",
   "execution_count": 15,
   "metadata": {},
   "outputs": [],
   "source": [
    "class MyDoubleNet(torch.nn.Module): \n",
    "    def __init__(self, first_model_path,second_model_path,device,preprocessing = None):\n",
    "        super(MyDoubleNet, self).__init__()\n",
    "        if os.path.exists(first_model_path):\n",
    "            self.first_model = torch.load(first_model_path, map_location=device)\n",
    "        else:\n",
    "            print(f'Error finding model [{first_model_path}]')\n",
    "            raise \n",
    "            \n",
    "        if os.path.exists(second_model_path):\n",
    "            self.second_model = torch.load(second_model_path, map_location=device)\n",
    "        else:\n",
    "            print(f'Error finding model [{second_model_path}]')\n",
    "            raise \n",
    "        \n",
    "        self.preprocessing = preprocessing\n",
    "            \n",
    "\n",
    "    def forward(self, x):\n",
    "        first_model_output = self.first_model.predict(x)\n",
    "        \n",
    "        if self.preprocessing:\n",
    "            sample = self.preprocessing(image=first_model_output)\n",
    "            first_model_output = sample['image']\n",
    "            \n",
    "        newx = torch.clone(x)\n",
    "        newx[:,2,:,:] = first_model_output[:,0,:,:]\n",
    "        \n",
    "        output = self.second_model(newx)\n",
    "        \n",
    "        return output"
   ]
  },
  {
   "cell_type": "code",
   "execution_count": 16,
   "metadata": {},
   "outputs": [],
   "source": [
    "model = MyDoubleNet(first_model_path=r\"E:\\University\\ScienceWork\\Medicine\\AortaStuff\\ML\\models\\aorta\\RN50-DeepLabV3_fixed\\RN50-DeepLabV3_fixed.pth\",\n",
    "                     second_model_path=r\"E:\\University\\ScienceWork\\Medicine\\AortaStuff\\ML\\models\\flows\\Xception-DeepLabV3\\Xception-DeepLabV3.pth\",device=DEVICE)"
   ]
  },
  {
   "cell_type": "code",
   "execution_count": 52,
   "metadata": {},
   "outputs": [],
   "source": [
    "model = torch.load(r\"E:\\University\\ScienceWork\\Medicine\\AortaStuff\\ML\\models\\aorta\\RN50_meta_aorta.pth\", map_location=DEVICE)"
   ]
  },
  {
   "cell_type": "code",
   "execution_count": 11,
   "metadata": {},
   "outputs": [
    {
     "ename": "NameError",
     "evalue": "name 'model' is not defined",
     "output_type": "error",
     "traceback": [
      "\u001b[1;31m---------------------------------------------------------------------------\u001b[0m",
      "\u001b[1;31mNameError\u001b[0m                                 Traceback (most recent call last)",
      "\u001b[1;32m~\\AppData\\Local\\Temp/ipykernel_7088/2355735933.py\u001b[0m in \u001b[0;36m<module>\u001b[1;34m\u001b[0m\n\u001b[1;32m----> 1\u001b[1;33m \u001b[0mmodel\u001b[0m\u001b[1;33m\u001b[0m\u001b[1;33m\u001b[0m\u001b[0m\n\u001b[0m",
      "\u001b[1;31mNameError\u001b[0m: name 'model' is not defined"
     ]
    }
   ],
   "source": [
    "model"
   ]
  },
  {
   "cell_type": "code",
   "execution_count": 55,
   "metadata": {
    "tags": []
   },
   "outputs": [
    {
     "name": "stdout",
     "output_type": "stream",
     "text": [
      "valid: 100%|█| 371/371 [00:24<00:00, 15.01it/s, dice_loss - 0.4896, iou_score - 0.3631, recall - 0.5103, fscore - 0.510\n"
     ]
    }
   ],
   "source": [
    "valid_logs = valid_epoch.run(valid_loader)"
   ]
  },
  {
   "cell_type": "code",
   "execution_count": 19,
   "metadata": {},
   "outputs": [],
   "source": [
    "valid_iter = iter(valid_loader)\n",
    "example = next(valid_iter)"
   ]
  },
  {
   "cell_type": "code",
   "execution_count": 18,
   "metadata": {},
   "outputs": [
    {
     "name": "stdout",
     "output_type": "stream",
     "text": [
      "torch.Size([12, 3, 512, 512])\n",
      "torch.Size([12, 1024, 32, 32])\n",
      "torch.Size([12, 768, 32, 32])\n",
      "torch.Size([12, 1024, 768])\n"
     ]
    },
    {
     "ename": "RuntimeError",
     "evalue": "The size of tensor a (1024) must match the size of tensor b (196) at non-singleton dimension 1",
     "output_type": "error",
     "traceback": [
      "\u001b[1;31m---------------------------------------------------------------------------\u001b[0m",
      "\u001b[1;31mRuntimeError\u001b[0m                              Traceback (most recent call last)",
      "\u001b[1;32m~\\AppData\\Local\\Temp/ipykernel_14160/41899786.py\u001b[0m in \u001b[0;36m<module>\u001b[1;34m\u001b[0m\n\u001b[1;32m----> 1\u001b[1;33m \u001b[0mout1\u001b[0m \u001b[1;33m=\u001b[0m \u001b[0mmodel\u001b[0m\u001b[1;33m(\u001b[0m\u001b[0mexample\u001b[0m\u001b[1;33m[\u001b[0m\u001b[1;36m0\u001b[0m\u001b[1;33m]\u001b[0m\u001b[1;33m)\u001b[0m\u001b[1;33m\u001b[0m\u001b[1;33m\u001b[0m\u001b[0m\n\u001b[0m",
      "\u001b[1;32mc:\\users\\alexa\\appdata\\local\\programs\\python\\python38\\lib\\site-packages\\torch\\nn\\modules\\module.py\u001b[0m in \u001b[0;36m_call_impl\u001b[1;34m(self, *input, **kwargs)\u001b[0m\n\u001b[0;32m   1100\u001b[0m         if not (self._backward_hooks or self._forward_hooks or self._forward_pre_hooks or _global_backward_hooks\n\u001b[0;32m   1101\u001b[0m                 or _global_forward_hooks or _global_forward_pre_hooks):\n\u001b[1;32m-> 1102\u001b[1;33m             \u001b[1;32mreturn\u001b[0m \u001b[0mforward_call\u001b[0m\u001b[1;33m(\u001b[0m\u001b[1;33m*\u001b[0m\u001b[0minput\u001b[0m\u001b[1;33m,\u001b[0m \u001b[1;33m**\u001b[0m\u001b[0mkwargs\u001b[0m\u001b[1;33m)\u001b[0m\u001b[1;33m\u001b[0m\u001b[1;33m\u001b[0m\u001b[0m\n\u001b[0m\u001b[0;32m   1103\u001b[0m         \u001b[1;31m# Do not call functions when jit is used\u001b[0m\u001b[1;33m\u001b[0m\u001b[1;33m\u001b[0m\u001b[1;33m\u001b[0m\u001b[0m\n\u001b[0;32m   1104\u001b[0m         \u001b[0mfull_backward_hooks\u001b[0m\u001b[1;33m,\u001b[0m \u001b[0mnon_full_backward_hooks\u001b[0m \u001b[1;33m=\u001b[0m \u001b[1;33m[\u001b[0m\u001b[1;33m]\u001b[0m\u001b[1;33m,\u001b[0m \u001b[1;33m[\u001b[0m\u001b[1;33m]\u001b[0m\u001b[1;33m\u001b[0m\u001b[1;33m\u001b[0m\u001b[0m\n",
      "\u001b[1;32mC:\\JupyterProjects\\AortaStuff\\TransUNet\\networks\\vit_seg_modeling.py\u001b[0m in \u001b[0;36mforward\u001b[1;34m(self, x)\u001b[0m\n\u001b[0;32m    389\u001b[0m         \u001b[1;32mif\u001b[0m \u001b[0mx\u001b[0m\u001b[1;33m.\u001b[0m\u001b[0msize\u001b[0m\u001b[1;33m(\u001b[0m\u001b[1;33m)\u001b[0m\u001b[1;33m[\u001b[0m\u001b[1;36m1\u001b[0m\u001b[1;33m]\u001b[0m \u001b[1;33m==\u001b[0m \u001b[1;36m1\u001b[0m\u001b[1;33m:\u001b[0m\u001b[1;33m\u001b[0m\u001b[1;33m\u001b[0m\u001b[0m\n\u001b[0;32m    390\u001b[0m             \u001b[0mx\u001b[0m \u001b[1;33m=\u001b[0m \u001b[0mx\u001b[0m\u001b[1;33m.\u001b[0m\u001b[0mrepeat\u001b[0m\u001b[1;33m(\u001b[0m\u001b[1;36m1\u001b[0m\u001b[1;33m,\u001b[0m\u001b[1;36m3\u001b[0m\u001b[1;33m,\u001b[0m\u001b[1;36m1\u001b[0m\u001b[1;33m,\u001b[0m\u001b[1;36m1\u001b[0m\u001b[1;33m)\u001b[0m\u001b[1;33m\u001b[0m\u001b[1;33m\u001b[0m\u001b[0m\n\u001b[1;32m--> 391\u001b[1;33m         \u001b[0mx\u001b[0m\u001b[1;33m,\u001b[0m \u001b[0mattn_weights\u001b[0m\u001b[1;33m,\u001b[0m \u001b[0mfeatures\u001b[0m \u001b[1;33m=\u001b[0m \u001b[0mself\u001b[0m\u001b[1;33m.\u001b[0m\u001b[0mtransformer\u001b[0m\u001b[1;33m(\u001b[0m\u001b[0mx\u001b[0m\u001b[1;33m)\u001b[0m  \u001b[1;31m# (B, n_patch, hidden)\u001b[0m\u001b[1;33m\u001b[0m\u001b[1;33m\u001b[0m\u001b[0m\n\u001b[0m\u001b[0;32m    392\u001b[0m         \u001b[0mx\u001b[0m \u001b[1;33m=\u001b[0m \u001b[0mself\u001b[0m\u001b[1;33m.\u001b[0m\u001b[0mdecoder\u001b[0m\u001b[1;33m(\u001b[0m\u001b[0mx\u001b[0m\u001b[1;33m,\u001b[0m \u001b[0mfeatures\u001b[0m\u001b[1;33m)\u001b[0m\u001b[1;33m\u001b[0m\u001b[1;33m\u001b[0m\u001b[0m\n\u001b[0;32m    393\u001b[0m         \u001b[0mlogits\u001b[0m \u001b[1;33m=\u001b[0m \u001b[0mself\u001b[0m\u001b[1;33m.\u001b[0m\u001b[0msegmentation_head\u001b[0m\u001b[1;33m(\u001b[0m\u001b[0mx\u001b[0m\u001b[1;33m)\u001b[0m\u001b[1;33m\u001b[0m\u001b[1;33m\u001b[0m\u001b[0m\n",
      "\u001b[1;32mc:\\users\\alexa\\appdata\\local\\programs\\python\\python38\\lib\\site-packages\\torch\\nn\\modules\\module.py\u001b[0m in \u001b[0;36m_call_impl\u001b[1;34m(self, *input, **kwargs)\u001b[0m\n\u001b[0;32m   1100\u001b[0m         if not (self._backward_hooks or self._forward_hooks or self._forward_pre_hooks or _global_backward_hooks\n\u001b[0;32m   1101\u001b[0m                 or _global_forward_hooks or _global_forward_pre_hooks):\n\u001b[1;32m-> 1102\u001b[1;33m             \u001b[1;32mreturn\u001b[0m \u001b[0mforward_call\u001b[0m\u001b[1;33m(\u001b[0m\u001b[1;33m*\u001b[0m\u001b[0minput\u001b[0m\u001b[1;33m,\u001b[0m \u001b[1;33m**\u001b[0m\u001b[0mkwargs\u001b[0m\u001b[1;33m)\u001b[0m\u001b[1;33m\u001b[0m\u001b[1;33m\u001b[0m\u001b[0m\n\u001b[0m\u001b[0;32m   1103\u001b[0m         \u001b[1;31m# Do not call functions when jit is used\u001b[0m\u001b[1;33m\u001b[0m\u001b[1;33m\u001b[0m\u001b[1;33m\u001b[0m\u001b[0m\n\u001b[0;32m   1104\u001b[0m         \u001b[0mfull_backward_hooks\u001b[0m\u001b[1;33m,\u001b[0m \u001b[0mnon_full_backward_hooks\u001b[0m \u001b[1;33m=\u001b[0m \u001b[1;33m[\u001b[0m\u001b[1;33m]\u001b[0m\u001b[1;33m,\u001b[0m \u001b[1;33m[\u001b[0m\u001b[1;33m]\u001b[0m\u001b[1;33m\u001b[0m\u001b[1;33m\u001b[0m\u001b[0m\n",
      "\u001b[1;32mC:\\JupyterProjects\\AortaStuff\\TransUNet\\networks\\vit_seg_modeling.py\u001b[0m in \u001b[0;36mforward\u001b[1;34m(self, input_ids)\u001b[0m\n\u001b[0;32m    255\u001b[0m \u001b[1;33m\u001b[0m\u001b[0m\n\u001b[0;32m    256\u001b[0m     \u001b[1;32mdef\u001b[0m \u001b[0mforward\u001b[0m\u001b[1;33m(\u001b[0m\u001b[0mself\u001b[0m\u001b[1;33m,\u001b[0m \u001b[0minput_ids\u001b[0m\u001b[1;33m)\u001b[0m\u001b[1;33m:\u001b[0m\u001b[1;33m\u001b[0m\u001b[1;33m\u001b[0m\u001b[0m\n\u001b[1;32m--> 257\u001b[1;33m         \u001b[0membedding_output\u001b[0m\u001b[1;33m,\u001b[0m \u001b[0mfeatures\u001b[0m \u001b[1;33m=\u001b[0m \u001b[0mself\u001b[0m\u001b[1;33m.\u001b[0m\u001b[0membeddings\u001b[0m\u001b[1;33m(\u001b[0m\u001b[0minput_ids\u001b[0m\u001b[1;33m)\u001b[0m\u001b[1;33m\u001b[0m\u001b[1;33m\u001b[0m\u001b[0m\n\u001b[0m\u001b[0;32m    258\u001b[0m         \u001b[0mencoded\u001b[0m\u001b[1;33m,\u001b[0m \u001b[0mattn_weights\u001b[0m \u001b[1;33m=\u001b[0m \u001b[0mself\u001b[0m\u001b[1;33m.\u001b[0m\u001b[0mencoder\u001b[0m\u001b[1;33m(\u001b[0m\u001b[0membedding_output\u001b[0m\u001b[1;33m)\u001b[0m  \u001b[1;31m# (B, n_patch, hidden)\u001b[0m\u001b[1;33m\u001b[0m\u001b[1;33m\u001b[0m\u001b[0m\n\u001b[0;32m    259\u001b[0m         \u001b[1;32mreturn\u001b[0m \u001b[0mencoded\u001b[0m\u001b[1;33m,\u001b[0m \u001b[0mattn_weights\u001b[0m\u001b[1;33m,\u001b[0m \u001b[0mfeatures\u001b[0m\u001b[1;33m\u001b[0m\u001b[1;33m\u001b[0m\u001b[0m\n",
      "\u001b[1;32mc:\\users\\alexa\\appdata\\local\\programs\\python\\python38\\lib\\site-packages\\torch\\nn\\modules\\module.py\u001b[0m in \u001b[0;36m_call_impl\u001b[1;34m(self, *input, **kwargs)\u001b[0m\n\u001b[0;32m   1100\u001b[0m         if not (self._backward_hooks or self._forward_hooks or self._forward_pre_hooks or _global_backward_hooks\n\u001b[0;32m   1101\u001b[0m                 or _global_forward_hooks or _global_forward_pre_hooks):\n\u001b[1;32m-> 1102\u001b[1;33m             \u001b[1;32mreturn\u001b[0m \u001b[0mforward_call\u001b[0m\u001b[1;33m(\u001b[0m\u001b[1;33m*\u001b[0m\u001b[0minput\u001b[0m\u001b[1;33m,\u001b[0m \u001b[1;33m**\u001b[0m\u001b[0mkwargs\u001b[0m\u001b[1;33m)\u001b[0m\u001b[1;33m\u001b[0m\u001b[1;33m\u001b[0m\u001b[0m\n\u001b[0m\u001b[0;32m   1103\u001b[0m         \u001b[1;31m# Do not call functions when jit is used\u001b[0m\u001b[1;33m\u001b[0m\u001b[1;33m\u001b[0m\u001b[1;33m\u001b[0m\u001b[0m\n\u001b[0;32m   1104\u001b[0m         \u001b[0mfull_backward_hooks\u001b[0m\u001b[1;33m,\u001b[0m \u001b[0mnon_full_backward_hooks\u001b[0m \u001b[1;33m=\u001b[0m \u001b[1;33m[\u001b[0m\u001b[1;33m]\u001b[0m\u001b[1;33m,\u001b[0m \u001b[1;33m[\u001b[0m\u001b[1;33m]\u001b[0m\u001b[1;33m\u001b[0m\u001b[1;33m\u001b[0m\u001b[0m\n",
      "\u001b[1;32mC:\\JupyterProjects\\AortaStuff\\TransUNet\\networks\\vit_seg_modeling.py\u001b[0m in \u001b[0;36mforward\u001b[1;34m(self, x)\u001b[0m\n\u001b[0;32m    164\u001b[0m         \u001b[0mx\u001b[0m \u001b[1;33m=\u001b[0m \u001b[0mx\u001b[0m\u001b[1;33m.\u001b[0m\u001b[0mtranspose\u001b[0m\u001b[1;33m(\u001b[0m\u001b[1;33m-\u001b[0m\u001b[1;36m1\u001b[0m\u001b[1;33m,\u001b[0m \u001b[1;33m-\u001b[0m\u001b[1;36m2\u001b[0m\u001b[1;33m)\u001b[0m  \u001b[1;31m# (B, n_patches, hidden)\u001b[0m\u001b[1;33m\u001b[0m\u001b[1;33m\u001b[0m\u001b[0m\n\u001b[0;32m    165\u001b[0m         \u001b[0mprint\u001b[0m\u001b[1;33m(\u001b[0m\u001b[0mx\u001b[0m\u001b[1;33m.\u001b[0m\u001b[0mshape\u001b[0m\u001b[1;33m)\u001b[0m\u001b[1;33m\u001b[0m\u001b[1;33m\u001b[0m\u001b[0m\n\u001b[1;32m--> 166\u001b[1;33m         \u001b[0membeddings\u001b[0m \u001b[1;33m=\u001b[0m \u001b[0mx\u001b[0m \u001b[1;33m+\u001b[0m \u001b[0mself\u001b[0m\u001b[1;33m.\u001b[0m\u001b[0mposition_embeddings\u001b[0m\u001b[1;33m\u001b[0m\u001b[1;33m\u001b[0m\u001b[0m\n\u001b[0m\u001b[0;32m    167\u001b[0m         \u001b[0membeddings\u001b[0m \u001b[1;33m=\u001b[0m \u001b[0mself\u001b[0m\u001b[1;33m.\u001b[0m\u001b[0mdropout\u001b[0m\u001b[1;33m(\u001b[0m\u001b[0membeddings\u001b[0m\u001b[1;33m)\u001b[0m\u001b[1;33m\u001b[0m\u001b[1;33m\u001b[0m\u001b[0m\n\u001b[0;32m    168\u001b[0m         \u001b[1;32mreturn\u001b[0m \u001b[0membeddings\u001b[0m\u001b[1;33m,\u001b[0m \u001b[0mfeatures\u001b[0m\u001b[1;33m\u001b[0m\u001b[1;33m\u001b[0m\u001b[0m\n",
      "\u001b[1;31mRuntimeError\u001b[0m: The size of tensor a (1024) must match the size of tensor b (196) at non-singleton dimension 1"
     ]
    }
   ],
   "source": [
    "out1 = model(example[0])"
   ]
  },
  {
   "cell_type": "code",
   "execution_count": 57,
   "metadata": {},
   "outputs": [],
   "source": [
    "with open(r\"E:\\University\\ScienceWork\\Medicine\\AortaStuff\\ML\\models\\aorta\\RN50-DeepLabV3_fixed\\validation_logs.pickle\",'rb') as file:\n",
    "    v = pickle.load(file)"
   ]
  },
  {
   "cell_type": "code",
   "execution_count": 58,
   "metadata": {},
   "outputs": [
    {
     "data": {
      "text/plain": [
       "[{'dice_loss': 0.3676855416039046,\n",
       "  'iou_score': 0.4688824165735163,\n",
       "  'recall': 0.5313538180004519,\n",
       "  'fscore': 0.6348583351158049},\n",
       " {'dice_loss': 0.3901410089277098,\n",
       "  'iou_score': 0.44777939951644824,\n",
       "  'recall': 0.4927166827773192,\n",
       "  'fscore': 0.6140763202780011},\n",
       " {'dice_loss': 0.29572508566017225,\n",
       "  'iou_score': 0.558448016658362,\n",
       "  'recall': 0.758166458670403,\n",
       "  'fscore': 0.7144639803476538},\n",
       " {'dice_loss': 0.3176431167353703,\n",
       "  'iou_score': 0.5234824614317442,\n",
       "  'recall': 0.6660316950685921,\n",
       "  'fscore': 0.6836246561497346},\n",
       " {'dice_loss': 0.32849722295926154,\n",
       "  'iou_score': 0.5133695808888208,\n",
       "  'recall': 0.573221755182985,\n",
       "  'fscore': 0.6728223127612685},\n",
       " {'dice_loss': 0.2638607526099415,\n",
       "  'iou_score': 0.5877703823833552,\n",
       "  'recall': 0.6584246032916158,\n",
       "  'fscore': 0.7371321978519905},\n",
       " {'dice_loss': 0.1850127653131575,\n",
       "  'iou_score': 0.6912383217177979,\n",
       "  'recall': 0.7709697522413624,\n",
       "  'fscore': 0.8156764869959218},\n",
       " {'dice_loss': 0.168682735823492,\n",
       "  'iou_score': 0.7149343507402434,\n",
       "  'recall': 0.8085738243678577,\n",
       "  'fscore': 0.8320290619022539},\n",
       " {'dice_loss': 0.16953361324181496,\n",
       "  'iou_score': 0.7140740513089882,\n",
       "  'recall': 0.8010729892738389,\n",
       "  'fscore': 0.8312004361283761},\n",
       " {'dice_loss': 0.17084647780009668,\n",
       "  'iou_score': 0.7122506243703322,\n",
       "  'recall': 0.7999704783786973,\n",
       "  'fscore': 0.829890589696045},\n",
       " {'dice_loss': 0.17152293927835965,\n",
       "  'iou_score': 0.7109394808451454,\n",
       "  'recall': 0.7993416951849898,\n",
       "  'fscore': 0.8292727335637428},\n",
       " {'dice_loss': 0.1671499584171935,\n",
       "  'iou_score': 0.7170689780855246,\n",
       "  'recall': 0.8095437660655026,\n",
       "  'fscore': 0.8336420333426973}]"
      ]
     },
     "execution_count": 58,
     "metadata": {},
     "output_type": "execute_result"
    }
   ],
   "source": [
    "v"
   ]
  },
  {
   "cell_type": "code",
   "execution_count": 18,
   "metadata": {},
   "outputs": [],
   "source": [
    "a = torch.tensor([1,2,3])"
   ]
  },
  {
   "cell_type": "code",
   "execution_count": 20,
   "metadata": {},
   "outputs": [
    {
     "data": {
      "text/plain": [
       "torch.Size([3])"
      ]
     },
     "execution_count": 20,
     "metadata": {},
     "output_type": "execute_result"
    }
   ],
   "source": [
    "a.shape"
   ]
  },
  {
   "cell_type": "code",
   "execution_count": 38,
   "metadata": {},
   "outputs": [],
   "source": [
    "out1 = model.first_model.predict(example[0].cuda())"
   ]
  },
  {
   "cell_type": "code",
   "execution_count": 41,
   "metadata": {},
   "outputs": [],
   "source": [
    "newx = torch.clone(example[0])\n",
    "newx[:,2,:,:] = out1[:,0,:,:]"
   ]
  },
  {
   "cell_type": "code",
   "execution_count": 42,
   "metadata": {},
   "outputs": [],
   "source": [
    "out2 = model.second_model.predict(newx.cuda())"
   ]
  },
  {
   "cell_type": "code",
   "execution_count": 43,
   "metadata": {},
   "outputs": [],
   "source": [
    "slice_num = 0"
   ]
  },
  {
   "cell_type": "code",
   "execution_count": 44,
   "metadata": {},
   "outputs": [],
   "source": [
    "ex_in = example[0][slice_num].numpy().transpose([1,2,0])\n",
    "ex_out = example[1][slice_num].numpy().transpose([1,2,0])"
   ]
  },
  {
   "cell_type": "code",
   "execution_count": 45,
   "metadata": {},
   "outputs": [
    {
     "data": {
      "text/plain": [
       "<matplotlib.image.AxesImage at 0x1a6bf490d00>"
      ]
     },
     "execution_count": 45,
     "metadata": {},
     "output_type": "execute_result"
    },
    {
     "data": {
      "image/png": "[encoded data removed]",
      "text/plain": [
       "<Figure size 720x720 with 2 Axes>"
      ]
     },
     "metadata": {
      "needs_background": "light"
     },
     "output_type": "display_data"
    }
   ],
   "source": [
    "fig, ax = plt.subplots(figsize=(10, 10),ncols=2)\n",
    "ax[0].imshow(ex_in)\n",
    "ax[1].imshow(ex_out)"
   ]
  },
  {
   "cell_type": "code",
   "execution_count": 46,
   "metadata": {},
   "outputs": [],
   "source": [
    "out1_np = out1[slice_num].cpu().numpy().transpose([1,2,0])"
   ]
  },
  {
   "cell_type": "code",
   "execution_count": 49,
   "metadata": {},
   "outputs": [
    {
     "data": {
      "text/plain": [
       "<matplotlib.image.AxesImage at 0x1a70361a6d0>"
      ]
     },
     "execution_count": 49,
     "metadata": {},
     "output_type": "execute_result"
    },
    {
     "data": {
      "image/png": "[encoded data removed]",
      "text/plain": [
       "<Figure size 720x720 with 3 Axes>"
      ]
     },
     "metadata": {
      "needs_background": "light"
     },
     "output_type": "display_data"
    }
   ],
   "source": [
    "fig, ax = plt.subplots(figsize=(10, 10),ncols=3)\n",
    "ax[0].imshow(ex_in)\n",
    "ax[1].imshow(ex_out)\n",
    "ax[2].imshow(out1_np)"
   ]
  },
  {
   "cell_type": "code",
   "execution_count": 48,
   "metadata": {},
   "outputs": [
    {
     "data": {
      "text/plain": [
       "<matplotlib.image.AxesImage at 0x1a6c02a8940>"
      ]
     },
     "execution_count": 48,
     "metadata": {},
     "output_type": "execute_result"
    },
    {
     "data": {
      "image/png": "[encoded data removed]",
      "text/plain": [
       "<Figure size 432x288 with 1 Axes>"
      ]
     },
     "metadata": {
      "needs_background": "light"
     },
     "output_type": "display_data"
    }
   ],
   "source": [
    "plt.imshow(newx[slice_num].cpu().numpy().transpose([1,2,0]))"
   ]
  },
  {
   "cell_type": "code",
   "execution_count": 50,
   "metadata": {},
   "outputs": [],
   "source": [
    "out2_np = out2[slice_num].cpu().numpy().transpose([1,2,0])"
   ]
  },
  {
   "cell_type": "code",
   "execution_count": 51,
   "metadata": {},
   "outputs": [
    {
     "data": {
      "text/plain": [
       "<matplotlib.image.AxesImage at 0x1a704d2c160>"
      ]
     },
     "execution_count": 51,
     "metadata": {},
     "output_type": "execute_result"
    },
    {
     "data": {
      "image/png": "[encoded data removed]",
      "text/plain": [
       "<Figure size 1440x720 with 4 Axes>"
      ]
     },
     "metadata": {
      "needs_background": "light"
     },
     "output_type": "display_data"
    }
   ],
   "source": [
    "fig, ax = plt.subplots(figsize=(20, 10),ncols=4)\n",
    "ax[0].imshow(ex_in)\n",
    "ax[1].imshow(ex_out)\n",
    "ax[2].imshow(out1_np)\n",
    "ax[3].imshow(out2_np)"
   ]
  },
  {
   "cell_type": "code",
   "execution_count": 33,
   "metadata": {},
   "outputs": [
    {
     "data": {
      "text/plain": [
       "torch.Size([12, 3, 3, 3])"
      ]
     },
     "execution_count": 33,
     "metadata": {},
     "output_type": "execute_result"
    }
   ],
   "source": [
    "t = torch.rand(12,3,3, 3)\n",
    "t.shape"
   ]
  },
  {
   "cell_type": "code",
   "execution_count": 36,
   "metadata": {},
   "outputs": [],
   "source": [
    "t[:,0,:,:] = torch.rand(12,3, 3)"
   ]
  },
  {
   "cell_type": "code",
   "execution_count": 50,
   "metadata": {},
   "outputs": [],
   "source": [
    "a = check_dataset(dataset)"
   ]
  },
  {
   "cell_type": "code",
   "execution_count": 56,
   "metadata": {},
   "outputs": [
    {
     "name": "stderr",
     "output_type": "stream",
     "text": [
      "Clipping input data to the valid range for imshow with RGB data ([0..1] for floats or [0..255] for integers).\n",
      "Clipping input data to the valid range for imshow with RGB data ([0..1] for floats or [0..255] for integers).\n"
     ]
    },
    {
     "data": {
      "image/png": "[encoded data removed]",
      "text/plain": [
       "<Figure size 432x288 with 3 Axes>"
      ]
     },
     "metadata": {
      "needs_background": "light"
     },
     "output_type": "display_data"
    }
   ],
   "source": [
    "next(a)"
   ]
  },
  {
   "cell_type": "code",
   "execution_count": 57,
   "metadata": {},
   "outputs": [],
   "source": [
    "del a"
   ]
  },
  {
   "cell_type": "code",
   "execution_count": null,
   "metadata": {
    "id": "jEiakvaU57WV"
   },
   "outputs": [],
   "source": [
    "def pretty_size(size):\n",
    "\t\"\"\"Pretty prints a torch.Size object\"\"\"\n",
    "\tassert(isinstance(size, torch.Size))\n",
    "\treturn \" × \".join(map(str, size))\n",
    "\n",
    "def dump_tensors(gpu_only=True):\n",
    "\t\"\"\"Prints a list of the Tensors being tracked by the garbage collector.\"\"\"\n",
    "\timport gc\n",
    "\ttotal_size = 0\n",
    "\tfor obj in gc.get_objects():\n",
    "\t\ttry:\n",
    "\t\t\tif torch.is_tensor(obj):\n",
    "\t\t\t\tif not gpu_only or obj.is_cuda:\n",
    "\t\t\t\t\tprint(\"%s:%s%s %s\" % (type(obj).__name__, \n",
    "\t\t\t\t\t\t\t\t\t\t  \" GPU\" if obj.is_cuda else \"\",\n",
    "\t\t\t\t\t\t\t\t\t\t  \" pinned\" if obj.is_pinned else \"\",\n",
    "\t\t\t\t\t\t\t\t\t\t  pretty_size(obj.size())))\n",
    "\t\t\t\t\ttotal_size += obj.numel()\n",
    "\t\t\telif hasattr(obj, \"data\") and torch.is_tensor(obj.data):\n",
    "\t\t\t\tif not gpu_only or obj.is_cuda:\n",
    "\t\t\t\t\tprint(\"%s → %s:%s%s%s%s %s\" % (type(obj).__name__, \n",
    "\t\t\t\t\t\t\t\t\t\t\t\t   type(obj.data).__name__, \n",
    "\t\t\t\t\t\t\t\t\t\t\t\t   \" GPU\" if obj.is_cuda else \"\",\n",
    "\t\t\t\t\t\t\t\t\t\t\t\t   \" pinned\" if obj.data.is_pinned else \"\",\n",
    "\t\t\t\t\t\t\t\t\t\t\t\t   \" grad\" if obj.requires_grad else \"\", \n",
    "\t\t\t\t\t\t\t\t\t\t\t\t   \" volatile\" if obj.volatile else \"\",\n",
    "\t\t\t\t\t\t\t\t\t\t\t\t   pretty_size(obj.data.size())))\n",
    "\t\t\t\t\ttotal_size += obj.data.numel()\n",
    "\t\texcept Exception as e:\n",
    "\t\t\tpass        \n",
    "\tprint(\"Total size:\", total_size)"
   ]
  },
  {
   "cell_type": "code",
   "execution_count": null,
   "metadata": {
    "collapsed": true,
    "jupyter": {
     "outputs_hidden": true
    },
    "tags": []
   },
   "outputs": [
    {
     "name": "stdout",
     "output_type": "stream",
     "text": [
      "Parameter: GPU pinned 64\n",
      "Parameter: GPU pinned 64\n",
      "Parameter: GPU pinned 256 × 64 × 1 × 1\n",
      "Parameter: GPU pinned 256\n",
      "Parameter: GPU pinned 256\n",
      "Parameter: GPU pinned 128 × 256 × 1 × 1\n",
      "Parameter: GPU pinned 128\n",
      "Parameter: GPU pinned 128\n",
      "Parameter: GPU pinned 128 × 128 × 3 × 3\n",
      "Parameter: GPU pinned 128\n",
      "Parameter: GPU pinned 128\n",
      "Parameter: GPU pinned 512 × 128 × 1 × 1\n",
      "Parameter: GPU pinned 512\n",
      "Parameter: GPU pinned 512\n",
      "Parameter: GPU pinned 128 × 512 × 1 × 1\n",
      "Parameter: GPU pinned 128\n",
      "Parameter: GPU pinned 128\n",
      "Parameter: GPU pinned 128 × 128 × 3 × 3\n",
      "Parameter: GPU pinned 128\n",
      "Parameter: GPU pinned 128\n",
      "Parameter: GPU pinned 512 × 128 × 1 × 1\n",
      "Parameter: GPU pinned 512\n",
      "Parameter: GPU pinned 512\n",
      "Parameter: GPU pinned 128 × 512 × 1 × 1\n",
      "Parameter: GPU pinned 128\n",
      "Parameter: GPU pinned 128\n",
      "Parameter: GPU pinned 128 × 128 × 3 × 3\n",
      "Parameter: GPU pinned 128\n",
      "Parameter: GPU pinned 128\n",
      "Parameter: GPU pinned 512 × 128 × 1 × 1\n",
      "Parameter: GPU pinned 512\n",
      "Parameter: GPU pinned 512\n",
      "Parameter: GPU pinned 128 × 512 × 1 × 1\n",
      "Parameter: GPU pinned 128\n",
      "Parameter: GPU pinned 128\n",
      "Parameter: GPU pinned 128 × 128 × 3 × 3\n",
      "Parameter: GPU pinned 128\n",
      "Parameter: GPU pinned 128\n",
      "Parameter: GPU pinned 512 × 128 × 1 × 1\n",
      "Parameter: GPU pinned 512\n",
      "Parameter: GPU pinned 512\n",
      "Parameter: GPU pinned 512 × 256 × 1 × 1\n",
      "Parameter: GPU pinned 512\n",
      "Parameter: GPU pinned 512\n",
      "Parameter: GPU pinned 64 × 256 × 1 × 1\n",
      "Parameter: GPU pinned 64\n",
      "Parameter: GPU pinned 64\n",
      "Parameter: GPU pinned 64 × 64 × 3 × 3\n",
      "Parameter: GPU pinned 64\n",
      "Parameter: GPU pinned 64\n",
      "Parameter: GPU pinned 256 × 64 × 1 × 1\n",
      "Parameter: GPU pinned 256\n",
      "Parameter: GPU pinned 256\n",
      "Parameter: GPU pinned 64 × 256 × 1 × 1\n",
      "Parameter: GPU pinned 64\n",
      "Parameter: GPU pinned 64\n",
      "Parameter: GPU pinned 64 × 64 × 3 × 3\n",
      "Parameter: GPU pinned 64\n",
      "Parameter: GPU pinned 64\n",
      "Parameter: GPU pinned 256 × 64 × 1 × 1\n",
      "Parameter: GPU pinned 256\n",
      "Parameter: GPU pinned 256\n",
      "Parameter: GPU pinned 256 × 512 × 1 × 1\n",
      "Parameter: GPU pinned 256\n",
      "Parameter: GPU pinned 256\n",
      "Parameter: GPU pinned 256 × 256 × 3 × 3\n",
      "Parameter: GPU pinned 256\n",
      "Parameter: GPU pinned 256\n",
      "Parameter: GPU pinned 1024 × 256 × 1 × 1\n",
      "Parameter: GPU pinned 1024\n",
      "Parameter: GPU pinned 1024\n",
      "Parameter: GPU pinned 256 × 1024 × 1 × 1\n",
      "Parameter: GPU pinned 256\n",
      "Parameter: GPU pinned 256\n",
      "Parameter: GPU pinned 256 × 256 × 3 × 3\n",
      "Parameter: GPU pinned 256\n",
      "Parameter: GPU pinned 256\n",
      "Parameter: GPU pinned 1024 × 256 × 1 × 1\n",
      "Parameter: GPU pinned 1024\n",
      "Parameter: GPU pinned 1024\n",
      "Parameter: GPU pinned 256 × 1024 × 1 × 1\n",
      "Parameter: GPU pinned 256\n",
      "Parameter: GPU pinned 256\n",
      "Parameter: GPU pinned 256 × 256 × 3 × 3\n",
      "Parameter: GPU pinned 256\n",
      "Parameter: GPU pinned 256\n",
      "Parameter: GPU pinned 1024 × 256 × 1 × 1\n",
      "Parameter: GPU pinned 1024\n",
      "Parameter: GPU pinned 1024\n",
      "Parameter: GPU pinned 256 × 1024 × 1 × 1\n",
      "Parameter: GPU pinned 256\n",
      "Parameter: GPU pinned 256\n",
      "Parameter: GPU pinned 256 × 256 × 3 × 3\n",
      "Parameter: GPU pinned 256\n",
      "Parameter: GPU pinned 256\n",
      "Parameter: GPU pinned 1024 × 256 × 1 × 1\n",
      "Parameter: GPU pinned 1024\n",
      "Parameter: GPU pinned 1024\n",
      "Parameter: GPU pinned 256 × 1024 × 1 × 1\n",
      "Parameter: GPU pinned 256\n",
      "Parameter: GPU pinned 256\n",
      "Parameter: GPU pinned 256 × 256 × 3 × 3\n",
      "Parameter: GPU pinned 256\n",
      "Parameter: GPU pinned 256\n",
      "Parameter: GPU pinned 1024 × 256 × 1 × 1\n",
      "Parameter: GPU pinned 1024\n",
      "Parameter: GPU pinned 1024\n",
      "Parameter: GPU pinned 256 × 1024 × 1 × 1\n",
      "Parameter: GPU pinned 256\n",
      "Parameter: GPU pinned 256\n",
      "Parameter: GPU pinned 256 × 256 × 3 × 3\n",
      "Parameter: GPU pinned 256\n",
      "Parameter: GPU pinned 256\n",
      "Parameter: GPU pinned 1024 × 256 × 1 × 1\n",
      "Parameter: GPU pinned 1024\n",
      "Parameter: GPU pinned 1024\n",
      "Parameter: GPU pinned 1024 × 512 × 1 × 1\n",
      "Parameter: GPU pinned 1024\n",
      "Parameter: GPU pinned 1024\n",
      "Parameter: GPU pinned 512 × 1024 × 1 × 1\n",
      "Parameter: GPU pinned 512\n",
      "Parameter: GPU pinned 512\n",
      "Parameter: GPU pinned 512 × 512 × 3 × 3\n",
      "Parameter: GPU pinned 512\n",
      "Parameter: GPU pinned 512\n",
      "Parameter: GPU pinned 2048 × 512 × 1 × 1\n",
      "Parameter: GPU pinned 2048\n",
      "Parameter: GPU pinned 2048\n",
      "Parameter: GPU pinned 512 × 2048 × 1 × 1\n",
      "Parameter: GPU pinned 512\n",
      "Parameter: GPU pinned 512\n",
      "Parameter: GPU pinned 512 × 512 × 3 × 3\n",
      "Parameter: GPU pinned 512\n",
      "Parameter: GPU pinned 512\n",
      "Parameter: GPU pinned 2048 × 512 × 1 × 1\n",
      "Parameter: GPU pinned 2048\n",
      "Parameter: GPU pinned 2048\n",
      "Parameter: GPU pinned 512 × 2048 × 1 × 1\n",
      "Parameter: GPU pinned 512\n",
      "Parameter: GPU pinned 512\n",
      "Parameter: GPU pinned 512 × 512 × 3 × 3\n",
      "Parameter: GPU pinned 512\n",
      "Parameter: GPU pinned 512\n",
      "Parameter: GPU pinned 2048 × 512 × 1 × 1\n",
      "Parameter: GPU pinned 2048\n",
      "Parameter: GPU pinned 2048\n",
      "Parameter: GPU pinned 2048 × 1024 × 1 × 1\n",
      "Parameter: GPU pinned 2048\n",
      "Parameter: GPU pinned 2048\n",
      "Parameter: GPU pinned 16 × 16 × 3 × 3\n",
      "Parameter: GPU pinned 256 × 3072 × 3 × 3\n",
      "Parameter: GPU pinned 256\n",
      "Parameter: GPU pinned 256\n",
      "Parameter: GPU pinned 256 × 256 × 3 × 3\n",
      "Parameter: GPU pinned 256\n",
      "Parameter: GPU pinned 256\n",
      "Parameter: GPU pinned 128 × 768 × 3 × 3\n",
      "Parameter: GPU pinned 128\n",
      "Parameter: GPU pinned 128\n",
      "Parameter: GPU pinned 128 × 128 × 3 × 3\n",
      "Parameter: GPU pinned 128\n",
      "Parameter: GPU pinned 128\n",
      "Parameter: GPU pinned 64 × 384 × 3 × 3\n",
      "Parameter: GPU pinned 64\n",
      "Parameter: GPU pinned 64\n",
      "Parameter: GPU pinned 64 × 64 × 3 × 3\n",
      "Parameter: GPU pinned 64\n",
      "Parameter: GPU pinned 64\n",
      "Parameter: GPU pinned 32 × 128 × 3 × 3\n",
      "Parameter: GPU pinned 32\n",
      "Parameter: GPU pinned 32\n",
      "Parameter: GPU pinned 32 × 32 × 3 × 3\n",
      "Parameter: GPU pinned 32\n",
      "Parameter: GPU pinned 32\n",
      "Parameter: GPU pinned 16 × 32 × 3 × 3\n",
      "Parameter: GPU pinned 16\n",
      "Parameter: GPU pinned 16\n",
      "Parameter: GPU pinned 16\n",
      "Parameter: GPU pinned 16\n",
      "Parameter: GPU pinned 1 × 16 × 3 × 3\n",
      "Parameter: GPU pinned 1\n",
      "Tensor: GPU pinned 64\n",
      "Tensor: GPU pinned 64\n",
      "Tensor: GPU pinned \n",
      "Tensor: GPU pinned 64\n",
      "Tensor: GPU pinned 64\n",
      "Tensor: GPU pinned \n",
      "Tensor: GPU pinned 64\n",
      "Tensor: GPU pinned 64\n",
      "Tensor: GPU pinned \n",
      "Tensor: GPU pinned 256\n",
      "Tensor: GPU pinned 256\n",
      "Tensor: GPU pinned \n",
      "Tensor: GPU pinned 256\n",
      "Tensor: GPU pinned 256\n",
      "Tensor: GPU pinned \n",
      "Tensor: GPU pinned 64\n",
      "Tensor: GPU pinned 64\n",
      "Tensor: GPU pinned \n",
      "Tensor: GPU pinned 64\n",
      "Tensor: GPU pinned 64\n",
      "Tensor: GPU pinned \n",
      "Tensor: GPU pinned 256\n",
      "Tensor: GPU pinned 256\n",
      "Tensor: GPU pinned \n",
      "Tensor: GPU pinned 64\n",
      "Tensor: GPU pinned 64\n",
      "Tensor: GPU pinned \n",
      "Tensor: GPU pinned 64\n",
      "Tensor: GPU pinned 64\n",
      "Tensor: GPU pinned \n",
      "Tensor: GPU pinned 256\n",
      "Tensor: GPU pinned 256\n",
      "Tensor: GPU pinned \n",
      "Tensor: GPU pinned 128\n",
      "Tensor: GPU pinned 128\n",
      "Tensor: GPU pinned \n",
      "Tensor: GPU pinned 128\n",
      "Tensor: GPU pinned 128\n",
      "Tensor: GPU pinned \n",
      "Tensor: GPU pinned 512\n",
      "Tensor: GPU pinned 512\n",
      "Tensor: GPU pinned \n",
      "Tensor: GPU pinned 512\n",
      "Tensor: GPU pinned 512\n",
      "Tensor: GPU pinned \n",
      "Tensor: GPU pinned 128\n",
      "Tensor: GPU pinned 128\n",
      "Tensor: GPU pinned \n",
      "Tensor: GPU pinned 128\n",
      "Tensor: GPU pinned 128\n",
      "Tensor: GPU pinned \n",
      "Tensor: GPU pinned 512\n",
      "Tensor: GPU pinned 512\n",
      "Tensor: GPU pinned \n",
      "Tensor: GPU pinned 128\n",
      "Tensor: GPU pinned 128\n",
      "Tensor: GPU pinned \n",
      "Tensor: GPU pinned 128\n",
      "Tensor: GPU pinned 128\n",
      "Tensor: GPU pinned \n",
      "Tensor: GPU pinned 512\n",
      "Tensor: GPU pinned 512\n",
      "Tensor: GPU pinned \n",
      "Tensor: GPU pinned 128\n",
      "Tensor: GPU pinned 128\n",
      "Tensor: GPU pinned \n",
      "Tensor: GPU pinned 128\n",
      "Tensor: GPU pinned 128\n",
      "Tensor: GPU pinned \n",
      "Tensor: GPU pinned 512\n",
      "Tensor: GPU pinned 512\n",
      "Tensor: GPU pinned \n",
      "Tensor: GPU pinned 256\n",
      "Tensor: GPU pinned 256\n",
      "Tensor: GPU pinned \n",
      "Tensor: GPU pinned 256\n",
      "Tensor: GPU pinned 256\n",
      "Tensor: GPU pinned \n",
      "Tensor: GPU pinned 1024\n",
      "Tensor: GPU pinned 1024\n",
      "Tensor: GPU pinned \n",
      "Tensor: GPU pinned 1024\n",
      "Tensor: GPU pinned 1024\n",
      "Tensor: GPU pinned \n",
      "Tensor: GPU pinned 256\n",
      "Tensor: GPU pinned 256\n",
      "Tensor: GPU pinned \n",
      "Tensor: GPU pinned 256\n",
      "Tensor: GPU pinned 256\n",
      "Tensor: GPU pinned \n",
      "Tensor: GPU pinned 1024\n",
      "Tensor: GPU pinned 1024\n",
      "Tensor: GPU pinned \n",
      "Tensor: GPU pinned 256\n",
      "Tensor: GPU pinned 256\n",
      "Tensor: GPU pinned \n",
      "Tensor: GPU pinned 256\n",
      "Tensor: GPU pinned 256\n",
      "Tensor: GPU pinned \n",
      "Tensor: GPU pinned 1024\n",
      "Tensor: GPU pinned 1024\n",
      "Tensor: GPU pinned \n",
      "Tensor: GPU pinned 256\n",
      "Tensor: GPU pinned 256\n",
      "Tensor: GPU pinned \n",
      "Tensor: GPU pinned 256\n",
      "Tensor: GPU pinned 256\n",
      "Tensor: GPU pinned \n",
      "Tensor: GPU pinned 1024\n",
      "Tensor: GPU pinned 1024\n",
      "Tensor: GPU pinned \n",
      "Tensor: GPU pinned 256\n",
      "Tensor: GPU pinned 256\n",
      "Tensor: GPU pinned \n",
      "Tensor: GPU pinned 256\n",
      "Tensor: GPU pinned 256\n",
      "Tensor: GPU pinned \n",
      "Tensor: GPU pinned 1024\n",
      "Tensor: GPU pinned 1024\n",
      "Tensor: GPU pinned \n",
      "Tensor: GPU pinned 256\n",
      "Tensor: GPU pinned 256\n",
      "Tensor: GPU pinned \n",
      "Tensor: GPU pinned 256\n",
      "Tensor: GPU pinned 256\n",
      "Tensor: GPU pinned \n",
      "Tensor: GPU pinned 1024\n",
      "Tensor: GPU pinned 1024\n",
      "Tensor: GPU pinned \n",
      "Tensor: GPU pinned 512\n",
      "Tensor: GPU pinned 512\n",
      "Tensor: GPU pinned \n",
      "Tensor: GPU pinned 512\n",
      "Tensor: GPU pinned 512\n",
      "Tensor: GPU pinned \n",
      "Tensor: GPU pinned 2048\n",
      "Tensor: GPU pinned 2048\n",
      "Tensor: GPU pinned \n",
      "Tensor: GPU pinned 2048\n",
      "Tensor: GPU pinned 2048\n",
      "Tensor: GPU pinned \n",
      "Tensor: GPU pinned 512\n",
      "Tensor: GPU pinned 512\n",
      "Tensor: GPU pinned \n",
      "Tensor: GPU pinned 512\n",
      "Tensor: GPU pinned 512\n",
      "Tensor: GPU pinned \n",
      "Tensor: GPU pinned 2048\n",
      "Tensor: GPU pinned 2048\n",
      "Tensor: GPU pinned \n",
      "Tensor: GPU pinned 512\n",
      "Tensor: GPU pinned 512\n",
      "Tensor: GPU pinned \n",
      "Tensor: GPU pinned 512\n",
      "Tensor: GPU pinned 512\n",
      "Tensor: GPU pinned \n",
      "Tensor: GPU pinned 2048\n",
      "Tensor: GPU pinned 2048\n",
      "Tensor: GPU pinned \n",
      "Tensor: GPU pinned 256\n",
      "Tensor: GPU pinned 256\n",
      "Tensor: GPU pinned \n",
      "Tensor: GPU pinned 256\n",
      "Tensor: GPU pinned 256\n",
      "Tensor: GPU pinned \n",
      "Tensor: GPU pinned 128\n",
      "Tensor: GPU pinned 128\n",
      "Tensor: GPU pinned \n",
      "Tensor: GPU pinned 128\n",
      "Tensor: GPU pinned 128\n",
      "Tensor: GPU pinned \n",
      "Tensor: GPU pinned 64\n",
      "Tensor: GPU pinned 64\n",
      "Tensor: GPU pinned \n",
      "Tensor: GPU pinned 64\n",
      "Tensor: GPU pinned 64\n",
      "Tensor: GPU pinned \n",
      "Tensor: GPU pinned 32\n",
      "Tensor: GPU pinned 32\n",
      "Tensor: GPU pinned \n",
      "Tensor: GPU pinned 32\n",
      "Tensor: GPU pinned 32\n",
      "Tensor: GPU pinned \n",
      "Tensor: GPU pinned 16\n",
      "Tensor: GPU pinned 16\n",
      "Tensor: GPU pinned \n",
      "Tensor: GPU pinned 16\n",
      "Tensor: GPU pinned 16\n",
      "Tensor: GPU pinned \n",
      "Tensor: GPU pinned 16 × 64 × 256 × 256\n",
      "Tensor: GPU pinned 16 × 64 × 128 × 128\n",
      "Tensor: GPU pinned 16 × 64 × 128 × 128\n",
      "Tensor: GPU pinned 16 × 64 × 128 × 128\n",
      "Tensor: GPU pinned 16 × 64 × 128 × 128\n",
      "Tensor: GPU pinned 16 × 64 × 128 × 128\n",
      "Tensor: GPU pinned 16 × 256 × 128 × 128\n",
      "Tensor: GPU pinned 16 × 256 × 128 × 128\n",
      "Tensor: GPU pinned 16 × 256 × 128 × 128\n",
      "Tensor: GPU pinned 16 × 64 × 128 × 128\n",
      "Tensor: GPU pinned 16 × 64 × 128 × 128\n",
      "Tensor: GPU pinned 16 × 64 × 128 × 128\n",
      "Tensor: GPU pinned 16 × 64 × 128 × 128\n",
      "Tensor: GPU pinned 16 × 256 × 128 × 128\n",
      "Tensor: GPU pinned 16 × 256 × 128 × 128\n",
      "Tensor: GPU pinned 16 × 64 × 128 × 128\n",
      "Tensor: GPU pinned 16 × 64 × 128 × 128\n",
      "Tensor: GPU pinned 16 × 64 × 128 × 128\n",
      "Tensor: GPU pinned 16 × 64 × 128 × 128\n",
      "Tensor: GPU pinned 16 × 256 × 128 × 128\n",
      "Tensor: GPU pinned 16 × 128 × 128 × 128\n",
      "Tensor: GPU pinned 16 × 128 × 128 × 128\n",
      "Tensor: GPU pinned 16 × 128 × 64 × 64\n",
      "Tensor: GPU pinned 16 × 128 × 64 × 64\n",
      "Tensor: GPU pinned 16 × 512 × 64 × 64\n",
      "Tensor: GPU pinned 16 × 512 × 64 × 64\n",
      "Tensor: GPU pinned 16 × 512 × 64 × 64\n",
      "Tensor: GPU pinned 16 × 128 × 64 × 64\n",
      "Tensor: GPU pinned 16 × 128 × 64 × 64\n",
      "Tensor: GPU pinned 16 × 128 × 64 × 64\n",
      "Tensor: GPU pinned 16 × 128 × 64 × 64\n",
      "Tensor: GPU pinned 16 × 512 × 64 × 64\n",
      "Tensor: GPU pinned 16 × 512 × 64 × 64\n",
      "Tensor: GPU pinned 16 × 128 × 64 × 64\n",
      "Tensor: GPU pinned 16 × 128 × 64 × 64\n",
      "Tensor: GPU pinned 16 × 128 × 64 × 64\n",
      "Tensor: GPU pinned 16 × 128 × 64 × 64\n",
      "Tensor: GPU pinned 16 × 512 × 64 × 64\n",
      "Tensor: GPU pinned 16 × 512 × 64 × 64\n",
      "Tensor: GPU pinned 16 × 128 × 64 × 64\n",
      "Tensor: GPU pinned 16 × 128 × 64 × 64\n",
      "Tensor: GPU pinned 16 × 128 × 64 × 64\n",
      "Tensor: GPU pinned 16 × 128 × 64 × 64\n",
      "Tensor: GPU pinned 16 × 512 × 64 × 64\n",
      "Tensor: GPU pinned 16 × 256 × 64 × 64\n",
      "Tensor: GPU pinned 16 × 256 × 64 × 64\n",
      "Tensor: GPU pinned 16 × 256 × 32 × 32\n",
      "Tensor: GPU pinned 16 × 256 × 32 × 32\n",
      "Tensor: GPU pinned 16 × 1024 × 32 × 32\n",
      "Tensor: GPU pinned 16 × 1024 × 32 × 32\n",
      "Tensor: GPU pinned 16 × 1024 × 32 × 32\n",
      "Tensor: GPU pinned 16 × 256 × 32 × 32\n",
      "Tensor: GPU pinned 16 × 256 × 32 × 32\n",
      "Tensor: GPU pinned 16 × 256 × 32 × 32\n",
      "Tensor: GPU pinned 16 × 256 × 32 × 32\n",
      "Tensor: GPU pinned 16 × 1024 × 32 × 32\n",
      "Tensor: GPU pinned 16 × 1024 × 32 × 32\n",
      "Tensor: GPU pinned 16 × 256 × 32 × 32\n",
      "Tensor: GPU pinned 16 × 256 × 32 × 32\n",
      "Tensor: GPU pinned 16 × 256 × 32 × 32\n",
      "Tensor: GPU pinned 16 × 256 × 32 × 32\n",
      "Tensor: GPU pinned 16 × 1024 × 32 × 32\n",
      "Tensor: GPU pinned 16 × 1024 × 32 × 32\n",
      "Tensor: GPU pinned 16 × 256 × 32 × 32\n",
      "Tensor: GPU pinned 16 × 256 × 32 × 32\n",
      "Tensor: GPU pinned 16 × 256 × 32 × 32\n",
      "Tensor: GPU pinned 16 × 256 × 32 × 32\n",
      "Tensor: GPU pinned 16 × 1024 × 32 × 32\n",
      "Tensor: GPU pinned 16 × 1024 × 32 × 32\n",
      "Tensor: GPU pinned 16 × 256 × 32 × 32\n",
      "Tensor: GPU pinned 16 × 256 × 32 × 32\n",
      "Tensor: GPU pinned 16 × 256 × 32 × 32\n",
      "Tensor: GPU pinned 16 × 256 × 32 × 32\n",
      "Tensor: GPU pinned 16 × 1024 × 32 × 32\n",
      "Tensor: GPU pinned 16 × 1024 × 32 × 32\n",
      "Tensor: GPU pinned 16 × 256 × 32 × 32\n",
      "Tensor: GPU pinned 16 × 256 × 32 × 32\n",
      "Tensor: GPU pinned 16 × 256 × 32 × 32\n",
      "Tensor: GPU pinned 16 × 256 × 32 × 32\n",
      "Tensor: GPU pinned 16 × 1024 × 32 × 32\n",
      "Tensor: GPU pinned 16 × 512 × 32 × 32\n",
      "Tensor: GPU pinned 16 × 512 × 32 × 32\n",
      "Tensor: GPU pinned 16 × 512 × 16 × 16\n",
      "Tensor: GPU pinned 16 × 512 × 16 × 16\n",
      "Tensor: GPU pinned 16 × 2048 × 16 × 16\n",
      "Tensor: GPU pinned 16 × 2048 × 16 × 16\n",
      "Tensor: GPU pinned 16 × 2048 × 16 × 16\n",
      "Tensor: GPU pinned 16 × 512 × 16 × 16\n",
      "Tensor: GPU pinned 16 × 512 × 16 × 16\n",
      "Tensor: GPU pinned 16 × 512 × 16 × 16\n",
      "Tensor: GPU pinned 16 × 512 × 16 × 16\n",
      "Tensor: GPU pinned 16 × 2048 × 16 × 16\n",
      "Tensor: GPU pinned 16 × 2048 × 16 × 16\n",
      "Tensor: GPU pinned 16 × 512 × 16 × 16\n",
      "Tensor: GPU pinned 16 × 512 × 16 × 16\n",
      "Tensor: GPU pinned 16 × 512 × 16 × 16\n",
      "Tensor: GPU pinned 16 × 512 × 16 × 16\n",
      "Tensor: GPU pinned 16 × 2048 × 16 × 16\n",
      "Tensor: GPU pinned 16 × 3072 × 32 × 32\n",
      "Tensor: GPU pinned 16 × 256 × 32 × 32\n",
      "Tensor: GPU pinned 16 × 256 × 32 × 32\n",
      "Tensor: GPU pinned 16 × 256 × 32 × 32\n",
      "Tensor: GPU pinned 16 × 768 × 64 × 64\n",
      "Tensor: GPU pinned 16 × 128 × 64 × 64\n",
      "Tensor: GPU pinned 16 × 128 × 64 × 64\n",
      "Tensor: GPU pinned 16 × 128 × 64 × 64\n",
      "Tensor: GPU pinned 16 × 384 × 128 × 128\n",
      "Tensor: GPU pinned 16 × 64 × 128 × 128\n",
      "Tensor: GPU pinned 16 × 64 × 128 × 128\n",
      "Tensor: GPU pinned 16 × 64 × 128 × 128\n",
      "Tensor: GPU pinned 16 × 128 × 256 × 256\n",
      "Tensor: GPU pinned 16 × 32 × 256 × 256\n",
      "Tensor: GPU pinned 16 × 32 × 256 × 256\n",
      "Tensor: GPU pinned 16 × 32 × 256 × 256\n",
      "Tensor: GPU pinned 16 × 32 × 512 × 512\n",
      "Tensor: GPU pinned 16 × 16 × 512 × 512\n",
      "Tensor: GPU pinned 16 × 3 × 512 × 512\n",
      "Tensor: GPU pinned 16 × 1 × 512 × 512\n",
      "Tensor: GPU pinned 16 × 2048 × 16 × 16\n",
      "Tensor: GPU pinned 16 × 1024 × 32 × 32\n",
      "Tensor: GPU pinned 16 × 512 × 64 × 64\n",
      "Tensor: GPU pinned 16 × 256 × 128 × 128\n",
      "Tensor: GPU pinned 16 × 64 × 256 × 256\n",
      "Tensor: GPU pinned 16 × 32 × 256 × 256\n",
      "Tensor: GPU pinned 16 × 16 × 512 × 512\n"
     ]
    },
    {
     "name": "stderr",
     "output_type": "stream",
     "text": [
      "/usr/local/lib/python3.7/dist-packages/ipykernel_launcher.py:19: DeprecationWarning: astor.all_symbols is deprecated.  Please use astor.symbol_data.\n",
      "/usr/local/lib/python3.7/dist-packages/ipykernel_launcher.py:19: DeprecationWarning: astor.treewalk is deprecated.  Please use astor.tree_walk.\n",
      "/usr/local/lib/python3.7/dist-packages/ipykernel_launcher.py:19: DeprecationWarning: astor.codegen is deprecated.  Please use astor.code_gen.\n",
      "/usr/local/lib/python3.7/dist-packages/torch/distributed/distributed_c10d.py:182: UserWarning: torch.distributed.reduce_op is deprecated, please use torch.distributed.ReduceOp instead\n",
      "  \"torch.distributed.reduce_op is deprecated, please use \"\n"
     ]
    },
    {
     "name": "stdout",
     "output_type": "stream",
     "text": [
      "Parameter: GPU pinned 64 × 64 × 3 × 3\n",
      "Parameter: GPU pinned 64 × 3 × 7 × 7\n",
      "Parameter: GPU pinned 64\n",
      "Parameter: GPU pinned 64\n",
      "Parameter: GPU pinned 64 × 64 × 1 × 1\n",
      "Parameter: GPU pinned 64\n",
      "Parameter: GPU pinned 64\n",
      "Parameter: GPU pinned 256 × 64 × 1 × 1\n",
      "Parameter: GPU pinned 256\n",
      "Parameter: GPU pinned 256\n",
      "Total size: 2624656144\n"
     ]
    },
    {
     "name": "stderr",
     "output_type": "stream",
     "text": [
      "/usr/local/lib/python3.7/dist-packages/ipykernel_launcher.py:19: DeprecationWarning: MODES has been renamed to Modes and will be removed in a future version of pywt.\n"
     ]
    }
   ],
   "source": [
    "dump_tensors()"
   ]
  },
  {
   "cell_type": "markdown",
   "metadata": {
    "id": "7OwRg-VeCK61"
   },
   "source": [
    "### Plotting learning graphs"
   ]
  },
  {
   "cell_type": "code",
   "execution_count": 20,
   "metadata": {
    "id": "DajYgMQoCK61"
   },
   "outputs": [],
   "source": [
    "params = ['dice_loss','iou_score','recall','fscore']"
   ]
  },
  {
   "cell_type": "code",
   "execution_count": 21,
   "metadata": {
    "id": "250NQDM7CK62"
   },
   "outputs": [
    {
     "data": {
      "image/png": "[encoded data removed]",
      "text/plain": [
       "<Figure size 432x288 with 1 Axes>"
      ]
     },
     "metadata": {
      "needs_background": "light"
     },
     "output_type": "display_data"
    },
    {
     "data": {
      "image/png": "[encoded data removed]",
      "text/plain": [
       "<Figure size 432x288 with 1 Axes>"
      ]
     },
     "metadata": {
      "needs_background": "light"
     },
     "output_type": "display_data"
    },
    {
     "data": {
      "image/png": "[encoded data removed]",
      "text/plain": [
       "<Figure size 432x288 with 1 Axes>"
      ]
     },
     "metadata": {
      "needs_background": "light"
     },
     "output_type": "display_data"
    },
    {
     "data": {
      "image/png": "[encoded data removed]",
      "text/plain": [
       "<Figure size 432x288 with 1 Axes>"
      ]
     },
     "metadata": {
      "needs_background": "light"
     },
     "output_type": "display_data"
    }
   ],
   "source": [
    "plotter(train_logs_list,valid_logs_list,params)"
   ]
  },
  {
   "cell_type": "code",
   "execution_count": null,
   "metadata": {
    "id": "AkZ42nzuCK62"
   },
   "outputs": [],
   "source": [
    "plotter(train_logs_list,valid_logs_list,params)"
   ]
  },
  {
   "cell_type": "code",
   "execution_count": null,
   "metadata": {
    "id": "iz9ydfCPCK63"
   },
   "outputs": [],
   "source": [
    "plotter(train_logs_list,valid_logs_list,params)"
   ]
  },
  {
   "cell_type": "code",
   "execution_count": null,
   "metadata": {
    "id": "fLDCnLQuCK64"
   },
   "outputs": [],
   "source": [
    "# 50 no sheduler\n",
    "plotter(train_logs_list,valid_logs_list,params)"
   ]
  },
  {
   "cell_type": "code",
   "execution_count": null,
   "metadata": {
    "id": "azdcpyNtCK64"
   },
   "outputs": [],
   "source": [
    "# new_data\n",
    "plotter(train_logs_list,valid_logs_list,params)"
   ]
  },
  {
   "cell_type": "markdown",
   "metadata": {
    "id": "miY-YKzkCK64"
   },
   "source": [
    "## Evaluate"
   ]
  },
  {
   "cell_type": "code",
   "execution_count": null,
   "metadata": {
    "id": "c-l3eCw-CK65"
   },
   "outputs": [],
   "source": [
    "EVALUATE_EPOCHS = 10"
   ]
  },
  {
   "cell_type": "code",
   "execution_count": 27,
   "metadata": {
    "id": "laHubTUWCK65",
    "tags": []
   },
   "outputs": [
    {
     "name": "stdout",
     "output_type": "stream",
     "text": [
      "valid:  54%|█ | 62/115 [02:39<02:16,  2.57s/it, dice_loss - 0.25, iou_score - 0.6054, recall - 0.7149, fscore - 0.7505]\n"
     ]
    },
    {
     "ename": "KeyboardInterrupt",
     "evalue": "",
     "output_type": "error",
     "traceback": [
      "\u001b[1;31m---------------------------------------------------------------------------\u001b[0m",
      "\u001b[1;31mKeyboardInterrupt\u001b[0m                         Traceback (most recent call last)",
      "\u001b[1;32m~\\AppData\\Local\\Temp/ipykernel_14112/429919310.py\u001b[0m in \u001b[0;36m<module>\u001b[1;34m\u001b[0m\n\u001b[0;32m      1\u001b[0m \u001b[0mbest_iou_score\u001b[0m \u001b[1;33m=\u001b[0m \u001b[1;36m0.0\u001b[0m\u001b[1;33m\u001b[0m\u001b[1;33m\u001b[0m\u001b[0m\n\u001b[0;32m      2\u001b[0m \u001b[1;33m\u001b[0m\u001b[0m\n\u001b[1;32m----> 3\u001b[1;33m \u001b[0mtest_logs\u001b[0m \u001b[1;33m=\u001b[0m \u001b[0mvalid_epoch\u001b[0m\u001b[1;33m.\u001b[0m\u001b[0mrun\u001b[0m\u001b[1;33m(\u001b[0m\u001b[0mvalid_loader\u001b[0m\u001b[1;33m)\u001b[0m\u001b[1;33m\u001b[0m\u001b[1;33m\u001b[0m\u001b[0m\n\u001b[0m\u001b[0;32m      4\u001b[0m \u001b[1;33m\u001b[0m\u001b[0m\n\u001b[0;32m      5\u001b[0m \u001b[1;33m\u001b[0m\u001b[0m\n",
      "\u001b[1;32mc:\\users\\alexa\\appdata\\local\\programs\\python\\python38\\lib\\site-packages\\segmentation_models_pytorch\\utils\\train.py\u001b[0m in \u001b[0;36mrun\u001b[1;34m(self, dataloader)\u001b[0m\n\u001b[0;32m     48\u001b[0m \u001b[1;33m\u001b[0m\u001b[0m\n\u001b[0;32m     49\u001b[0m                 \u001b[1;31m# update loss logs\u001b[0m\u001b[1;33m\u001b[0m\u001b[1;33m\u001b[0m\u001b[1;33m\u001b[0m\u001b[0m\n\u001b[1;32m---> 50\u001b[1;33m                 \u001b[0mloss_value\u001b[0m \u001b[1;33m=\u001b[0m \u001b[0mloss\u001b[0m\u001b[1;33m.\u001b[0m\u001b[0mcpu\u001b[0m\u001b[1;33m(\u001b[0m\u001b[1;33m)\u001b[0m\u001b[1;33m.\u001b[0m\u001b[0mdetach\u001b[0m\u001b[1;33m(\u001b[0m\u001b[1;33m)\u001b[0m\u001b[1;33m.\u001b[0m\u001b[0mnumpy\u001b[0m\u001b[1;33m(\u001b[0m\u001b[1;33m)\u001b[0m\u001b[1;33m\u001b[0m\u001b[1;33m\u001b[0m\u001b[0m\n\u001b[0m\u001b[0;32m     51\u001b[0m                 \u001b[0mloss_meter\u001b[0m\u001b[1;33m.\u001b[0m\u001b[0madd\u001b[0m\u001b[1;33m(\u001b[0m\u001b[0mloss_value\u001b[0m\u001b[1;33m)\u001b[0m\u001b[1;33m\u001b[0m\u001b[1;33m\u001b[0m\u001b[0m\n\u001b[0;32m     52\u001b[0m                 \u001b[0mloss_logs\u001b[0m \u001b[1;33m=\u001b[0m \u001b[1;33m{\u001b[0m\u001b[0mself\u001b[0m\u001b[1;33m.\u001b[0m\u001b[0mloss\u001b[0m\u001b[1;33m.\u001b[0m\u001b[0m__name__\u001b[0m\u001b[1;33m:\u001b[0m \u001b[0mloss_meter\u001b[0m\u001b[1;33m.\u001b[0m\u001b[0mmean\u001b[0m\u001b[1;33m}\u001b[0m\u001b[1;33m\u001b[0m\u001b[1;33m\u001b[0m\u001b[0m\n",
      "\u001b[1;31mKeyboardInterrupt\u001b[0m: "
     ]
    }
   ],
   "source": [
    "best_iou_score = 0.0\n",
    "\n",
    "test_logs = valid_epoch.run(valid_loader)\n",
    "\n",
    "\n",
    "#print(f'------------\\nValidation scores:\\n {list_dict_mean(test_logs_list)}\\n------------')"
   ]
  },
  {
   "cell_type": "markdown",
   "metadata": {
    "id": "qm6UjuExCK67"
   },
   "source": [
    "## Loading best model"
   ]
  },
  {
   "cell_type": "code",
   "execution_count": null,
   "metadata": {
    "id": "FFLW9z1sCK67"
   },
   "outputs": [],
   "source": [
    "l_model = torch.load(os.path.join(dataset_dir,model_save_name))"
   ]
  },
  {
   "cell_type": "markdown",
   "metadata": {
    "id": "T1-Pp1AwCK67"
   },
   "source": [
    "## Looking at results"
   ]
  },
  {
   "cell_type": "code",
   "execution_count": 14,
   "metadata": {
    "id": "blQgeE6OCK67"
   },
   "outputs": [],
   "source": [
    "def show_tensor_image(tensor):\n",
    "    cpu = tensor.cpu()\n",
    "    images = cpu[0].permute(1, 2, 0)\n",
    "    \n",
    "    im_num = images.shape[2]\n",
    "    \n",
    "    fig, axs = plt.subplots(1,im_num)\n",
    "    \n",
    "    if im_num == 1:\n",
    "        axs.imshow(images[:,:])\n",
    "    else:\n",
    "        for ch in range(im_num):\n",
    "            axs[ch].imshow(images[:,:,ch])"
   ]
  },
  {
   "cell_type": "code",
   "execution_count": 15,
   "metadata": {
    "id": "HNp-NiEZCK67"
   },
   "outputs": [],
   "source": [
    "valid_iter = iter(valid_loader)"
   ]
  },
  {
   "cell_type": "code",
   "execution_count": 16,
   "metadata": {
    "id": "LeICvA9DCK68"
   },
   "outputs": [],
   "source": [
    "test_input,test_lable = next(valid_iter)\n",
    "test_input = test_input.cuda()"
   ]
  },
  {
   "cell_type": "code",
   "execution_count": 19,
   "metadata": {},
   "outputs": [
    {
     "data": {
      "text/plain": [
       "torch.Size([8, 3, 224, 224])"
      ]
     },
     "execution_count": 19,
     "metadata": {},
     "output_type": "execute_result"
    }
   ],
   "source": [
    "test_input.shape"
   ]
  },
  {
   "cell_type": "code",
   "execution_count": 27,
   "metadata": {},
   "outputs": [],
   "source": [
    "a = test_input.cpu()"
   ]
  },
  {
   "cell_type": "code",
   "execution_count": 31,
   "metadata": {},
   "outputs": [],
   "source": [
    "n = a.permute(0,2,3,1).numpy()"
   ]
  },
  {
   "cell_type": "code",
   "execution_count": 36,
   "metadata": {},
   "outputs": [],
   "source": [
    "imr = A.Resize(300,300)(image=n[0])"
   ]
  },
  {
   "cell_type": "code",
   "execution_count": 38,
   "metadata": {},
   "outputs": [
    {
     "data": {
      "text/plain": [
       "dict"
      ]
     },
     "execution_count": 38,
     "metadata": {},
     "output_type": "execute_result"
    }
   ],
   "source": [
    "type(imr)"
   ]
  },
  {
   "cell_type": "code",
   "execution_count": 39,
   "metadata": {},
   "outputs": [
    {
     "data": {
      "text/plain": [
       "<matplotlib.image.AxesImage at 0x20813ce33d0>"
      ]
     },
     "execution_count": 39,
     "metadata": {},
     "output_type": "execute_result"
    },
    {
     "data": {
      "image/png": "[encoded data removed]",
      "text/plain": [
       "<Figure size 432x288 with 1 Axes>"
      ]
     },
     "metadata": {
      "needs_background": "light"
     },
     "output_type": "display_data"
    }
   ],
   "source": [
    "plt.imshow(imr['image'])"
   ]
  },
  {
   "cell_type": "code",
   "execution_count": 23,
   "metadata": {
    "id": "UgKzwXSgCK68"
   },
   "outputs": [],
   "source": [
    "test_pred = model.predict(test_input)"
   ]
  },
  {
   "cell_type": "markdown",
   "metadata": {
    "id": "2rMCOaDSCK68"
   },
   "source": [
    "### Predict with best model"
   ]
  },
  {
   "cell_type": "code",
   "execution_count": 24,
   "metadata": {
    "id": "KcdVh_AlCK69"
   },
   "outputs": [
    {
     "ename": "NameError",
     "evalue": "name 'l_model' is not defined",
     "output_type": "error",
     "traceback": [
      "\u001b[1;31m---------------------------------------------------------------------------\u001b[0m",
      "\u001b[1;31mNameError\u001b[0m                                 Traceback (most recent call last)",
      "\u001b[1;32m~\\AppData\\Local\\Temp/ipykernel_16160/3878582095.py\u001b[0m in \u001b[0;36m<module>\u001b[1;34m\u001b[0m\n\u001b[1;32m----> 1\u001b[1;33m \u001b[0mtest_pred\u001b[0m \u001b[1;33m=\u001b[0m \u001b[0ml_model\u001b[0m\u001b[1;33m.\u001b[0m\u001b[0mpredict\u001b[0m\u001b[1;33m(\u001b[0m\u001b[0mtest_input\u001b[0m\u001b[1;33m)\u001b[0m\u001b[1;33m\u001b[0m\u001b[1;33m\u001b[0m\u001b[0m\n\u001b[0m",
      "\u001b[1;31mNameError\u001b[0m: name 'l_model' is not defined"
     ]
    }
   ],
   "source": [
    "test_pred = l_model.predict(test_input)"
   ]
  },
  {
   "cell_type": "markdown",
   "metadata": {
    "id": "xYoduoG2CK69"
   },
   "source": [
    "### All aorta images"
   ]
  },
  {
   "cell_type": "code",
   "execution_count": 25,
   "metadata": {
    "id": "A4A-zsl2CK69"
   },
   "outputs": [
    {
     "data": {
      "image/png": "[encoded data removed]",
      "text/plain": [
       "<Figure size 432x288 with 3 Axes>"
      ]
     },
     "metadata": {
      "needs_background": "light"
     },
     "output_type": "display_data"
    }
   ],
   "source": [
    "show_tensor_image(test_input)"
   ]
  },
  {
   "cell_type": "code",
   "execution_count": 17,
   "metadata": {
    "id": "bKe8kNQZCK6-"
   },
   "outputs": [
    {
     "data": {
      "image/png": "[encoded data removed]",
      "text/plain": [
       "<Figure size 432x288 with 1 Axes>"
      ]
     },
     "metadata": {
      "needs_background": "light"
     },
     "output_type": "display_data"
    }
   ],
   "source": [
    "show_tensor_image(test_lable)"
   ]
  },
  {
   "cell_type": "code",
   "execution_count": 27,
   "metadata": {
    "id": "ROW3ioL7CK6-"
   },
   "outputs": [
    {
     "data": {
      "image/png": "[encoded data removed]",
      "text/plain": [
       "<Figure size 432x288 with 1 Axes>"
      ]
     },
     "metadata": {
      "needs_background": "light"
     },
     "output_type": "display_data"
    }
   ],
   "source": [
    "show_tensor_image(test_pred)"
   ]
  },
  {
   "cell_type": "markdown",
   "metadata": {
    "id": "GzMjt-FFCK6_",
    "tags": []
   },
   "source": [
    "### Only top images"
   ]
  },
  {
   "cell_type": "code",
   "execution_count": null,
   "metadata": {
    "id": "PEVXJCnTCK6_"
   },
   "outputs": [],
   "source": [
    "show_tensor_image(test_input)"
   ]
  },
  {
   "cell_type": "code",
   "execution_count": null,
   "metadata": {
    "id": "83K56_EUCK6_"
   },
   "outputs": [],
   "source": [
    "show_tensor_image(test_lable)"
   ]
  },
  {
   "cell_type": "code",
   "execution_count": null,
   "metadata": {
    "id": "9grZMNm4CK7A"
   },
   "outputs": [],
   "source": [
    "show_tensor_image(test_pred)"
   ]
  },
  {
   "cell_type": "code",
   "execution_count": null,
   "metadata": {
    "id": "eaqNATlVCK7A"
   },
   "outputs": [],
   "source": [
    "show_tensor_image(test_input)"
   ]
  },
  {
   "cell_type": "code",
   "execution_count": null,
   "metadata": {
    "id": "j2EY4QjOCK7A"
   },
   "outputs": [],
   "source": [
    "show_tensor_image(test_lable)"
   ]
  },
  {
   "cell_type": "code",
   "execution_count": null,
   "metadata": {
    "id": "jU6dQgToCK7B"
   },
   "outputs": [],
   "source": [
    "show_tensor_image(test_pred)"
   ]
  },
  {
   "cell_type": "code",
   "execution_count": null,
   "metadata": {
    "id": "R1WGCvlkCK7B",
    "tags": []
   },
   "outputs": [],
   "source": [
    "show_tensor_image(test_input)"
   ]
  },
  {
   "cell_type": "code",
   "execution_count": null,
   "metadata": {
    "id": "O8dwXI_FCK7B"
   },
   "outputs": [],
   "source": [
    "show_tensor_image(test_lable)"
   ]
  },
  {
   "cell_type": "code",
   "execution_count": null,
   "metadata": {
    "id": "9woWWd7iCK7C"
   },
   "outputs": [],
   "source": [
    "show_tensor_image(test_pred)"
   ]
  },
  {
   "cell_type": "markdown",
   "metadata": {
    "id": "v1p5Dr9eCK7C"
   },
   "source": [
    "Для отчёта"
   ]
  },
  {
   "cell_type": "code",
   "execution_count": null,
   "metadata": {
    "id": "o4ZUsvFQCK7C",
    "tags": []
   },
   "outputs": [],
   "source": [
    "show_tensor_image(test_input)"
   ]
  },
  {
   "cell_type": "code",
   "execution_count": null,
   "metadata": {
    "id": "oHRwz91vCK7D"
   },
   "outputs": [],
   "source": [
    "show_tensor_image(test_lable)"
   ]
  },
  {
   "cell_type": "code",
   "execution_count": null,
   "metadata": {
    "id": "_a2FdUIuCK7D"
   },
   "outputs": [],
   "source": [
    "show_tensor_image(test_pred)"
   ]
  },
  {
   "cell_type": "code",
   "execution_count": null,
   "metadata": {
    "id": "1yKvzLB0CK7E",
    "tags": []
   },
   "outputs": [],
   "source": [
    "show_tensor_image(test_input)"
   ]
  },
  {
   "cell_type": "code",
   "execution_count": null,
   "metadata": {
    "id": "iW8z6PCVCK7E"
   },
   "outputs": [],
   "source": [
    "cpu = test_input.cpu()\n",
    "images = cpu[0].permute(1, 2, 0)\n",
    "\n",
    "im_num = images.shape[2]\n",
    "\n",
    "fig, axs = plt.subplots(1,im_num)\n",
    "\n",
    "if im_num == 1:\n",
    "    axs.imshow(images[:,:])\n",
    "else:\n",
    "    for ch in range(im_num):\n",
    "        axs[ch].imshow(images[:,:,ch])"
   ]
  },
  {
   "cell_type": "code",
   "execution_count": null,
   "metadata": {
    "id": "DFv-UEwyCK7E"
   },
   "outputs": [],
   "source": [
    "plt.imshow(images)\n",
    "plt.axis('off')"
   ]
  },
  {
   "cell_type": "code",
   "execution_count": null,
   "metadata": {
    "id": "V7eDG-48CK7F"
   },
   "outputs": [],
   "source": [
    "show_tensor_image(test_lable)"
   ]
  },
  {
   "cell_type": "code",
   "execution_count": null,
   "metadata": {
    "id": "kP_x4a2BCK7F"
   },
   "outputs": [],
   "source": [
    "cpu = test_lable.cpu()\n",
    "images = cpu[0].permute(1, 2, 0)"
   ]
  },
  {
   "cell_type": "code",
   "execution_count": null,
   "metadata": {
    "id": "-3-PZi-PCK7F"
   },
   "outputs": [],
   "source": [
    "plt.imshow(images)\n",
    "plt.axis('off')\n"
   ]
  },
  {
   "cell_type": "code",
   "execution_count": null,
   "metadata": {
    "id": "5b9pYjSCCK7G"
   },
   "outputs": [],
   "source": [
    "show_tensor_image(test_pred)"
   ]
  },
  {
   "cell_type": "code",
   "execution_count": null,
   "metadata": {
    "id": "vxIFXXdICK7G"
   },
   "outputs": [],
   "source": [
    "cpu = test_pred.cpu()\n",
    "images = cpu[0].permute(1, 2, 0)\n",
    "plt.imshow(images)\n",
    "plt.axis('off')"
   ]
  },
  {
   "cell_type": "markdown",
   "metadata": {
    "id": "IYW6r4XnCK7H",
    "tags": []
   },
   "source": [
    "# Saved Results"
   ]
  },
  {
   "cell_type": "markdown",
   "metadata": {
    "id": "h9C7o1cyCK7H"
   },
   "source": [
    "## Descending only, ResNet50, Lr_shed = ReduceLROnPlateau"
   ]
  },
  {
   "cell_type": "code",
   "execution_count": null,
   "metadata": {
    "id": "vD7vDBvtCK7H",
    "outputId": "99f59992-330a-4600-8620-584e79046ccc"
   },
   "outputs": [
    {
     "data": {
      "image/png": "[encoded data removed]",
      "text/plain": [
       "<Figure size 432x288 with 1 Axes>"
      ]
     },
     "metadata": {
      "needs_background": "light"
     },
     "output_type": "display_data"
    },
    {
     "data": {
      "image/png": "[encoded data removed]",
      "text/plain": [
       "<Figure size 432x288 with 1 Axes>"
      ]
     },
     "metadata": {
      "needs_background": "light"
     },
     "output_type": "display_data"
    }
   ],
   "source": [
    "plotter(train_logs_list,valid_logs_list,params)"
   ]
  },
  {
   "cell_type": "code",
   "execution_count": null,
   "metadata": {
    "id": "ddhXmPs9CK7I",
    "outputId": "25efbc15-7ad2-43dd-c2e3-5a696755da4c"
   },
   "outputs": [
    {
     "name": "stdout",
     "output_type": "stream",
     "text": [
      "\n",
      "Epoch: 0\n",
      "valid: 100%|█████████████████████████████████████| 4/4 [00:00<00:00,  5.98it/s, dice_loss - 0.3214, iou_score - 0.7412]\n",
      "\n",
      "Epoch: 1\n",
      "valid: 100%|█████████████████████████████████████| 4/4 [00:00<00:00,  7.54it/s, dice_loss - 0.2638, iou_score - 0.7738]\n",
      "\n",
      "Epoch: 2\n",
      "valid: 100%|█████████████████████████████████████| 4/4 [00:00<00:00,  7.34it/s, dice_loss - 0.3572, iou_score - 0.6927]\n",
      "\n",
      "Epoch: 3\n",
      "valid: 100%|█████████████████████████████████████| 4/4 [00:00<00:00,  7.67it/s, dice_loss - 0.3115, iou_score - 0.7033]\n",
      "\n",
      "Epoch: 4\n",
      "valid: 100%|█████████████████████████████████████| 4/4 [00:00<00:00,  7.55it/s, dice_loss - 0.3719, iou_score - 0.7698]\n",
      "\n",
      "Epoch: 5\n",
      "valid: 100%|█████████████████████████████████████| 4/4 [00:00<00:00,  7.40it/s, dice_loss - 0.3468, iou_score - 0.6938]\n",
      "\n",
      "Epoch: 6\n",
      "valid: 100%|██████████████████████████████████████| 4/4 [00:00<00:00,  7.46it/s, dice_loss - 0.381, iou_score - 0.6397]\n",
      "\n",
      "Epoch: 7\n",
      "valid: 100%|█████████████████████████████████████| 4/4 [00:00<00:00,  7.18it/s, dice_loss - 0.2366, iou_score - 0.8272]\n",
      "\n",
      "Epoch: 8\n",
      "valid: 100%|█████████████████████████████████████| 4/4 [00:00<00:00,  7.52it/s, dice_loss - 0.3653, iou_score - 0.7003]\n",
      "\n",
      "Epoch: 9\n",
      "valid: 100%|█████████████████████████████████████| 4/4 [00:00<00:00,  7.50it/s, dice_loss - 0.3021, iou_score - 0.7302]\n",
      "------------\n",
      "Validation scores:\n",
      " dice_loss    0.325754\n",
      "iou_score    0.727194\n",
      "dtype: float64\n",
      "------------\n"
     ]
    }
   ],
   "source": [
    "best_iou_score = 0.0\n",
    "test_logs_list = []\n",
    "\n",
    "for i in range(0, EVALUATE_EPOCHS):\n",
    "\n",
    "    # Perform training & validation\n",
    "    print('\\nEpoch: {}'.format(i))\n",
    "    test_logs = valid_epoch.run(valid_loader)\n",
    "    test_logs_list.append(test_logs)\n",
    "\n",
    "    # Save model if a better val IoU score is obtained\n",
    "    if best_iou_score < test_logs['iou_score']:\n",
    "        best_iou_score = test_logs['iou_score']\n",
    "\n",
    "\n",
    "\n",
    "print(f'------------\\nValidation scores:\\n {list_dict_mean(test_logs_list)}\\n------------')"
   ]
  },
  {
   "cell_type": "markdown",
   "metadata": {
    "id": "3DN6BuhMCK7I",
    "tags": []
   },
   "source": [
    "## Descending only, ResNet101, Lr_shed = ReduceLROnPlateau"
   ]
  },
  {
   "cell_type": "code",
   "execution_count": null,
   "metadata": {
    "id": "BGt4hI8TCK7J",
    "outputId": "0aa87a2a-f504-4f64-e78e-d0f3fd0c4c86"
   },
   "outputs": [
    {
     "data": {
      "image/png": "[encoded data removed]",
      "text/plain": [
       "<Figure size 432x288 with 1 Axes>"
      ]
     },
     "metadata": {
      "needs_background": "light"
     },
     "output_type": "display_data"
    },
    {
     "data": {
      "image/png": "[encoded data removed]",
      "text/plain": [
       "<Figure size 432x288 with 1 Axes>"
      ]
     },
     "metadata": {
      "needs_background": "light"
     },
     "output_type": "display_data"
    }
   ],
   "source": [
    "# 101 plateu\n",
    "plotter(train_logs_list,valid_logs_list,params)"
   ]
  },
  {
   "cell_type": "code",
   "execution_count": null,
   "metadata": {
    "id": "Inj1uu-yCK7J",
    "outputId": "dbc78a63-1ac0-4494-b373-e8ff2186809f",
    "tags": []
   },
   "outputs": [
    {
     "name": "stdout",
     "output_type": "stream",
     "text": [
      "\n",
      "Epoch: 0\n",
      "valid: 100%|█████████████████████████████████████| 4/4 [00:00<00:00,  5.01it/s, dice_loss - 0.5497, iou_score - 0.7157]\n",
      "\n",
      "Epoch: 1\n",
      "valid: 100%|█████████████████████████████████████| 4/4 [00:00<00:00,  6.35it/s, dice_loss - 0.5749, iou_score - 0.7003]\n",
      "\n",
      "Epoch: 2\n",
      "valid: 100%|█████████████████████████████████████| 4/4 [00:00<00:00,  6.25it/s, dice_loss - 0.5011, iou_score - 0.6938]\n",
      "\n",
      "Epoch: 3\n",
      "valid: 100%|█████████████████████████████████████| 4/4 [00:00<00:00,  6.40it/s, dice_loss - 0.5492, iou_score - 0.6288]\n",
      "\n",
      "Epoch: 4\n",
      "valid: 100%|█████████████████████████████████████| 4/4 [00:00<00:00,  6.30it/s, dice_loss - 0.5644, iou_score - 0.7242]\n",
      "\n",
      "Epoch: 5\n",
      "valid: 100%|█████████████████████████████████████| 4/4 [00:00<00:00,  6.33it/s, dice_loss - 0.4966, iou_score - 0.7806]\n",
      "\n",
      "Epoch: 6\n",
      "valid: 100%|█████████████████████████████████████| 4/4 [00:00<00:00,  6.49it/s, dice_loss - 0.4987, iou_score - 0.7618]\n",
      "\n",
      "Epoch: 7\n",
      "valid: 100%|███████████████████████████████████████| 4/4 [00:00<00:00,  6.63it/s, dice_loss - 0.5549, iou_score - 0.67]\n",
      "\n",
      "Epoch: 8\n",
      "valid: 100%|█████████████████████████████████████| 4/4 [00:00<00:00,  6.50it/s, dice_loss - 0.6537, iou_score - 0.5953]\n",
      "\n",
      "Epoch: 9\n",
      "valid: 100%|█████████████████████████████████████| 4/4 [00:00<00:00,  6.61it/s, dice_loss - 0.6162, iou_score - 0.6514]\n",
      "------------\n",
      "Validation scores:\n",
      " dice_loss    0.555946\n",
      "iou_score    0.692202\n",
      "dtype: float64\n",
      "------------\n"
     ]
    }
   ],
   "source": [
    "best_iou_score = 0.0\n",
    "test_logs_list = []\n",
    "\n",
    "for i in range(0, EVALUATE_EPOCHS):\n",
    "\n",
    "    # Perform training & validation\n",
    "    print('\\nEpoch: {}'.format(i))\n",
    "    test_logs = valid_epoch.run(valid_loader)\n",
    "    test_logs_list.append(test_logs)\n",
    "\n",
    "    # Save model if a better val IoU score is obtained\n",
    "    if best_iou_score < test_logs['iou_score']:\n",
    "        best_iou_score = test_logs['iou_score']\n",
    "\n",
    "\n",
    "\n",
    "print(f'------------\\nValidation scores:\\n {list_dict_mean(test_logs_list)}\\n------------')"
   ]
  },
  {
   "cell_type": "code",
   "execution_count": 10,
   "metadata": {
    "id": "sdtSlf0KCK7J"
   },
   "outputs": [],
   "source": [
    "import numpy as np"
   ]
  },
  {
   "cell_type": "code",
   "execution_count": 11,
   "metadata": {},
   "outputs": [],
   "source": [
    "a = load_sparce_npz(r\"C:\\diploma\\datasets\\imageTBAD_Full\\masks\\Copy6_184.pickle\")"
   ]
  },
  {
   "cell_type": "code",
   "execution_count": 16,
   "metadata": {},
   "outputs": [
    {
     "data": {
      "image/png": "[encoded data removed]",
      "text/plain": [
       "<Figure size 504x504 with 1 Axes>"
      ]
     },
     "metadata": {
      "needs_background": "light"
     },
     "output_type": "display_data"
    }
   ],
   "source": [
    "plt.figure(figsize=(7,7))\n",
    "plt.imshow(a)\n",
    "plt.axis('off')\n",
    "plt.show()"
   ]
  },
  {
   "cell_type": "code",
   "execution_count": null,
   "metadata": {},
   "outputs": [],
   "source": []
  }
 ],
 "metadata": {
  "accelerator": "TPU",
  "colab": {
   "collapsed_sections": [
    "dAPp4WqjCK6j",
    "YwRmZFLTCK6n",
    "FQ6QQlLtPOL8",
    "CAG7P5SI9GuR",
    "7OwRg-VeCK61",
    "2rMCOaDSCK68",
    "xYoduoG2CK69",
    "GzMjt-FFCK6_"
   ],
   "name": "PyTorchAorta.ipynb",
   "provenance": []
  },
  "kernelspec": {
   "display_name": "Python 3 (ipykernel)",
   "language": "python",
   "name": "python3"
  },
  "language_info": {
   "codemirror_mode": {
    "name": "ipython",
    "version": 3
   },
   "file_extension": ".py",
   "mimetype": "text/x-python",
   "name": "python",
   "nbconvert_exporter": "python",
   "pygments_lexer": "ipython3",
   "version": "3.8.6"
  },
  "toc-showcode": false,
  "toc-showmarkdowntxt": false,
  "toc-showtags": false
 },
 "nbformat": 4,
 "nbformat_minor": 4
}
